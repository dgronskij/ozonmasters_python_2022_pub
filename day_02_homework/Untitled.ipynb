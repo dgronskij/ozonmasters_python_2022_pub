{
 "cells": [
  {
   "cell_type": "code",
   "execution_count": null,
   "id": "736fef7d",
   "metadata": {},
   "outputs": [],
   "source": []
  },
  {
   "cell_type": "markdown",
   "id": "40a60db4",
   "metadata": {},
   "source": [
    "# enumerate. существенное различие итераторов через класс и генераторную функцию"
   ]
  },
  {
   "cell_type": "code",
   "execution_count": 5,
   "id": "737855ea",
   "metadata": {},
   "outputs": [
    {
     "name": "stdout",
     "output_type": "stream",
     "text": [
      "homework_stats.ipynb  README.md  short\tUntitled.ipynb\r\n"
     ]
    }
   ],
   "source": [
    "!ls"
   ]
  },
  {
   "cell_type": "code",
   "execution_count": 6,
   "id": "c3627dbe",
   "metadata": {},
   "outputs": [],
   "source": [
    "!echo '1st line' > delme.txt"
   ]
  },
  {
   "cell_type": "code",
   "execution_count": 8,
   "id": "0d045963",
   "metadata": {},
   "outputs": [],
   "source": [
    "f = open('delme.txt')"
   ]
  },
  {
   "cell_type": "code",
   "execution_count": 9,
   "id": "fbc46036",
   "metadata": {},
   "outputs": [
    {
     "name": "stdout",
     "output_type": "stream",
     "text": [
      "(0, '1st line\\n')\n"
     ]
    }
   ],
   "source": [
    "enumerator = enumerate(f)\n",
    "\n",
    "for pair in enumerator:\n",
    "    print(pair)"
   ]
  },
  {
   "cell_type": "code",
   "execution_count": 20,
   "id": "0c81ba35",
   "metadata": {},
   "outputs": [],
   "source": [
    "for pair in enumerator:\n",
    "    print(pair)"
   ]
  },
  {
   "cell_type": "code",
   "execution_count": 21,
   "id": "854d709c",
   "metadata": {},
   "outputs": [],
   "source": [
    "with open('./delme.txt', 'a') as fout:\n",
    "    print('2nd line', file=fout)"
   ]
  },
  {
   "cell_type": "code",
   "execution_count": 22,
   "id": "59fad36a",
   "metadata": {},
   "outputs": [
    {
     "name": "stdout",
     "output_type": "stream",
     "text": [
      "1st line\r\n",
      "2nd line\r\n"
     ]
    }
   ],
   "source": [
    "!cat ./delme.txt"
   ]
  },
  {
   "cell_type": "code",
   "execution_count": 23,
   "id": "6a1ac9db",
   "metadata": {},
   "outputs": [
    {
     "name": "stdout",
     "output_type": "stream",
     "text": [
      "(1, '2nd line\\n')\n"
     ]
    }
   ],
   "source": [
    "for pair in enumerator:\n",
    "    print(pair)"
   ]
  },
  {
   "cell_type": "code",
   "execution_count": 29,
   "id": "820b8893",
   "metadata": {},
   "outputs": [],
   "source": [
    "for pair in enumerator:\n",
    "    print(pair)"
   ]
  },
  {
   "cell_type": "code",
   "execution_count": null,
   "id": "1992fbd9",
   "metadata": {},
   "outputs": [],
   "source": []
  },
  {
   "cell_type": "code",
   "execution_count": null,
   "id": "7eec26f2",
   "metadata": {},
   "outputs": [],
   "source": []
  },
  {
   "cell_type": "code",
   "execution_count": null,
   "id": "c657ea7e",
   "metadata": {},
   "outputs": [],
   "source": []
  },
  {
   "cell_type": "code",
   "execution_count": 36,
   "id": "65d41d94",
   "metadata": {},
   "outputs": [],
   "source": [
    "\n",
    "def flatten(what):\n",
    "    def _flatten(what, prefix=''):\n",
    "        if isinstance(what, list):\n",
    "            for idx, value in enumerate(what):\n",
    "                yield from _flatten(value, f'{prefix}.{idx}')\n",
    "        elif isinstance(what, dict):\n",
    "            for key, value in what.items():\n",
    "                yield from _flatten(value, f'{prefix}.{key}')\n",
    "        else:\n",
    "            yield prefix, what\n",
    "    \n",
    "    for key, value in _flatten(what):\n",
    "        yield key[1:], value"
   ]
  },
  {
   "cell_type": "code",
   "execution_count": null,
   "id": "6cac9151",
   "metadata": {},
   "outputs": [],
   "source": [
    "def flatten(what, prefix=''):\n",
    "    if isinstance(what, list):\n",
    "        enumerator = enumerate(what)        \n",
    "    elif isinstance(what, dict):\n",
    "        enumerator = what.items()\n",
    "    else:\n",
    "        enumerator = None\n",
    "    \n",
    "    if enumerator:\n",
    "        for key, value in enumerator:\n",
    "            yield from flatten(value, f'{prefix}.{key}')\n",
    "    else:\n",
    "        yield prefix, what"
   ]
  },
  {
   "cell_type": "code",
   "execution_count": 37,
   "id": "67fbaef3",
   "metadata": {},
   "outputs": [],
   "source": [
    "d = {\n",
    "    \"item\": {\n",
    "        \"features\": {\n",
    "            \"quantiles\": [\n",
    "                {\"q50\": 20},\n",
    "                {\"q100\": 40},\n",
    "            ]\n",
    "        },\n",
    "        0: \"hello\",\n",
    "    }\n",
    "}"
   ]
  },
  {
   "cell_type": "code",
   "execution_count": 38,
   "id": "7a8d9a42",
   "metadata": {},
   "outputs": [
    {
     "data": {
      "text/plain": [
       "[('item.features.quantiles.0.q50', 20),\n",
       " ('item.features.quantiles.1.q100', 40),\n",
       " ('item.0', 'hello')]"
      ]
     },
     "execution_count": 38,
     "metadata": {},
     "output_type": "execute_result"
    }
   ],
   "source": [
    "list(flatten(d))"
   ]
  },
  {
   "cell_type": "markdown",
   "id": "1d2d64f4",
   "metadata": {},
   "source": [
    "# zip"
   ]
  },
  {
   "cell_type": "code",
   "execution_count": 50,
   "id": "d2f42e5d",
   "metadata": {},
   "outputs": [],
   "source": [
    "import dis"
   ]
  },
  {
   "cell_type": "code",
   "execution_count": 51,
   "id": "048aa7e2",
   "metadata": {},
   "outputs": [
    {
     "name": "stdout",
     "output_type": "stream",
     "text": [
      "  1           0 LOAD_CONST               0 (1)\n",
      "              2 STORE_NAME               0 (x)\n",
      "              4 LOAD_CONST               1 (None)\n",
      "              6 RETURN_VALUE\n"
     ]
    }
   ],
   "source": [
    "dis.dis('x = 1')"
   ]
  },
  {
   "cell_type": "code",
   "execution_count": 48,
   "id": "037b905a",
   "metadata": {},
   "outputs": [],
   "source": [
    "def zip(*iterables):\n",
    "    helper = [iter(x) for x in iterables]\n",
    "    while True:\n",
    "        try:\n",
    "            yield [next(x) for x in helper]\n",
    "            yield list(next(x) for x in helper)\n",
    "        except StopIteration: \n",
    "            break"
   ]
  },
  {
   "cell_type": "code",
   "execution_count": 49,
   "id": "c5000d37",
   "metadata": {},
   "outputs": [
    {
     "name": "stdout",
     "output_type": "stream",
     "text": [
      "[1, 5]\n",
      "[2, 6]\n"
     ]
    },
    {
     "ename": "RuntimeError",
     "evalue": "generator raised StopIteration",
     "output_type": "error",
     "traceback": [
      "\u001b[0;31m---------------------------------------------------------------------------\u001b[0m",
      "\u001b[0;31mStopIteration\u001b[0m                             Traceback (most recent call last)",
      "\u001b[0;32m/tmp/ipykernel_11185/261113222.py\u001b[0m in \u001b[0;36m<genexpr>\u001b[0;34m(.0)\u001b[0m\n\u001b[1;32m      5\u001b[0m \u001b[0;31m#             yield [next(x) for x in helper]\u001b[0m\u001b[0;34m\u001b[0m\u001b[0;34m\u001b[0m\u001b[0;34m\u001b[0m\u001b[0m\n\u001b[0;32m----> 6\u001b[0;31m             \u001b[0;32myield\u001b[0m \u001b[0mlist\u001b[0m\u001b[0;34m(\u001b[0m\u001b[0mnext\u001b[0m\u001b[0;34m(\u001b[0m\u001b[0mx\u001b[0m\u001b[0;34m)\u001b[0m \u001b[0;32mfor\u001b[0m \u001b[0mx\u001b[0m \u001b[0;32min\u001b[0m \u001b[0mhelper\u001b[0m\u001b[0;34m)\u001b[0m\u001b[0;34m\u001b[0m\u001b[0;34m\u001b[0m\u001b[0m\n\u001b[0m\u001b[1;32m      7\u001b[0m         \u001b[0;32mexcept\u001b[0m \u001b[0mStopIteration\u001b[0m\u001b[0;34m:\u001b[0m\u001b[0;34m\u001b[0m\u001b[0;34m\u001b[0m\u001b[0m\n",
      "\u001b[0;31mStopIteration\u001b[0m: ",
      "\nThe above exception was the direct cause of the following exception:\n",
      "\u001b[0;31mRuntimeError\u001b[0m                              Traceback (most recent call last)",
      "\u001b[0;32m/tmp/ipykernel_11185/1413662032.py\u001b[0m in \u001b[0;36m<module>\u001b[0;34m\u001b[0m\n\u001b[0;32m----> 1\u001b[0;31m \u001b[0;32mfor\u001b[0m \u001b[0mt\u001b[0m \u001b[0;32min\u001b[0m \u001b[0mzip\u001b[0m\u001b[0;34m(\u001b[0m\u001b[0;34m[\u001b[0m\u001b[0;36m1\u001b[0m\u001b[0;34m,\u001b[0m\u001b[0;36m2\u001b[0m\u001b[0;34m]\u001b[0m\u001b[0;34m,\u001b[0m \u001b[0;34m[\u001b[0m\u001b[0;36m5\u001b[0m\u001b[0;34m,\u001b[0m\u001b[0;36m6\u001b[0m\u001b[0;34m,\u001b[0m\u001b[0;36m7\u001b[0m\u001b[0;34m]\u001b[0m\u001b[0;34m)\u001b[0m\u001b[0;34m:\u001b[0m\u001b[0;34m\u001b[0m\u001b[0;34m\u001b[0m\u001b[0m\n\u001b[0m\u001b[1;32m      2\u001b[0m     \u001b[0mprint\u001b[0m\u001b[0;34m(\u001b[0m\u001b[0mt\u001b[0m\u001b[0;34m)\u001b[0m\u001b[0;34m\u001b[0m\u001b[0;34m\u001b[0m\u001b[0m\n",
      "\u001b[0;32m/tmp/ipykernel_11185/261113222.py\u001b[0m in \u001b[0;36mzip\u001b[0;34m(*iterables)\u001b[0m\n\u001b[1;32m      4\u001b[0m         \u001b[0;32mtry\u001b[0m\u001b[0;34m:\u001b[0m\u001b[0;34m\u001b[0m\u001b[0;34m\u001b[0m\u001b[0m\n\u001b[1;32m      5\u001b[0m \u001b[0;31m#             yield [next(x) for x in helper]\u001b[0m\u001b[0;34m\u001b[0m\u001b[0;34m\u001b[0m\u001b[0;34m\u001b[0m\u001b[0m\n\u001b[0;32m----> 6\u001b[0;31m             \u001b[0;32myield\u001b[0m \u001b[0mlist\u001b[0m\u001b[0;34m(\u001b[0m\u001b[0mnext\u001b[0m\u001b[0;34m(\u001b[0m\u001b[0mx\u001b[0m\u001b[0;34m)\u001b[0m \u001b[0;32mfor\u001b[0m \u001b[0mx\u001b[0m \u001b[0;32min\u001b[0m \u001b[0mhelper\u001b[0m\u001b[0;34m)\u001b[0m\u001b[0;34m\u001b[0m\u001b[0;34m\u001b[0m\u001b[0m\n\u001b[0m\u001b[1;32m      7\u001b[0m         \u001b[0;32mexcept\u001b[0m \u001b[0mStopIteration\u001b[0m\u001b[0;34m:\u001b[0m\u001b[0;34m\u001b[0m\u001b[0;34m\u001b[0m\u001b[0m\n\u001b[1;32m      8\u001b[0m             \u001b[0;32mbreak\u001b[0m\u001b[0;34m\u001b[0m\u001b[0;34m\u001b[0m\u001b[0m\n",
      "\u001b[0;31mRuntimeError\u001b[0m: generator raised StopIteration"
     ]
    }
   ],
   "source": [
    "for t in zip([1,2], [5,6,7]):\n",
    "    print(t)\n"
   ]
  },
  {
   "cell_type": "markdown",
   "id": "f816a210",
   "metadata": {},
   "source": [
    "# Sentinel pattern"
   ]
  },
  {
   "cell_type": "code",
   "execution_count": 90,
   "id": "1107a369",
   "metadata": {},
   "outputs": [],
   "source": [
    "# some_module\n",
    "\n",
    "_NOT_SET = object()\n",
    "\n",
    "def our_next(iterator, default=_NOT_SET):\n",
    "    try:\n",
    "        return next(iterator)\n",
    "    except StopIteration:\n",
    "        if default is not NOT_SET:\n",
    "            return default\n",
    "        raise"
   ]
  },
  {
   "cell_type": "code",
   "execution_count": 88,
   "id": "43a3d3ad",
   "metadata": {},
   "outputs": [],
   "source": [
    "from typing import Iterator, Any"
   ]
  },
  {
   "cell_type": "code",
   "execution_count": 89,
   "id": "3799d06d",
   "metadata": {},
   "outputs": [],
   "source": [
    "class NOT_FOUND_TYPE:\n",
    "    pass\n",
    "NOT_FOUND = NOT_FOUND_TYPE()"
   ]
  },
  {
   "cell_type": "code",
   "execution_count": null,
   "id": "34535711",
   "metadata": {},
   "outputs": [],
   "source": []
  },
  {
   "cell_type": "code",
   "execution_count": null,
   "id": "d955bf29",
   "metadata": {},
   "outputs": [],
   "source": [
    "def call_3rd_party_api() -> Union[SomeType1, SomeType2, NOT_FOUND_TYPE]:\n",
    "    ..."
   ]
  },
  {
   "cell_type": "code",
   "execution_count": null,
   "id": "eea44bd6",
   "metadata": {},
   "outputs": [],
   "source": [
    "def our_next(iterator: Iterator, default: Any = _NOT_SET):\n",
    "    try:\n",
    "        return next(iterator)\n",
    "    except StopIteration:\n",
    "        if default is not NOT_SET:\n",
    "            return default\n",
    "        raise"
   ]
  },
  {
   "cell_type": "code",
   "execution_count": null,
   "id": "17f8c8a7",
   "metadata": {},
   "outputs": [],
   "source": [
    "from some_module import *"
   ]
  },
  {
   "cell_type": "code",
   "execution_count": null,
   "id": "d0d048d0",
   "metadata": {},
   "outputs": [],
   "source": [
    "from some_module import our_next, NOT_SET\n",
    "our_next(iterator, NOT_SET)"
   ]
  },
  {
   "cell_type": "code",
   "execution_count": 65,
   "id": "077f4751",
   "metadata": {},
   "outputs": [],
   "source": [
    "a = 4"
   ]
  },
  {
   "cell_type": "code",
   "execution_count": 87,
   "id": "4f902f01",
   "metadata": {},
   "outputs": [
    {
     "data": {
      "text/plain": [
       "140432644901264"
      ]
     },
     "execution_count": 87,
     "metadata": {},
     "output_type": "execute_result"
    }
   ],
   "source": [
    "id(4)"
   ]
  },
  {
   "cell_type": "code",
   "execution_count": 62,
   "id": "32cba0e6",
   "metadata": {},
   "outputs": [
    {
     "name": "stdout",
     "output_type": "stream",
     "text": [
      "Help on function our_next in module __main__:\n",
      "\n",
      "our_next(*args)\n",
      "    # def our_next(iterator, default=):\n",
      "\n"
     ]
    }
   ],
   "source": [
    "help(our_next)"
   ]
  },
  {
   "cell_type": "code",
   "execution_count": 56,
   "id": "62dd5eef",
   "metadata": {},
   "outputs": [],
   "source": [
    "def gen():\n",
    "    yield 1"
   ]
  },
  {
   "cell_type": "code",
   "execution_count": 57,
   "id": "49896ff3",
   "metadata": {},
   "outputs": [],
   "source": [
    "g = gen()"
   ]
  },
  {
   "cell_type": "code",
   "execution_count": 58,
   "id": "ef212599",
   "metadata": {},
   "outputs": [
    {
     "data": {
      "text/plain": [
       "1"
      ]
     },
     "execution_count": 58,
     "metadata": {},
     "output_type": "execute_result"
    }
   ],
   "source": [
    "next(g, None)"
   ]
  },
  {
   "cell_type": "code",
   "execution_count": 60,
   "id": "9294279f",
   "metadata": {},
   "outputs": [
    {
     "data": {
      "text/plain": [
       "True"
      ]
     },
     "execution_count": 60,
     "metadata": {},
     "output_type": "execute_result"
    }
   ],
   "source": [
    "next(g, None) is None"
   ]
  },
  {
   "cell_type": "code",
   "execution_count": null,
   "id": "39311ba8",
   "metadata": {},
   "outputs": [],
   "source": [
    "# def range(slc):\n",
    "#     step = slc.step if slc.step is None or 1"
   ]
  },
  {
   "cell_type": "code",
   "execution_count": null,
   "id": "5d19c370",
   "metadata": {},
   "outputs": [],
   "source": [
    "if value # <=> bool(value)"
   ]
  },
  {
   "cell_type": "code",
   "execution_count": null,
   "id": "139f865f",
   "metadata": {},
   "outputs": [],
   "source": [
    "next(iterator, default)"
   ]
  },
  {
   "cell_type": "code",
   "execution_count": null,
   "id": "251f8413",
   "metadata": {},
   "outputs": [],
   "source": []
  },
  {
   "cell_type": "code",
   "execution_count": null,
   "id": "eed2793e",
   "metadata": {},
   "outputs": [],
   "source": []
  },
  {
   "cell_type": "code",
   "execution_count": null,
   "id": "6ac4d8b6",
   "metadata": {},
   "outputs": [],
   "source": []
  },
  {
   "cell_type": "code",
   "execution_count": null,
   "id": "fa972a65",
   "metadata": {},
   "outputs": [],
   "source": []
  },
  {
   "cell_type": "code",
   "execution_count": null,
   "id": "7b819a14",
   "metadata": {},
   "outputs": [],
   "source": []
  },
  {
   "cell_type": "code",
   "execution_count": null,
   "id": "e7cdbe82",
   "metadata": {},
   "outputs": [],
   "source": []
  },
  {
   "cell_type": "code",
   "execution_count": null,
   "id": "c6d2d468",
   "metadata": {},
   "outputs": [],
   "source": []
  },
  {
   "cell_type": "code",
   "execution_count": null,
   "id": "95993a77",
   "metadata": {},
   "outputs": [],
   "source": []
  },
  {
   "cell_type": "markdown",
   "id": "3cc0d771",
   "metadata": {},
   "source": [
    "# Объектная модель\n",
    "\n",
    "## Иерархия сущностей"
   ]
  },
  {
   "cell_type": "code",
   "execution_count": null,
   "id": "88fe6b72",
   "metadata": {},
   "outputs": [],
   "source": [
    "иерархий сущностей"
   ]
  },
  {
   "cell_type": "markdown",
   "id": "f9398ddc",
   "metadata": {},
   "source": []
  },
  {
   "cell_type": "code",
   "execution_count": null,
   "id": "2ff219f2",
   "metadata": {},
   "outputs": [],
   "source": [
    "next()"
   ]
  },
  {
   "cell_type": "code",
   "execution_count": null,
   "id": "82517694",
   "metadata": {},
   "outputs": [],
   "source": [
    "ва"
   ]
  },
  {
   "cell_type": "code",
   "execution_count": null,
   "id": "f7b4437d",
   "metadata": {},
   "outputs": [],
   "source": []
  },
  {
   "cell_type": "code",
   "execution_count": null,
   "id": "c71d8fce",
   "metadata": {},
   "outputs": [],
   "source": []
  },
  {
   "cell_type": "code",
   "execution_count": null,
   "id": "792073bc",
   "metadata": {},
   "outputs": [],
   "source": []
  },
  {
   "cell_type": "code",
   "execution_count": 31,
   "id": "ad417da7",
   "metadata": {},
   "outputs": [],
   "source": [
    "class Foo():\n",
    "    ..."
   ]
  },
  {
   "cell_type": "code",
   "execution_count": 37,
   "id": "cb069832",
   "metadata": {},
   "outputs": [],
   "source": [
    "f = Foo()"
   ]
  },
  {
   "cell_type": "code",
   "execution_count": 38,
   "id": "f758711a",
   "metadata": {},
   "outputs": [
    {
     "ename": "AttributeError",
     "evalue": "'Foo' object has no attribute 'a'",
     "output_type": "error",
     "traceback": [
      "\u001b[0;31m---------------------------------------------------------------------------\u001b[0m",
      "\u001b[0;31mAttributeError\u001b[0m                            Traceback (most recent call last)",
      "\u001b[0;32m/tmp/ipykernel_27461/3992600740.py\u001b[0m in \u001b[0;36m<module>\u001b[0;34m\u001b[0m\n\u001b[0;32m----> 1\u001b[0;31m \u001b[0mf\u001b[0m\u001b[0;34m.\u001b[0m\u001b[0ma\u001b[0m\u001b[0;34m\u001b[0m\u001b[0;34m\u001b[0m\u001b[0m\n\u001b[0m",
      "\u001b[0;31mAttributeError\u001b[0m: 'Foo' object has no attribute 'a'"
     ]
    }
   ],
   "source": [
    "f.a"
   ]
  },
  {
   "cell_type": "code",
   "execution_count": 48,
   "id": "ef0b9c5b",
   "metadata": {},
   "outputs": [
    {
     "data": {
      "text/plain": [
       "(140479505886896, 140479505886896)"
      ]
     },
     "execution_count": 48,
     "metadata": {},
     "output_type": "execute_result"
    }
   ],
   "source": [
    "id(Foo()), id(Foo())"
   ]
  },
  {
   "cell_type": "markdown",
   "id": "93951d0d",
   "metadata": {},
   "source": []
  },
  {
   "cell_type": "code",
   "execution_count": null,
   "id": "bbe8b657",
   "metadata": {},
   "outputs": [],
   "source": []
  },
  {
   "cell_type": "code",
   "execution_count": null,
   "id": "f2e0b53d",
   "metadata": {},
   "outputs": [],
   "source": []
  },
  {
   "cell_type": "code",
   "execution_count": null,
   "id": "3a3cb717",
   "metadata": {},
   "outputs": [],
   "source": []
  },
  {
   "cell_type": "code",
   "execution_count": null,
   "id": "da9cf3c6",
   "metadata": {},
   "outputs": [],
   "source": []
  },
  {
   "cell_type": "code",
   "execution_count": null,
   "id": "8b9644d1",
   "metadata": {},
   "outputs": [],
   "source": [
    "f.a = "
   ]
  },
  {
   "cell_type": "code",
   "execution_count": 33,
   "id": "ebde7d02",
   "metadata": {},
   "outputs": [
    {
     "data": {
      "text/plain": [
       "True"
      ]
     },
     "execution_count": 33,
     "metadata": {},
     "output_type": "execute_result"
    }
   ],
   "source": [
    "isinstance(Foo(), object)"
   ]
  },
  {
   "cell_type": "code",
   "execution_count": 34,
   "id": "8fc4b1de",
   "metadata": {},
   "outputs": [
    {
     "data": {
      "text/plain": [
       "True"
      ]
     },
     "execution_count": 34,
     "metadata": {},
     "output_type": "execute_result"
    }
   ],
   "source": [
    "isinstance(Foo, object)"
   ]
  },
  {
   "cell_type": "code",
   "execution_count": 35,
   "id": "4768c514",
   "metadata": {},
   "outputs": [
    {
     "data": {
      "text/plain": [
       "__main__.Foo"
      ]
     },
     "execution_count": 35,
     "metadata": {},
     "output_type": "execute_result"
    }
   ],
   "source": [
    "type(Foo())"
   ]
  },
  {
   "cell_type": "code",
   "execution_count": 36,
   "id": "91a60d22",
   "metadata": {},
   "outputs": [
    {
     "data": {
      "text/plain": [
       "type"
      ]
     },
     "execution_count": 36,
     "metadata": {},
     "output_type": "execute_result"
    }
   ],
   "source": [
    "type(Foo)"
   ]
  },
  {
   "cell_type": "code",
   "execution_count": null,
   "id": "7f957042",
   "metadata": {},
   "outputs": [],
   "source": [
    "isinstance"
   ]
  },
  {
   "cell_type": "code",
   "execution_count": 28,
   "id": "c97e5e44",
   "metadata": {},
   "outputs": [
    {
     "data": {
      "text/plain": [
       "True"
      ]
     },
     "execution_count": 28,
     "metadata": {},
     "output_type": "execute_result"
    }
   ],
   "source": [
    "isinstance(Foo(), object)"
   ]
  },
  {
   "cell_type": "code",
   "execution_count": 29,
   "id": "3b065f0f",
   "metadata": {},
   "outputs": [
    {
     "data": {
      "text/plain": [
       "__main__.Foo"
      ]
     },
     "execution_count": 29,
     "metadata": {},
     "output_type": "execute_result"
    }
   ],
   "source": [
    "type(Foo())"
   ]
  },
  {
   "cell_type": "code",
   "execution_count": 30,
   "id": "14146cb2",
   "metadata": {},
   "outputs": [
    {
     "data": {
      "text/plain": [
       "type"
      ]
     },
     "execution_count": 30,
     "metadata": {},
     "output_type": "execute_result"
    }
   ],
   "source": [
    "type(Foo)"
   ]
  },
  {
   "cell_type": "code",
   "execution_count": null,
   "id": "d3f61e42",
   "metadata": {},
   "outputs": [],
   "source": []
  }
 ],
 "metadata": {
  "kernelspec": {
   "display_name": "Python 3.6.9 64-bit ('skillserver': pipenv)",
   "language": "python",
   "name": "python36964bitskillserverpipenv1508bf2dd7cd454382917e84543e1f3f"
  },
  "language_info": {
   "codemirror_mode": {
    "name": "ipython",
    "version": 3
   },
   "file_extension": ".py",
   "mimetype": "text/x-python",
   "name": "python",
   "nbconvert_exporter": "python",
   "pygments_lexer": "ipython3",
   "version": "3.9.5"
  },
  "toc": {
   "base_numbering": 1,
   "nav_menu": {},
   "number_sections": true,
   "sideBar": true,
   "skip_h1_title": false,
   "title_cell": "Table of Contents",
   "title_sidebar": "Contents",
   "toc_cell": false,
   "toc_position": {},
   "toc_section_display": true,
   "toc_window_display": false
  }
 },
 "nbformat": 4,
 "nbformat_minor": 5
}
