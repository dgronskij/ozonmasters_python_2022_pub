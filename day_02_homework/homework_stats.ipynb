{
 "cells": [
  {
   "cell_type": "code",
   "execution_count": 1,
   "id": "71699a20",
   "metadata": {},
   "outputs": [
    {
     "name": "stdout",
     "output_type": "stream",
     "text": [
      "Ignoring colorama: markers 'python_version >= \"3.7\" and python_full_version < \"3.0.0\" and platform_system == \"Windows\" or platform_system == \"Windows\" and python_version >= \"3.7\" and python_full_version >= \"3.5.0\"' don't match your environment\n",
      "Requirement already satisfied: aiohttp==3.8.1 in /home/d.gronsky/miniconda3/lib/python3.9/site-packages (from -r /proc/self/fd/12 (line 1)) (3.8.1)\n",
      "Requirement already satisfied: aiosignal==1.2.0 in /home/d.gronsky/miniconda3/lib/python3.9/site-packages (from -r /proc/self/fd/12 (line 2)) (1.2.0)\n",
      "Requirement already satisfied: anyio==3.5.0 in /home/d.gronsky/miniconda3/lib/python3.9/site-packages (from -r /proc/self/fd/12 (line 3)) (3.5.0)\n",
      "Requirement already satisfied: asgiref==3.5.0 in /home/d.gronsky/miniconda3/lib/python3.9/site-packages (from -r /proc/self/fd/12 (line 4)) (3.5.0)\n",
      "Requirement already satisfied: async-timeout==4.0.2 in /home/d.gronsky/miniconda3/lib/python3.9/site-packages (from -r /proc/self/fd/12 (line 5)) (4.0.2)\n",
      "Requirement already satisfied: attrs==21.4.0 in /home/d.gronsky/miniconda3/lib/python3.9/site-packages (from -r /proc/self/fd/12 (line 6)) (21.4.0)\n",
      "Requirement already satisfied: cachetools==5.0.0 in /home/d.gronsky/miniconda3/lib/python3.9/site-packages (from -r /proc/self/fd/12 (line 7)) (5.0.0)\n",
      "Requirement already satisfied: certifi==2021.10.8 in /home/d.gronsky/miniconda3/lib/python3.9/site-packages (from -r /proc/self/fd/12 (line 8)) (2021.10.8)\n",
      "Requirement already satisfied: charset-normalizer==2.0.12 in /home/d.gronsky/miniconda3/lib/python3.9/site-packages (from -r /proc/self/fd/12 (line 9)) (2.0.12)\n",
      "Requirement already satisfied: click==8.0.4 in /home/d.gronsky/miniconda3/lib/python3.9/site-packages (from -r /proc/self/fd/12 (line 10)) (8.0.4)\n",
      "Requirement already satisfied: dateutils==0.6.12 in /home/d.gronsky/miniconda3/lib/python3.9/site-packages (from -r /proc/self/fd/12 (line 12)) (0.6.12)\n",
      "Requirement already satisfied: fastapi==0.75.0 in /home/d.gronsky/miniconda3/lib/python3.9/site-packages (from -r /proc/self/fd/12 (line 13)) (0.75.0)\n",
      "Requirement already satisfied: frozenlist==1.3.0 in /home/d.gronsky/miniconda3/lib/python3.9/site-packages (from -r /proc/self/fd/12 (line 14)) (1.3.0)\n",
      "Requirement already satisfied: h11==0.13.0 in /home/d.gronsky/miniconda3/lib/python3.9/site-packages (from -r /proc/self/fd/12 (line 15)) (0.13.0)\n",
      "Requirement already satisfied: idna==3.3 in /home/d.gronsky/miniconda3/lib/python3.9/site-packages (from -r /proc/self/fd/12 (line 16)) (3.3)\n",
      "Requirement already satisfied: multidict==6.0.2 in /home/d.gronsky/miniconda3/lib/python3.9/site-packages (from -r /proc/self/fd/12 (line 17)) (6.0.2)\n",
      "Requirement already satisfied: pydantic==1.9.0 in /home/d.gronsky/miniconda3/lib/python3.9/site-packages (from -r /proc/self/fd/12 (line 18)) (1.9.0)\n",
      "Requirement already satisfied: pytelegrambotapi==4.4.0 in /home/d.gronsky/miniconda3/lib/python3.9/site-packages (from -r /proc/self/fd/12 (line 19)) (4.4.0)\n",
      "Requirement already satisfied: python-dateutil==2.8.2 in /home/d.gronsky/miniconda3/lib/python3.9/site-packages (from -r /proc/self/fd/12 (line 20)) (2.8.2)\n",
      "Requirement already satisfied: python-dotenv==0.19.2 in /home/d.gronsky/miniconda3/lib/python3.9/site-packages (from -r /proc/self/fd/12 (line 21)) (0.19.2)\n",
      "Requirement already satisfied: python-gitlab==3.2.0 in /home/d.gronsky/miniconda3/lib/python3.9/site-packages (from -r /proc/self/fd/12 (line 22)) (3.2.0)\n",
      "Requirement already satisfied: python-multipart==0.0.5 in /home/d.gronsky/miniconda3/lib/python3.9/site-packages (from -r /proc/self/fd/12 (line 23)) (0.0.5)\n",
      "Requirement already satisfied: pytz==2021.3 in /home/d.gronsky/miniconda3/lib/python3.9/site-packages (from -r /proc/self/fd/12 (line 24)) (2021.3)\n",
      "Requirement already satisfied: pyyaml==6.0 in /home/d.gronsky/miniconda3/lib/python3.9/site-packages (from -r /proc/self/fd/12 (line 25)) (6.0)\n",
      "Requirement already satisfied: requests-toolbelt==0.9.1 in /home/d.gronsky/miniconda3/lib/python3.9/site-packages (from -r /proc/self/fd/12 (line 26)) (0.9.1)\n",
      "Requirement already satisfied: requests==2.27.1 in /home/d.gronsky/miniconda3/lib/python3.9/site-packages (from -r /proc/self/fd/12 (line 27)) (2.27.1)\n",
      "Requirement already satisfied: six==1.16.0 in /home/d.gronsky/miniconda3/lib/python3.9/site-packages (from -r /proc/self/fd/12 (line 28)) (1.16.0)\n",
      "Requirement already satisfied: sniffio==1.2.0 in /home/d.gronsky/miniconda3/lib/python3.9/site-packages (from -r /proc/self/fd/12 (line 29)) (1.2.0)\n",
      "Requirement already satisfied: starlette==0.17.1 in /home/d.gronsky/miniconda3/lib/python3.9/site-packages (from -r /proc/self/fd/12 (line 30)) (0.17.1)\n",
      "Requirement already satisfied: tinydb==4.7.0 in /home/d.gronsky/miniconda3/lib/python3.9/site-packages (from -r /proc/self/fd/12 (line 31)) (4.7.0)\n",
      "Requirement already satisfied: typing-extensions==4.1.1 in /home/d.gronsky/miniconda3/lib/python3.9/site-packages (from -r /proc/self/fd/12 (line 32)) (4.1.1)\n",
      "Requirement already satisfied: urllib3==1.26.8 in /home/d.gronsky/miniconda3/lib/python3.9/site-packages (from -r /proc/self/fd/12 (line 33)) (1.26.8)\n",
      "Requirement already satisfied: uvicorn==0.17.5 in /home/d.gronsky/miniconda3/lib/python3.9/site-packages (from -r /proc/self/fd/12 (line 34)) (0.17.5)\n",
      "Requirement already satisfied: yarl==1.7.2 in /home/d.gronsky/miniconda3/lib/python3.9/site-packages (from -r /proc/self/fd/12 (line 35)) (1.7.2)\n"
     ]
    }
   ],
   "source": [
    "!pip install -r <(poetry export --without-hashes)"
   ]
  },
  {
   "cell_type": "code",
   "execution_count": 2,
   "id": "e26a0eed",
   "metadata": {},
   "outputs": [],
   "source": [
    "import sys\n",
    "\n",
    "import os\n",
    "\n",
    "import om_course_automation\n",
    "\n",
    "import urllib3\n",
    "urllib3.disable_warnings(urllib3.exceptions.InsecureRequestWarning)\n",
    "\n",
    "from om_course_automation import utils as U"
   ]
  },
  {
   "cell_type": "code",
   "execution_count": 3,
   "id": "6bef705f",
   "metadata": {},
   "outputs": [],
   "source": [
    "gl = U.get_gitlab_client()"
   ]
  },
  {
   "cell_type": "code",
   "execution_count": 4,
   "id": "8a0a9a95",
   "metadata": {},
   "outputs": [],
   "source": [
    "GLO = U.GLO"
   ]
  },
  {
   "cell_type": "code",
   "execution_count": 5,
   "id": "059819db",
   "metadata": {},
   "outputs": [],
   "source": [
    "def get_notes(mr: GLO.ProjectMergeRequest):\n",
    "    return mr.notes.list(\n",
    "        all=True,\n",
    "        as_list=True,\n",
    "        sort=\"desc\",\n",
    "        order_by=\"created_at\",\n",
    "    )"
   ]
  },
  {
   "cell_type": "code",
   "execution_count": 6,
   "id": "3d499eed",
   "metadata": {},
   "outputs": [],
   "source": [
    "from om_course_automation import singletons as SGL"
   ]
  },
  {
   "cell_type": "code",
   "execution_count": 7,
   "id": "5016e2ba",
   "metadata": {},
   "outputs": [],
   "source": [
    "url = \\\n",
    "'https://docs.google.com/spreadsheets/d/e/2PACX-1vRLD3BfidA72r1RknPDlyd37nARn0J64LVkR-fAGb_GT6_1kp4SD1EyxxwhfUtu43a3Ervi_QMc5b98/pub?gid=0&single=true&output=tsv'"
   ]
  },
  {
   "cell_type": "code",
   "execution_count": 37,
   "id": "94438883",
   "metadata": {},
   "outputs": [],
   "source": [
    "data = SGL.hw_facade._get_spreadsheet_tsv(url)"
   ]
  },
  {
   "cell_type": "code",
   "execution_count": 9,
   "id": "67ff45a3",
   "metadata": {},
   "outputs": [],
   "source": [
    "import pandas as pd"
   ]
  },
  {
   "cell_type": "code",
   "execution_count": 38,
   "id": "73f2956f",
   "metadata": {},
   "outputs": [],
   "source": [
    "df = pd.DataFrame(data.values())"
   ]
  },
  {
   "cell_type": "code",
   "execution_count": 39,
   "id": "831ba60c",
   "metadata": {},
   "outputs": [],
   "source": [
    "df['base'] = df['базовый трэк сдан'] == 'TRUE'\n",
    "df['adv'] = df['advanced трэк сдан'] == 'TRUE'"
   ]
  },
  {
   "cell_type": "code",
   "execution_count": 40,
   "id": "abbf0ca6",
   "metadata": {},
   "outputs": [],
   "source": [
    "from tqdm.auto import tqdm"
   ]
  },
  {
   "cell_type": "code",
   "execution_count": 41,
   "id": "bb0ce590",
   "metadata": {},
   "outputs": [],
   "source": [
    "import tinydb"
   ]
  },
  {
   "cell_type": "code",
   "execution_count": 42,
   "id": "7473fc4e",
   "metadata": {},
   "outputs": [],
   "source": [
    "from typing import Iterator, Tuple"
   ]
  },
  {
   "cell_type": "code",
   "execution_count": 46,
   "id": "bd22f19e",
   "metadata": {},
   "outputs": [],
   "source": [
    "def _iter_homework_mrs(\n",
    "    namespace: str = 'python_2_2022',\n",
    ") -> Iterator[Tuple[GLO.projects.Project, GLO.MergeRequest]]:\n",
    "    self = SGL.hw_facade\n",
    "    \n",
    "    \n",
    "    namespace_group = self._gl.groups.get(namespace)\n",
    "    mrs: List[\n",
    "        GLO.merge_requests.GroupMergeRequest\n",
    "    ] = namespace_group.mergerequests.list(all=True, state=\"closed\")\n",
    "    for mr in mrs:\n",
    "        prj = self._gl.projects.get(mr.project_id)\n",
    "        if prj.name != 'day_02_homework':\n",
    "            continue\n",
    "        username = prj.namespace[\"name\"]\n",
    "        if not self._users_db.search(tinydb.Query().username == username):\n",
    "            self.logger.info(\n",
    "                \"Skipping MR id=%r for project %r since there is no user %r in the db\",\n",
    "                mr.id,\n",
    "                prj.path_with_namespace,\n",
    "                username,\n",
    "            )\n",
    "            continue\n",
    "        yield prj, prj.mergerequests.get(mr.iid)"
   ]
  },
  {
   "cell_type": "code",
   "execution_count": 47,
   "id": "43f8fcc5",
   "metadata": {},
   "outputs": [],
   "source": [
    "stats = []\n"
   ]
  },
  {
   "cell_type": "code",
   "execution_count": 48,
   "id": "d4b60fef",
   "metadata": {},
   "outputs": [
    {
     "data": {
      "application/vnd.jupyter.widget-view+json": {
       "model_id": "3a03334dd05942a8aa779256972aa6a2",
       "version_major": 2,
       "version_minor": 0
      },
      "text/plain": [
       "0it [00:00, ?it/s]"
      ]
     },
     "metadata": {},
     "output_type": "display_data"
    }
   ],
   "source": [
    "for prj, mr in tqdm(_iter_homework_mrs()):\n",
    "    if not(\n",
    "        mr.closed_by\n",
    "        and mr.closed_by.get('username') in ('dgronskiy', 'iporyadkov')\n",
    "    ):\n",
    "        continue\n",
    "    \n",
    "    iterations = 1\n",
    "    for n in reversed(get_notes(mr)):\n",
    "        if n.body == 'marked this merge request as **ready**':\n",
    "            iterations += 1\n",
    "    \n",
    "    stats.append({\n",
    "        'created_at': mr.created_at,\n",
    "        'iterations': iterations,\n",
    "        'username': prj.namespace[\"name\"]\n",
    "    })"
   ]
  },
  {
   "cell_type": "code",
   "execution_count": 49,
   "id": "0192c6b5",
   "metadata": {},
   "outputs": [],
   "source": [
    "sdf = pd.DataFrame(stats)"
   ]
  },
  {
   "cell_type": "code",
   "execution_count": 50,
   "id": "f980a77a",
   "metadata": {},
   "outputs": [],
   "source": [
    "mask = df.task_01 != ''"
   ]
  },
  {
   "cell_type": "code",
   "execution_count": 51,
   "id": "b60d4a84",
   "metadata": {},
   "outputs": [],
   "source": [
    "m = sdf.merge(df[mask].copy(),\n",
    "          left_on='username',\n",
    "          right_on='gitlab_username')"
   ]
  },
  {
   "cell_type": "code",
   "execution_count": 52,
   "id": "0a43c3b4",
   "metadata": {},
   "outputs": [
    {
     "data": {
      "text/plain": [
       "(43, 23)"
      ]
     },
     "execution_count": 52,
     "metadata": {},
     "output_type": "execute_result"
    }
   ],
   "source": [
    "m.shape"
   ]
  },
  {
   "cell_type": "code",
   "execution_count": null,
   "id": "9d2b8130",
   "metadata": {},
   "outputs": [],
   "source": []
  },
  {
   "cell_type": "code",
   "execution_count": 53,
   "id": "0cd4bc65",
   "metadata": {},
   "outputs": [
    {
     "data": {
      "text/plain": [
       "iterations\n",
       "1    0.700000\n",
       "2    1.000000\n",
       "3    0.888889\n",
       "4    1.000000\n",
       "6    1.000000\n",
       "Name: base, dtype: float64"
      ]
     },
     "execution_count": 53,
     "metadata": {},
     "output_type": "execute_result"
    }
   ],
   "source": [
    "m.groupby('iterations')['base'].mean()"
   ]
  },
  {
   "cell_type": "code",
   "execution_count": 63,
   "id": "8d53460b",
   "metadata": {},
   "outputs": [],
   "source": [
    "deadline = pd.Timestamp('2022-03-15T00:01:00.000Z')"
   ]
  },
  {
   "cell_type": "code",
   "execution_count": 64,
   "id": "ff8682c9",
   "metadata": {},
   "outputs": [],
   "source": [
    "m['days_to_deadline'] = (\n",
    "    deadline - pd.to_datetime(m.created_at)\n",
    ").apply(lambda td:td.days)"
   ]
  },
  {
   "cell_type": "code",
   "execution_count": 68,
   "id": "77cd3a32",
   "metadata": {},
   "outputs": [
    {
     "data": {
      "text/html": [
       "<div>\n",
       "<style scoped>\n",
       "    .dataframe tbody tr th:only-of-type {\n",
       "        vertical-align: middle;\n",
       "    }\n",
       "\n",
       "    .dataframe tbody tr th {\n",
       "        vertical-align: top;\n",
       "    }\n",
       "\n",
       "    .dataframe thead tr th {\n",
       "        text-align: left;\n",
       "    }\n",
       "\n",
       "    .dataframe thead tr:last-of-type th {\n",
       "        text-align: right;\n",
       "    }\n",
       "</style>\n",
       "<table border=\"1\" class=\"dataframe\">\n",
       "  <thead>\n",
       "    <tr>\n",
       "      <th></th>\n",
       "      <th colspan=\"2\" halign=\"left\">base</th>\n",
       "      <th colspan=\"2\" halign=\"left\">adv</th>\n",
       "    </tr>\n",
       "    <tr>\n",
       "      <th></th>\n",
       "      <th>mean</th>\n",
       "      <th>size</th>\n",
       "      <th>mean</th>\n",
       "      <th>size</th>\n",
       "    </tr>\n",
       "    <tr>\n",
       "      <th>days_to_deadline</th>\n",
       "      <th></th>\n",
       "      <th></th>\n",
       "      <th></th>\n",
       "      <th></th>\n",
       "    </tr>\n",
       "  </thead>\n",
       "  <tbody>\n",
       "    <tr>\n",
       "      <th>0</th>\n",
       "      <td>0.000000</td>\n",
       "      <td>2</td>\n",
       "      <td>0.000000</td>\n",
       "      <td>2</td>\n",
       "    </tr>\n",
       "    <tr>\n",
       "      <th>1</th>\n",
       "      <td>0.833333</td>\n",
       "      <td>6</td>\n",
       "      <td>0.500000</td>\n",
       "      <td>6</td>\n",
       "    </tr>\n",
       "    <tr>\n",
       "      <th>2</th>\n",
       "      <td>1.000000</td>\n",
       "      <td>4</td>\n",
       "      <td>0.000000</td>\n",
       "      <td>4</td>\n",
       "    </tr>\n",
       "    <tr>\n",
       "      <th>3</th>\n",
       "      <td>1.000000</td>\n",
       "      <td>3</td>\n",
       "      <td>1.000000</td>\n",
       "      <td>3</td>\n",
       "    </tr>\n",
       "    <tr>\n",
       "      <th>4</th>\n",
       "      <td>1.000000</td>\n",
       "      <td>2</td>\n",
       "      <td>0.000000</td>\n",
       "      <td>2</td>\n",
       "    </tr>\n",
       "    <tr>\n",
       "      <th>5</th>\n",
       "      <td>1.000000</td>\n",
       "      <td>3</td>\n",
       "      <td>0.666667</td>\n",
       "      <td>3</td>\n",
       "    </tr>\n",
       "    <tr>\n",
       "      <th>6</th>\n",
       "      <td>1.000000</td>\n",
       "      <td>4</td>\n",
       "      <td>0.750000</td>\n",
       "      <td>4</td>\n",
       "    </tr>\n",
       "    <tr>\n",
       "      <th>7</th>\n",
       "      <td>1.000000</td>\n",
       "      <td>5</td>\n",
       "      <td>0.600000</td>\n",
       "      <td>5</td>\n",
       "    </tr>\n",
       "    <tr>\n",
       "      <th>8</th>\n",
       "      <td>1.000000</td>\n",
       "      <td>1</td>\n",
       "      <td>1.000000</td>\n",
       "      <td>1</td>\n",
       "    </tr>\n",
       "    <tr>\n",
       "      <th>9</th>\n",
       "      <td>1.000000</td>\n",
       "      <td>2</td>\n",
       "      <td>0.000000</td>\n",
       "      <td>2</td>\n",
       "    </tr>\n",
       "    <tr>\n",
       "      <th>10</th>\n",
       "      <td>1.000000</td>\n",
       "      <td>2</td>\n",
       "      <td>1.000000</td>\n",
       "      <td>2</td>\n",
       "    </tr>\n",
       "    <tr>\n",
       "      <th>11</th>\n",
       "      <td>0.500000</td>\n",
       "      <td>2</td>\n",
       "      <td>0.500000</td>\n",
       "      <td>2</td>\n",
       "    </tr>\n",
       "    <tr>\n",
       "      <th>12</th>\n",
       "      <td>1.000000</td>\n",
       "      <td>2</td>\n",
       "      <td>0.000000</td>\n",
       "      <td>2</td>\n",
       "    </tr>\n",
       "    <tr>\n",
       "      <th>13</th>\n",
       "      <td>1.000000</td>\n",
       "      <td>1</td>\n",
       "      <td>1.000000</td>\n",
       "      <td>1</td>\n",
       "    </tr>\n",
       "    <tr>\n",
       "      <th>15</th>\n",
       "      <td>1.000000</td>\n",
       "      <td>1</td>\n",
       "      <td>1.000000</td>\n",
       "      <td>1</td>\n",
       "    </tr>\n",
       "    <tr>\n",
       "      <th>16</th>\n",
       "      <td>1.000000</td>\n",
       "      <td>2</td>\n",
       "      <td>1.000000</td>\n",
       "      <td>2</td>\n",
       "    </tr>\n",
       "    <tr>\n",
       "      <th>17</th>\n",
       "      <td>1.000000</td>\n",
       "      <td>1</td>\n",
       "      <td>1.000000</td>\n",
       "      <td>1</td>\n",
       "    </tr>\n",
       "  </tbody>\n",
       "</table>\n",
       "</div>"
      ],
      "text/plain": [
       "                      base            adv     \n",
       "                      mean size      mean size\n",
       "days_to_deadline                              \n",
       "0                 0.000000    2  0.000000    2\n",
       "1                 0.833333    6  0.500000    6\n",
       "2                 1.000000    4  0.000000    4\n",
       "3                 1.000000    3  1.000000    3\n",
       "4                 1.000000    2  0.000000    2\n",
       "5                 1.000000    3  0.666667    3\n",
       "6                 1.000000    4  0.750000    4\n",
       "7                 1.000000    5  0.600000    5\n",
       "8                 1.000000    1  1.000000    1\n",
       "9                 1.000000    2  0.000000    2\n",
       "10                1.000000    2  1.000000    2\n",
       "11                0.500000    2  0.500000    2\n",
       "12                1.000000    2  0.000000    2\n",
       "13                1.000000    1  1.000000    1\n",
       "15                1.000000    1  1.000000    1\n",
       "16                1.000000    2  1.000000    2\n",
       "17                1.000000    1  1.000000    1"
      ]
     },
     "execution_count": 68,
     "metadata": {},
     "output_type": "execute_result"
    }
   ],
   "source": [
    "m.groupby('days_to_deadline').agg({\n",
    "  'base': ['mean', 'size'],\n",
    "  'adv': ['mean', 'size'],\n",
    "})"
   ]
  },
  {
   "cell_type": "code",
   "execution_count": 69,
   "id": "2a915bc8",
   "metadata": {},
   "outputs": [
    {
     "data": {
      "text/html": [
       "<div>\n",
       "<style scoped>\n",
       "    .dataframe tbody tr th:only-of-type {\n",
       "        vertical-align: middle;\n",
       "    }\n",
       "\n",
       "    .dataframe tbody tr th {\n",
       "        vertical-align: top;\n",
       "    }\n",
       "\n",
       "    .dataframe thead tr th {\n",
       "        text-align: left;\n",
       "    }\n",
       "\n",
       "    .dataframe thead tr:last-of-type th {\n",
       "        text-align: right;\n",
       "    }\n",
       "</style>\n",
       "<table border=\"1\" class=\"dataframe\">\n",
       "  <thead>\n",
       "    <tr>\n",
       "      <th></th>\n",
       "      <th colspan=\"2\" halign=\"left\">base</th>\n",
       "      <th colspan=\"2\" halign=\"left\">adv</th>\n",
       "    </tr>\n",
       "    <tr>\n",
       "      <th></th>\n",
       "      <th>mean</th>\n",
       "      <th>size</th>\n",
       "      <th>mean</th>\n",
       "      <th>size</th>\n",
       "    </tr>\n",
       "    <tr>\n",
       "      <th>iterations</th>\n",
       "      <th></th>\n",
       "      <th></th>\n",
       "      <th></th>\n",
       "      <th></th>\n",
       "    </tr>\n",
       "  </thead>\n",
       "  <tbody>\n",
       "    <tr>\n",
       "      <th>1</th>\n",
       "      <td>0.700000</td>\n",
       "      <td>10</td>\n",
       "      <td>0.400000</td>\n",
       "      <td>10</td>\n",
       "    </tr>\n",
       "    <tr>\n",
       "      <th>2</th>\n",
       "      <td>1.000000</td>\n",
       "      <td>18</td>\n",
       "      <td>0.611111</td>\n",
       "      <td>18</td>\n",
       "    </tr>\n",
       "    <tr>\n",
       "      <th>3</th>\n",
       "      <td>0.888889</td>\n",
       "      <td>9</td>\n",
       "      <td>0.444444</td>\n",
       "      <td>9</td>\n",
       "    </tr>\n",
       "    <tr>\n",
       "      <th>4</th>\n",
       "      <td>1.000000</td>\n",
       "      <td>4</td>\n",
       "      <td>0.750000</td>\n",
       "      <td>4</td>\n",
       "    </tr>\n",
       "    <tr>\n",
       "      <th>6</th>\n",
       "      <td>1.000000</td>\n",
       "      <td>2</td>\n",
       "      <td>0.500000</td>\n",
       "      <td>2</td>\n",
       "    </tr>\n",
       "  </tbody>\n",
       "</table>\n",
       "</div>"
      ],
      "text/plain": [
       "                base            adv     \n",
       "                mean size      mean size\n",
       "iterations                              \n",
       "1           0.700000   10  0.400000   10\n",
       "2           1.000000   18  0.611111   18\n",
       "3           0.888889    9  0.444444    9\n",
       "4           1.000000    4  0.750000    4\n",
       "6           1.000000    2  0.500000    2"
      ]
     },
     "execution_count": 69,
     "metadata": {},
     "output_type": "execute_result"
    }
   ],
   "source": [
    "m.groupby('iterations').agg({\n",
    "  'base': ['mean', 'size'],\n",
    "  'adv': ['mean', 'size'],\n",
    "})"
   ]
  },
  {
   "cell_type": "code",
   "execution_count": 67,
   "id": "f5a6a805",
   "metadata": {},
   "outputs": [
    {
     "data": {
      "text/html": [
       "<div>\n",
       "<style scoped>\n",
       "    .dataframe tbody tr th:only-of-type {\n",
       "        vertical-align: middle;\n",
       "    }\n",
       "\n",
       "    .dataframe tbody tr th {\n",
       "        vertical-align: top;\n",
       "    }\n",
       "\n",
       "    .dataframe thead th {\n",
       "        text-align: right;\n",
       "    }\n",
       "</style>\n",
       "<table border=\"1\" class=\"dataframe\">\n",
       "  <thead>\n",
       "    <tr style=\"text-align: right;\">\n",
       "      <th></th>\n",
       "      <th>created_at</th>\n",
       "      <th>iterations</th>\n",
       "      <th>username</th>\n",
       "      <th>gitlab_username</th>\n",
       "      <th>reviewer</th>\n",
       "      <th>базовый трэк, баллов</th>\n",
       "      <th>advanced трэк баллов</th>\n",
       "      <th>базовый трэк сдан</th>\n",
       "      <th>advanced трэк сдан</th>\n",
       "      <th>обязательные задания сданы</th>\n",
       "      <th>...</th>\n",
       "      <th>task_04</th>\n",
       "      <th>task_05</th>\n",
       "      <th>task_06</th>\n",
       "      <th>task_07</th>\n",
       "      <th>task_08</th>\n",
       "      <th>task_09</th>\n",
       "      <th>task_10</th>\n",
       "      <th>base</th>\n",
       "      <th>adv</th>\n",
       "      <th>days_to_deadline</th>\n",
       "    </tr>\n",
       "  </thead>\n",
       "  <tbody>\n",
       "    <tr>\n",
       "      <th>1</th>\n",
       "      <td>2022-03-14T06:41:37.545Z</td>\n",
       "      <td>1</td>\n",
       "      <td>maximpankratov</td>\n",
       "      <td>maximpankratov</td>\n",
       "      <td>dgronskiy</td>\n",
       "      <td>3</td>\n",
       "      <td>2</td>\n",
       "      <td>FALSE</td>\n",
       "      <td>FALSE</td>\n",
       "      <td>1</td>\n",
       "      <td>...</td>\n",
       "      <td></td>\n",
       "      <td>1</td>\n",
       "      <td>1</td>\n",
       "      <td>1</td>\n",
       "      <td>1</td>\n",
       "      <td>0</td>\n",
       "      <td>0</td>\n",
       "      <td>False</td>\n",
       "      <td>False</td>\n",
       "      <td>0</td>\n",
       "    </tr>\n",
       "  </tbody>\n",
       "</table>\n",
       "<p>1 rows × 24 columns</p>\n",
       "</div>"
      ],
      "text/plain": [
       "                 created_at  iterations        username gitlab_username  \\\n",
       "1  2022-03-14T06:41:37.545Z           1  maximpankratov  maximpankratov   \n",
       "\n",
       "    reviewer базовый трэк, баллов advanced трэк баллов базовый трэк сдан  \\\n",
       "1  dgronskiy                    3                    2             FALSE   \n",
       "\n",
       "  advanced трэк сдан обязательные задания сданы  ... task_04 task_05 task_06  \\\n",
       "1              FALSE                          1  ...               1       1   \n",
       "\n",
       "  task_07 task_08 task_09 task_10   base    adv days_to_deadline  \n",
       "1       1       1       0       0  False  False                0  \n",
       "\n",
       "[1 rows x 24 columns]"
      ]
     },
     "execution_count": 67,
     "metadata": {},
     "output_type": "execute_result"
    }
   ],
   "source": [
    "m.query('username == \"maximpankratov\"')"
   ]
  },
  {
   "cell_type": "code",
   "execution_count": 61,
   "id": "ec6f77cc",
   "metadata": {},
   "outputs": [
    {
     "name": "stdout",
     "output_type": "stream",
     "text": [
      "0.82 \n",
      " True     41\n",
      "False     9\n",
      "Name: base, dtype: int64\n"
     ]
    }
   ],
   "source": [
    "print(\n",
    "    df[mask].base.mean(), '\\n',\n",
    "    df[mask].base.value_counts()\n",
    ")"
   ]
  },
  {
   "cell_type": "code",
   "execution_count": 62,
   "id": "3f60e568",
   "metadata": {},
   "outputs": [
    {
     "name": "stdout",
     "output_type": "stream",
     "text": [
      "0.46 \n",
      " False    27\n",
      "True     23\n",
      "Name: adv, dtype: int64\n"
     ]
    }
   ],
   "source": [
    "print(\n",
    "    df[mask].adv.mean(), '\\n',\n",
    "    df[mask].adv.value_counts()\n",
    ")"
   ]
  },
  {
   "cell_type": "code",
   "execution_count": 58,
   "id": "411b1c55",
   "metadata": {},
   "outputs": [
    {
     "ename": "SyntaxError",
     "evalue": "invalid syntax (1989269241.py, line 1)",
     "output_type": "error",
     "traceback": [
      "\u001b[0;36m  File \u001b[0;32m\"/tmp/ipykernel_11299/1989269241.py\"\u001b[0;36m, line \u001b[0;32m1\u001b[0m\n\u001b[0;31m    df[mask]..agg({\u001b[0m\n\u001b[0m             ^\u001b[0m\n\u001b[0;31mSyntaxError\u001b[0m\u001b[0;31m:\u001b[0m invalid syntax\n"
     ]
    }
   ],
   "source": [
    "df[mask]..agg({\n",
    "  'base': ['mean', 'size'],\n",
    "  'adv': ['mean', 'size']\n",
    "})"
   ]
  },
  {
   "cell_type": "code",
   "execution_count": null,
   "id": "af9c2225",
   "metadata": {},
   "outputs": [],
   "source": [
    "m.days_to_deadline"
   ]
  },
  {
   "cell_type": "code",
   "execution_count": null,
   "id": "b3550257",
   "metadata": {},
   "outputs": [],
   "source": [
    "iterations = 1\n",
    "for n in reversed(get_notes(mr)):\n",
    "    print(n.body)\n",
    "    if n.body == 'marked this merge request as **ready**':\n",
    "        print(n)\n",
    "        iterations += 1"
   ]
  },
  {
   "cell_type": "code",
   "execution_count": null,
   "id": "c11e636e",
   "metadata": {},
   "outputs": [],
   "source": [
    "iterations"
   ]
  },
  {
   "cell_type": "code",
   "execution_count": null,
   "id": "6d8d6717",
   "metadata": {},
   "outputs": [],
   "source": [
    "get_notes()"
   ]
  },
  {
   "cell_type": "code",
   "execution_count": null,
   "id": "45f25f63",
   "metadata": {},
   "outputs": [],
   "source": [
    "mr.closed_by"
   ]
  },
  {
   "cell_type": "code",
   "execution_count": null,
   "id": "4a94ce36",
   "metadata": {},
   "outputs": [],
   "source": [
    "mr.changes()"
   ]
  },
  {
   "cell_type": "code",
   "execution_count": null,
   "id": "227a866a",
   "metadata": {},
   "outputs": [],
   "source": [
    "for note in get_notes(mrs[0]):\n",
    "    print(note.body)"
   ]
  },
  {
   "cell_type": "code",
   "execution_count": null,
   "id": "cadbac5b",
   "metadata": {},
   "outputs": [],
   "source": []
  }
 ],
 "metadata": {
  "kernelspec": {
   "display_name": "Python 3 (ipykernel)",
   "language": "python",
   "name": "python3"
  },
  "language_info": {
   "codemirror_mode": {
    "name": "ipython",
    "version": 3
   },
   "file_extension": ".py",
   "mimetype": "text/x-python",
   "name": "python",
   "nbconvert_exporter": "python",
   "pygments_lexer": "ipython3",
   "version": "3.9.5"
  },
  "toc": {
   "base_numbering": 1,
   "nav_menu": {},
   "number_sections": true,
   "sideBar": true,
   "skip_h1_title": false,
   "title_cell": "Table of Contents",
   "title_sidebar": "Contents",
   "toc_cell": false,
   "toc_position": {},
   "toc_section_display": true,
   "toc_window_display": false
  }
 },
 "nbformat": 4,
 "nbformat_minor": 5
}
