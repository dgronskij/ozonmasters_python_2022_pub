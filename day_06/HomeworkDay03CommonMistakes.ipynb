{
 "cells": [
  {
   "cell_type": "markdown",
   "id": "2d3d4fbc",
   "metadata": {},
   "source": [
    "Ссылка на условие ДЗ: https://139.162.153.209/python_2_2022/_pub/day_03_homework_contextmanager"
   ]
  },
  {
   "cell_type": "markdown",
   "id": "349edeb8",
   "metadata": {},
   "source": [
    "---"
   ]
  },
  {
   "cell_type": "code",
   "execution_count": 1,
   "id": "83884adf",
   "metadata": {
    "ExecuteTime": {
     "end_time": "2022-03-24T01:53:52.546756Z",
     "start_time": "2022-03-24T01:53:52.543370Z"
    }
   },
   "outputs": [],
   "source": [
    "from contextlib import contextmanager\n",
    "from typing import Any, Dict, Iterator"
   ]
  },
  {
   "cell_type": "markdown",
   "id": "ece832d6",
   "metadata": {},
   "source": [
    "# `nullcontext`"
   ]
  },
  {
   "cell_type": "markdown",
   "id": "fdf6fe96",
   "metadata": {},
   "source": [
    "```python\n",
    "def process_file(file_or_path):\n",
    "    if isinstance(file_or_path, str):\n",
    "        # Если строка, то откроем файл\n",
    "        contextmanager = open(file_or_path)\n",
    "    else:\n",
    "        # Вызывающий отвечает за закрытие файла\n",
    "        contextmanager = nullcontext(file_or_path)\n",
    "\n",
    "    with contextmanager as file:\n",
    "        # Выполняем работу с файлом\n",
    "```"
   ]
  },
  {
   "cell_type": "markdown",
   "id": "562e3c26",
   "metadata": {},
   "source": [
    "# `popped_key`"
   ]
  },
  {
   "cell_type": "code",
   "execution_count": 2,
   "id": "48be5ef4",
   "metadata": {
    "ExecuteTime": {
     "end_time": "2022-03-24T01:53:52.555918Z",
     "start_time": "2022-03-24T01:53:52.548663Z"
    }
   },
   "outputs": [],
   "source": [
    "@contextmanager\n",
    "def popped_key(d: Dict, k: Any) -> Iterator[Dict]:\n",
    "    v = d.pop(k)\n",
    "    try:\n",
    "        yield d\n",
    "    finally:\n",
    "        d[k] = v"
   ]
  },
  {
   "cell_type": "markdown",
   "id": "fd666afd",
   "metadata": {},
   "source": [
    "# `raises`"
   ]
  },
  {
   "cell_type": "code",
   "execution_count": 3,
   "id": "095dc48c",
   "metadata": {
    "ExecuteTime": {
     "end_time": "2022-03-24T01:53:52.565364Z",
     "start_time": "2022-03-24T01:53:52.562110Z"
    }
   },
   "outputs": [],
   "source": [
    "from typing import Tuple, Union"
   ]
  },
  {
   "cell_type": "code",
   "execution_count": 4,
   "id": "e4f030c2",
   "metadata": {
    "ExecuteTime": {
     "end_time": "2022-03-24T01:53:52.577848Z",
     "start_time": "2022-03-24T01:53:52.571266Z"
    }
   },
   "outputs": [],
   "source": [
    "class NotRaised(Exception):\n",
    "    pass\n",
    "\n",
    "\n",
    "@contextmanager\n",
    "def raises(expected_exc: Union[Exception, Tuple[Exception]]) -> None:\n",
    "    try:\n",
    "        yield\n",
    "    except expected_exc:\n",
    "        pass\n",
    "    else:\n",
    "        raise NotRaised(f\"Didn't raise {expected_exc!r}\")"
   ]
  },
  {
   "cell_type": "markdown",
   "id": "b4068163",
   "metadata": {},
   "source": [
    "# `redirect_std_stream`"
   ]
  },
  {
   "cell_type": "code",
   "execution_count": 5,
   "id": "9be9ec31",
   "metadata": {
    "ExecuteTime": {
     "end_time": "2022-03-24T01:53:52.587235Z",
     "start_time": "2022-03-24T01:53:52.580381Z"
    }
   },
   "outputs": [],
   "source": [
    "import io\n",
    "import sys\n",
    "from typing import Literal"
   ]
  },
  {
   "cell_type": "code",
   "execution_count": 6,
   "id": "a0caf936",
   "metadata": {
    "ExecuteTime": {
     "end_time": "2022-03-24T01:53:52.598275Z",
     "start_time": "2022-03-24T01:53:52.590448Z"
    }
   },
   "outputs": [],
   "source": [
    "@contextmanager\n",
    "def redirect_std_stream(stream: Literal[\"stdout\", \"stderr\"], to: io.IOBase) -> None:\n",
    "    old_target = getattr(sys, stream)\n",
    "    setattr(sys, stream, to)\n",
    "    try:\n",
    "        yield\n",
    "    finally:\n",
    "        setattr(sys, stream, old_target)"
   ]
  },
  {
   "cell_type": "markdown",
   "id": "790b6798",
   "metadata": {},
   "source": [
    "# `contextmanager`"
   ]
  },
  {
   "cell_type": "markdown",
   "id": "5a57c6db",
   "metadata": {},
   "source": [
    "В таких задачах мы очень хотим, чтобы вы пытались решать их самостоятельно как сможете.\n",
    "\n",
    "В данном случае в задаче было много вопросов, до которых нужно догадаться и разобрать их."
   ]
  }
 ],
 "metadata": {
  "kernelspec": {
   "display_name": "py38-poetry",
   "language": "python",
   "name": "py38-poetry"
  },
  "language_info": {
   "codemirror_mode": {
    "name": "ipython",
    "version": 3
   },
   "file_extension": ".py",
   "mimetype": "text/x-python",
   "name": "python",
   "nbconvert_exporter": "python",
   "pygments_lexer": "ipython3",
   "version": "3.8.12"
  },
  "toc": {
   "base_numbering": 1,
   "nav_menu": {},
   "number_sections": true,
   "sideBar": true,
   "skip_h1_title": false,
   "title_cell": "Table of Contents",
   "title_sidebar": "Contents",
   "toc_cell": false,
   "toc_position": {},
   "toc_section_display": true,
   "toc_window_display": true
  }
 },
 "nbformat": 4,
 "nbformat_minor": 5
}
