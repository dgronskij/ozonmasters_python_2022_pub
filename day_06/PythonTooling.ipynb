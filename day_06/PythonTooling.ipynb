{
 "cells": [
  {
   "cell_type": "markdown",
   "id": "3f556292",
   "metadata": {},
   "source": [
    "Зачем вообще все эти тулзы?\n",
    "* `poetry` упрощает жизнь на всех этапах разработки, см. ниже.\n",
    "* Единый стиль кода поможет вам и другим легче читать код.\n",
    "* Линтеры снижают вероятность ошибок при написании кода.\n",
    "* Тесты снижают вероятность ошибок при разработке и изменениях впоследствии.\n",
    "\n",
    "Хорошей практикой является использовать их при разработке локально и в CI-CD на каждый коммит запускать соответствующие джобы."
   ]
  },
  {
   "cell_type": "markdown",
   "id": "68b8afc0",
   "metadata": {},
   "source": [
    "# `poetry`\n",
    "\n",
    "* https://python-poetry.org/\n",
    "\n",
    "Poetry облегчает прохождение всех этапов разработки:\n",
    "* Отслеживание зависимостей\n",
    "* Управление виртуальными окружениями\n",
    "* Сборку пакетов\n",
    "* Выкладку пакетов в PyPI"
   ]
  },
  {
   "cell_type": "markdown",
   "id": "02bb9274",
   "metadata": {
    "ExecuteTime": {
     "end_time": "2022-03-24T12:35:27.870096Z",
     "start_time": "2022-03-24T12:35:27.857323Z"
    }
   },
   "source": [
    "Установка в систему:\n",
    "```bash\n",
    "curl -sSL https://raw.githubusercontent.com/python-poetry/poetry/master/get-poetry.py | python -\n",
    "# добавить в свой '~/.bashrc' или '~/.zshrc' (может конфликтовать с conda)\n",
    "source $HOME/.poetry/env\n",
    "\n",
    "poetry config virtualenvs.create true\n",
    "```"
   ]
  },
  {
   "cell_type": "markdown",
   "id": "5772216b",
   "metadata": {},
   "source": [
    "# Приведение кода к единому стилю: `black` & `isort` & `flake8`\n",
    "\n",
    "https://peps.python.org/pep-0008/\n",
    "\n",
    "Зачем?\n",
    "* Мы чаще читаем код, чем пишем.\n",
    "* Мы привыкаем к определенному формату.\n",
    "\n",
    "Эти тулзы можно интегрировать с вашей IDE. Гуглите гайды."
   ]
  },
  {
   "cell_type": "markdown",
   "id": "842fe162",
   "metadata": {},
   "source": [
    "# Линтеры: `pylint` & `mypy`\n",
    "\n",
    "Линтеры -- статические анализаторы кода.\n",
    "\n",
    "* https://pypi.org/project/pylint/\n",
    "* https://github.com/python/mypy"
   ]
  },
  {
   "cell_type": "markdown",
   "id": "b6670280",
   "metadata": {},
   "source": [
    "# Тестирование: `pytest`\n",
    "Про него мы уже говорили на одной из прошлых лекций: https://139.162.153.209/python_2_2022/_pub/day_04/-/tree/main/testing"
   ]
  }
 ],
 "metadata": {
  "kernelspec": {
   "display_name": "py38-poetry",
   "language": "python",
   "name": "py38-poetry"
  },
  "language_info": {
   "codemirror_mode": {
    "name": "ipython",
    "version": 3
   },
   "file_extension": ".py",
   "mimetype": "text/x-python",
   "name": "python",
   "nbconvert_exporter": "python",
   "pygments_lexer": "ipython3",
   "version": "3.8.12"
  },
  "toc": {
   "base_numbering": 1,
   "nav_menu": {},
   "number_sections": true,
   "sideBar": true,
   "skip_h1_title": false,
   "title_cell": "Table of Contents",
   "title_sidebar": "Contents",
   "toc_cell": false,
   "toc_position": {},
   "toc_section_display": true,
   "toc_window_display": true
  }
 },
 "nbformat": 4,
 "nbformat_minor": 5
}
