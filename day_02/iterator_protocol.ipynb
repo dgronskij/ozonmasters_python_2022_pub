{
 "cells": [
  {
   "cell_type": "code",
   "execution_count": 21,
   "id": "570c549d",
   "metadata": {},
   "outputs": [],
   "source": [
    "for value in [1,2,3,4]:\n",
    "    ..."
   ]
  },
  {
   "cell_type": "code",
   "execution_count": 22,
   "id": "4d85d69e",
   "metadata": {},
   "outputs": [],
   "source": [
    "for key in dict(a=10, b=20):\n",
    "    ..."
   ]
  },
  {
   "cell_type": "markdown",
   "id": "77d9c19b",
   "metadata": {},
   "source": [
    "# Можно ли делать свои типы?"
   ]
  },
  {
   "cell_type": "code",
   "execution_count": null,
   "id": "014fb760",
   "metadata": {},
   "outputs": [],
   "source": [
    "for value in iterable:\n",
    "    ..."
   ]
  },
  {
   "cell_type": "code",
   "execution_count": null,
   "id": "eae5e4ae",
   "metadata": {},
   "outputs": [],
   "source": [
    "iterator = iter(iterable)\n",
    "\n",
    "\n",
    "while True:\n",
    "    try:\n",
    "        value = next(iterator)\n",
    "    except StopIteration:\n",
    "        break"
   ]
  },
  {
   "cell_type": "code",
   "execution_count": null,
   "id": "d966bcdd",
   "metadata": {},
   "outputs": [],
   "source": [
    "# Подумайте, для чего нужна такая двухступенчатая схема?"
   ]
  },
  {
   "cell_type": "markdown",
   "id": "6e86986d",
   "metadata": {},
   "source": [
    "# Iterable protocol\n"
   ]
  },
  {
   "cell_type": "code",
   "execution_count": null,
   "id": "50c6572a",
   "metadata": {},
   "outputs": [],
   "source": [
    "# dunder -- double underscore, i.e. magic method"
   ]
  },
  {
   "cell_type": "code",
   "execution_count": null,
   "id": "2b765dd2",
   "metadata": {},
   "outputs": [],
   "source": []
  },
  {
   "cell_type": "code",
   "execution_count": null,
   "id": "328f871c",
   "metadata": {},
   "outputs": [],
   "source": [
    "class MyIterable:\n",
    "    def __iter__(self) -> Iterator: ...\n",
    "        \n",
    "iter(iterable)\n",
    "\n",
    "# iterable.__iter__()"
   ]
  },
  {
   "cell_type": "markdown",
   "id": "2e6a2761",
   "metadata": {},
   "source": [
    "# Iterator protocol"
   ]
  },
  {
   "cell_type": "code",
   "execution_count": null,
   "id": "65a134b8",
   "metadata": {},
   "outputs": [],
   "source": [
    "class Iterator:\n",
    "    def __next__(self) -> Any: ...\n",
    "    def __iter__(self) -> 'Iterator':\n",
    "        return self\n"
   ]
  },
  {
   "cell_type": "code",
   "execution_count": null,
   "id": "b48e2ff7",
   "metadata": {},
   "outputs": [],
   "source": [
    "next(iterator)\n",
    "\n",
    "iterator.__next__()"
   ]
  },
  {
   "cell_type": "markdown",
   "id": "977c1590",
   "metadata": {},
   "source": [
    "- Является ли iterator iterable?\n",
    "- что должен возвращать "
   ]
  },
  {
   "cell_type": "code",
   "execution_count": null,
   "id": "0b930112",
   "metadata": {},
   "outputs": [],
   "source": [
    "class MyList:\n",
    "    def __next__(self):\n",
    "        self._current_iteration_index += 1\n",
    "        return self._list[self._current_iteration_index]\n",
    "\n",
    "lst = [1,2,3]\n",
    "\n",
    "for value in lst:\n",
    "    for value2 in lst:\n",
    "        ..."
   ]
  },
  {
   "cell_type": "code",
   "execution_count": null,
   "id": "e528cd52",
   "metadata": {},
   "outputs": [],
   "source": [
    "# class AnotherList:\n",
    "#     def __next__(self):\n",
    "#         for i in range(len(self)):\n",
    "            "
   ]
  },
  {
   "cell_type": "code",
   "execution_count": 23,
   "id": "921e52f4",
   "metadata": {},
   "outputs": [],
   "source": [
    "import sys\n",
    "\n",
    "for line in sys.stdin:\n",
    "    ..."
   ]
  },
  {
   "cell_type": "code",
   "execution_count": null,
   "id": "154041b8",
   "metadata": {},
   "outputs": [],
   "source": []
  },
  {
   "cell_type": "markdown",
   "id": "a21019e9",
   "metadata": {},
   "source": [
    "# Generator functions"
   ]
  },
  {
   "cell_type": "code",
   "execution_count": 24,
   "id": "9e9376af",
   "metadata": {},
   "outputs": [],
   "source": [
    "def foo():\n",
    "    return 5"
   ]
  },
  {
   "cell_type": "code",
   "execution_count": 25,
   "id": "84b8da78",
   "metadata": {},
   "outputs": [
    {
     "data": {
      "text/plain": [
       "function"
      ]
     },
     "execution_count": 25,
     "metadata": {},
     "output_type": "execute_result"
    }
   ],
   "source": [
    "type(foo)"
   ]
  },
  {
   "cell_type": "code",
   "execution_count": 31,
   "id": "1ccbd89c",
   "metadata": {},
   "outputs": [],
   "source": [
    "def gen():  # generator function\n",
    "    print('before')\n",
    "    yield 5\n",
    "    print('middle')\n",
    "    yield 10\n",
    "    print('after')"
   ]
  },
  {
   "cell_type": "code",
   "execution_count": 32,
   "id": "2879bad5",
   "metadata": {},
   "outputs": [
    {
     "data": {
      "text/plain": [
       "generator"
      ]
     },
     "execution_count": 32,
     "metadata": {},
     "output_type": "execute_result"
    }
   ],
   "source": [
    "type(gen())"
   ]
  },
  {
   "cell_type": "code",
   "execution_count": 33,
   "id": "f92d1893",
   "metadata": {},
   "outputs": [
    {
     "name": "stdout",
     "output_type": "stream",
     "text": [
      "before\n",
      "el is 5\n",
      "middle\n",
      "el is 10\n",
      "after\n"
     ]
    }
   ],
   "source": [
    "for el in gen():\n",
    "    print('el is', el)"
   ]
  },
  {
   "cell_type": "code",
   "execution_count": 34,
   "id": "4ad6365e",
   "metadata": {},
   "outputs": [],
   "source": [
    "iterable = gen()"
   ]
  },
  {
   "cell_type": "code",
   "execution_count": 35,
   "id": "f1defa03",
   "metadata": {},
   "outputs": [],
   "source": [
    "iterator = iter(iterable)"
   ]
  },
  {
   "cell_type": "code",
   "execution_count": 36,
   "id": "b2333533",
   "metadata": {},
   "outputs": [
    {
     "name": "stdout",
     "output_type": "stream",
     "text": [
      "before\n"
     ]
    },
    {
     "data": {
      "text/plain": [
       "5"
      ]
     },
     "execution_count": 36,
     "metadata": {},
     "output_type": "execute_result"
    }
   ],
   "source": [
    "next(iterator)"
   ]
  },
  {
   "cell_type": "code",
   "execution_count": null,
   "id": "5199b241",
   "metadata": {},
   "outputs": [],
   "source": [
    "next(iterator)"
   ]
  },
  {
   "cell_type": "code",
   "execution_count": 38,
   "id": "d2af8d87",
   "metadata": {},
   "outputs": [],
   "source": [
    "from typing import *"
   ]
  },
  {
   "cell_type": "code",
   "execution_count": 39,
   "id": "e264ee43",
   "metadata": {},
   "outputs": [],
   "source": [
    "class MyIterable:\n",
    "    def __iter__(self) -> Iterator:\n",
    "        yield 1\n",
    "        yield 2"
   ]
  },
  {
   "cell_type": "code",
   "execution_count": 40,
   "id": "76fae748",
   "metadata": {},
   "outputs": [
    {
     "name": "stdout",
     "output_type": "stream",
     "text": [
      "1\n",
      "2\n"
     ]
    }
   ],
   "source": [
    "from itertools import chain"
   ]
  },
  {
   "cell_type": "code",
   "execution_count": null,
   "id": "871bd4d4",
   "metadata": {},
   "outputs": [],
   "source": [
    "chain(a, b, c, ...)"
   ]
  },
  {
   "cell_type": "code",
   "execution_count": 41,
   "id": "b98fec65",
   "metadata": {},
   "outputs": [],
   "source": [
    "class mychain:\n",
    "    def __init__(self, *iterables):\n",
    "        self._iterables = iterables\n",
    "    def __iter__(self):\n",
    "        for iterable in self._iterables:\n",
    "#             for value in iterable:\n",
    "#                 yield value\n",
    "            yield from iterable\n",
    "    \n",
    "    @classmethod\n",
    "    def from_iterable(cls, )  # NB -- в домашку"
   ]
  },
  {
   "cell_type": "code",
   "execution_count": 43,
   "id": "e3322de6",
   "metadata": {},
   "outputs": [
    {
     "name": "stdout",
     "output_type": "stream",
     "text": [
      "1\n",
      "2\n",
      "3\n",
      "a\n",
      "b\n",
      "c\n",
      "d\n",
      "e\n"
     ]
    }
   ],
   "source": [
    "for value in mychain([1,2,3,], list('abcde')):\n",
    "    print(value)"
   ]
  },
  {
   "cell_type": "code",
   "execution_count": null,
   "id": "d4f5ecaf",
   "metadata": {},
   "outputs": [],
   "source": [
    "list(iterable)\n",
    "dict()"
   ]
  },
  {
   "cell_type": "markdown",
   "id": "e871ec83",
   "metadata": {},
   "source": [
    "# Generators vs generator functions"
   ]
  },
  {
   "cell_type": "markdown",
   "id": "825a7582",
   "metadata": {},
   "source": [
    "# __iter__ через генератор"
   ]
  },
  {
   "cell_type": "markdown",
   "id": "c7f0988e",
   "metadata": {},
   "source": [
    "# yield from"
   ]
  },
  {
   "cell_type": "markdown",
   "id": "f2b94411",
   "metadata": {},
   "source": [
    "# typing + collections.abc"
   ]
  },
  {
   "cell_type": "code",
   "execution_count": 47,
   "id": "e2e4bf1a",
   "metadata": {},
   "outputs": [],
   "source": [
    "from collections.abc import Iterable"
   ]
  },
  {
   "cell_type": "code",
   "execution_count": 54,
   "id": "fcd27606",
   "metadata": {},
   "outputs": [],
   "source": [
    "import collections"
   ]
  },
  {
   "cell_type": "code",
   "execution_count": 55,
   "id": "a6a189da",
   "metadata": {},
   "outputs": [
    {
     "data": {
      "text/plain": [
       "['/home/d.gronsky/miniconda3/lib/python3.9/collections']"
      ]
     },
     "execution_count": 55,
     "metadata": {},
     "output_type": "execute_result"
    }
   ],
   "source": [
    "collections.__path__"
   ]
  },
  {
   "cell_type": "code",
   "execution_count": 59,
   "id": "b47eda13",
   "metadata": {},
   "outputs": [],
   "source": [
    "class MyIterable:\n",
    "    def __iter__(self):\n",
    "        yield 1"
   ]
  },
  {
   "cell_type": "code",
   "execution_count": 60,
   "id": "c3e90469",
   "metadata": {},
   "outputs": [
    {
     "data": {
      "text/plain": [
       "<__main__.MyIterable at 0x7efd48d9cbe0>"
      ]
     },
     "execution_count": 60,
     "metadata": {},
     "output_type": "execute_result"
    }
   ],
   "source": [
    "MyIterable()"
   ]
  },
  {
   "cell_type": "code",
   "execution_count": 61,
   "id": "51bfd47e",
   "metadata": {},
   "outputs": [
    {
     "data": {
      "text/plain": [
       "True"
      ]
     },
     "execution_count": 61,
     "metadata": {},
     "output_type": "execute_result"
    }
   ],
   "source": [
    "isinstance(MyIterable(), Iterable)"
   ]
  },
  {
   "cell_type": "code",
   "execution_count": 45,
   "id": "aa762bf3",
   "metadata": {},
   "outputs": [
    {
     "ename": "TypeError",
     "evalue": "'MyIterable' object is not iterable",
     "output_type": "error",
     "traceback": [
      "\u001b[0;31m---------------------------------------------------------------------------\u001b[0m",
      "\u001b[0;31mTypeError\u001b[0m                                 Traceback (most recent call last)",
      "\u001b[0;32m/tmp/ipykernel_3322/2500567669.py\u001b[0m in \u001b[0;36m<module>\u001b[0;34m\u001b[0m\n\u001b[0;32m----> 1\u001b[0;31m \u001b[0mlist\u001b[0m\u001b[0;34m(\u001b[0m\u001b[0mMyIterable\u001b[0m\u001b[0;34m(\u001b[0m\u001b[0;34m)\u001b[0m\u001b[0;34m)\u001b[0m\u001b[0;34m\u001b[0m\u001b[0;34m\u001b[0m\u001b[0m\n\u001b[0m",
      "\u001b[0;31mTypeError\u001b[0m: 'MyIterable' object is not iterable"
     ]
    }
   ],
   "source": [
    "list(MyIterable())"
   ]
  },
  {
   "cell_type": "markdown",
   "id": "c506d22d",
   "metadata": {},
   "source": [
    "# Генераторное выражение"
   ]
  },
  {
   "cell_type": "markdown",
   "id": "fd23524f",
   "metadata": {},
   "source": [
    "# пишем свой chain + chain.from_iterable"
   ]
  },
  {
   "cell_type": "code",
   "execution_count": null,
   "id": "b8b844e9",
   "metadata": {},
   "outputs": [],
   "source": []
  },
  {
   "cell_type": "code",
   "execution_count": 62,
   "id": "8c8b6eae",
   "metadata": {},
   "outputs": [
    {
     "name": "stdout",
     "output_type": "stream",
     "text": [
      "1\n",
      "2\n",
      "3\n",
      "4\n",
      "1\n",
      "2\n",
      "3\n",
      "4\n"
     ]
    }
   ],
   "source": [
    "lst = [1,2,3,4]\n",
    "for el in lst:\n",
    "    print(el)\n",
    "for el in lst:\n",
    "    print(el)"
   ]
  },
  {
   "cell_type": "code",
   "execution_count": null,
   "id": "29aa04f8",
   "metadata": {},
   "outputs": [],
   "source": [
    "map\n",
    "filter"
   ]
  },
  {
   "cell_type": "code",
   "execution_count": 63,
   "id": "38d52fa2",
   "metadata": {},
   "outputs": [],
   "source": [
    "iterable = map(lambda x: x*x, lst)"
   ]
  },
  {
   "cell_type": "code",
   "execution_count": 64,
   "id": "344e22a9",
   "metadata": {},
   "outputs": [
    {
     "data": {
      "text/plain": [
       "map"
      ]
     },
     "execution_count": 64,
     "metadata": {},
     "output_type": "execute_result"
    }
   ],
   "source": [
    "type(iterable)"
   ]
  },
  {
   "cell_type": "code",
   "execution_count": 65,
   "id": "c6627a5f",
   "metadata": {},
   "outputs": [
    {
     "data": {
      "text/plain": [
       "[1, 4, 9, 16]"
      ]
     },
     "execution_count": 65,
     "metadata": {},
     "output_type": "execute_result"
    }
   ],
   "source": [
    "list(iterable)"
   ]
  },
  {
   "cell_type": "code",
   "execution_count": 66,
   "id": "65a95e00",
   "metadata": {},
   "outputs": [
    {
     "data": {
      "text/plain": [
       "[]"
      ]
     },
     "execution_count": 66,
     "metadata": {},
     "output_type": "execute_result"
    }
   ],
   "source": [
    "list(iterable)"
   ]
  },
  {
   "cell_type": "code",
   "execution_count": null,
   "id": "9362e6be",
   "metadata": {},
   "outputs": [],
   "source": []
  }
 ],
 "metadata": {
  "kernelspec": {
   "display_name": "Python 3 (ipykernel)",
   "language": "python",
   "name": "python3"
  },
  "language_info": {
   "codemirror_mode": {
    "name": "ipython",
    "version": 3
   },
   "file_extension": ".py",
   "mimetype": "text/x-python",
   "name": "python",
   "nbconvert_exporter": "python",
   "pygments_lexer": "ipython3",
   "version": "3.9.5"
  }
 },
 "nbformat": 4,
 "nbformat_minor": 5
}
