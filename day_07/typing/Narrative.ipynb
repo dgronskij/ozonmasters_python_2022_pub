{
 "cells": [
  {
   "cell_type": "markdown",
   "id": "e09edfc0",
   "metadata": {},
   "source": [
    "# Типизация в Python"
   ]
  },
  {
   "cell_type": "markdown",
   "id": "00fec8f5",
   "metadata": {},
   "source": [
    "## Коротко, что такое аннотации\n",
    "\n",
    "Аннотации -- это способ указать ожидаемые типы переменных.\n",
    "\n",
    "Например:"
   ]
  },
  {
   "cell_type": "code",
   "execution_count": 1,
   "id": "b66d6e08",
   "metadata": {
    "ExecuteTime": {
     "end_time": "2022-04-02T16:16:05.718594Z",
     "start_time": "2022-04-02T16:16:05.711966Z"
    }
   },
   "outputs": [],
   "source": [
    "a: int\n",
    "\n",
    "\n",
    "class Foo: ...\n",
    "\n",
    "\n",
    "def f(x: float, y: Foo) -> None: ..."
   ]
  },
  {
   "cell_type": "markdown",
   "id": "0d34ab7a",
   "metadata": {},
   "source": [
    "Аннотации хранятся в dunder атрибуте функции:"
   ]
  },
  {
   "cell_type": "code",
   "execution_count": 2,
   "id": "9c400841",
   "metadata": {
    "ExecuteTime": {
     "end_time": "2022-04-02T16:16:06.983354Z",
     "start_time": "2022-04-02T16:16:06.969492Z"
    }
   },
   "outputs": [
    {
     "data": {
      "text/plain": [
       "{'x': float, 'y': __main__.Foo, 'return': None}"
      ]
     },
     "execution_count": 2,
     "metadata": {},
     "output_type": "execute_result"
    }
   ],
   "source": [
    "f.__annotations__"
   ]
  },
  {
   "cell_type": "markdown",
   "id": "9b50096d",
   "metadata": {},
   "source": [
    "Аннотации просто считываются и хранятся. Больше никак не обрабатываются.\n",
    "\n",
    "Но они доступны для использования, например, в статических анализаторах кода."
   ]
  },
  {
   "cell_type": "markdown",
   "id": "fdf1de36",
   "metadata": {},
   "source": [
    "## Зачем вообще аннотации типов / `mypy` (статический анализатор), если Python -- язык динамический?"
   ]
  },
  {
   "cell_type": "markdown",
   "id": "02948e52",
   "metadata": {},
   "source": [
    "Из удобства при быстром написании чего-либо, отсутствие статической типизации превращается в кошмар, например, в случаях:\n",
    "- большого проекта, над которым работает множество разработчиков\n",
    "- пакета с публичным API"
   ]
  },
  {
   "cell_type": "markdown",
   "id": "c3bcfca1",
   "metadata": {},
   "source": [
    "Пример кода (где ничего не понятно):\n",
    "```python\n",
    "class Resource:\n",
    "    ...\n",
    "    def read_metadata(self, items):\n",
    "        ...\n",
    "```\n",
    "\n",
    "Какие могут возникнуть вопросы у человека, которому нужно понять, что делает `read_metadata`:\n",
    "- Что возвращает метод? Может ли метод вернуть None?\n",
    "- Что такое `items`? Может наш любимый `list`? А если `tuple` или `set`? Или вообще `Iterable`?"
   ]
  },
  {
   "cell_type": "markdown",
   "id": "1129d01a",
   "metadata": {},
   "source": [
    "Пример кода где уже яснее (благодаря аннотациям типов):\n",
    "```python\n",
    "class Resource:\n",
    "    ...\n",
    "    def read_metadata(self, items: Sequence[str]) -> Dict[str, MetadataItem]:\n",
    "        ...\n",
    "```\n",
    "\n",
    "Вопросы:\n",
    "- А исключения могут быть какие-то?"
   ]
  },
  {
   "cell_type": "markdown",
   "id": "a68bf802",
   "metadata": {},
   "source": [
    "Пример кода где почти хорошо:\n",
    "```python\n",
    "class Resource:\n",
    "    ...\n",
    "    def read_metadata(self, items: Sequence[str]) -> Dict[str, MetadataItem]:\n",
    "        \"\"\"Reads `items` metadata from remote server.\n",
    "\n",
    "        Args:\n",
    "            items: The first parameter.\n",
    "\n",
    "        Returns:\n",
    "            uuid -> MetedataItem\n",
    "        \n",
    "        Raises:\n",
    "            NotFoundError: If some item in `items` doesn't exists.\n",
    "            ConnectionError: If connection to remote server isn't available.\n",
    "        \"\"\"\n",
    "        ...\n",
    "```\n",
    "\n",
    "А \"почти\", потому что:\n",
    "- Документацию нужно поддерживать, соответственно она может быть устаревшей\n",
    "- Документация -- это не код, она может быть неточной"
   ]
  },
  {
   "cell_type": "markdown",
   "id": "50ed9586",
   "metadata": {},
   "source": [
    "Стиль написание докстрингов: https://sphinxcontrib-napoleon.readthedocs.io/en/latest/example_google.html"
   ]
  },
  {
   "cell_type": "markdown",
   "id": "19b45596",
   "metadata": {},
   "source": [
    "<img src=\"kafka.jpg\" style=\"width: 500px\">\n",
    "<b>Franz Kafka (c)</b>"
   ]
  },
  {
   "cell_type": "markdown",
   "id": "543ff2b8",
   "metadata": {},
   "source": [
    "## Чем проверять аннотации типов?\n",
    "\n",
    "<b>Собственно, type checker, такой как <code>mypy</code> поможет вам не забыть аннотировать все вокруг типами и проверит, что вы их используете правильно.</b>\n",
    "\n",
    "https://github.com/python/mypy"
   ]
  },
  {
   "cell_type": "markdown",
   "id": "22b88fcf",
   "metadata": {},
   "source": [
    "## Рантайм история -- `collections.abc`"
   ]
  },
  {
   "cell_type": "markdown",
   "id": "4490f0de",
   "metadata": {},
   "source": [
    "https://docs.python.org/3/library/collections.abc.html\n",
    "\n",
    "Этот модуль помогает понять во время исполнения программы, реализует ли класс какой-то определенный интерфейс."
   ]
  },
  {
   "cell_type": "code",
   "execution_count": 3,
   "id": "6e292262",
   "metadata": {
    "ExecuteTime": {
     "end_time": "2022-04-02T16:16:11.762551Z",
     "start_time": "2022-04-02T16:16:11.758158Z"
    }
   },
   "outputs": [],
   "source": [
    "class Foo:\n",
    "    def __iter__(self): ...\n",
    "    def __next__(self): ..."
   ]
  },
  {
   "cell_type": "code",
   "execution_count": 4,
   "id": "ccc7c6c2",
   "metadata": {
    "ExecuteTime": {
     "end_time": "2022-04-02T16:16:12.599753Z",
     "start_time": "2022-04-02T16:16:12.596796Z"
    }
   },
   "outputs": [],
   "source": [
    "from collections.abc import Iterator, Iterable"
   ]
  },
  {
   "cell_type": "code",
   "execution_count": 5,
   "id": "02ad9b86",
   "metadata": {
    "ExecuteTime": {
     "end_time": "2022-04-02T16:16:13.553399Z",
     "start_time": "2022-04-02T16:16:13.550084Z"
    }
   },
   "outputs": [],
   "source": [
    "assert issubclass(Foo, Iterator)\n",
    "assert issubclass(Foo, Iterable)"
   ]
  },
  {
   "cell_type": "code",
   "execution_count": 6,
   "id": "34011a25",
   "metadata": {
    "ExecuteTime": {
     "end_time": "2022-04-02T16:16:14.998496Z",
     "start_time": "2022-04-02T16:16:14.560915Z"
    }
   },
   "outputs": [
    {
     "ename": "TypeError",
     "evalue": "issubclass() arg 1 must be a class",
     "output_type": "error",
     "traceback": [
      "\u001b[0;31m---------------------------------------------------------------------------\u001b[0m",
      "\u001b[0;31mTypeError\u001b[0m                                 Traceback (most recent call last)",
      "Input \u001b[0;32mIn [6]\u001b[0m, in \u001b[0;36m<cell line: 1>\u001b[0;34m()\u001b[0m\n\u001b[0;32m----> 1\u001b[0m \u001b[38;5;28;43missubclass\u001b[39;49m\u001b[43m(\u001b[49m\u001b[43mFoo\u001b[49m\u001b[43m(\u001b[49m\u001b[43m)\u001b[49m\u001b[43m,\u001b[49m\u001b[43m \u001b[49m\u001b[43mIterable\u001b[49m\u001b[43m)\u001b[49m\n",
      "File \u001b[0;32m~/anaconda2/envs/py38-poetry/lib/python3.8/abc.py:102\u001b[0m, in \u001b[0;36mABCMeta.__subclasscheck__\u001b[0;34m(cls, subclass)\u001b[0m\n\u001b[1;32m    100\u001b[0m \u001b[38;5;28;01mdef\u001b[39;00m \u001b[38;5;21m__subclasscheck__\u001b[39m(\u001b[38;5;28mcls\u001b[39m, subclass):\n\u001b[1;32m    101\u001b[0m     \u001b[38;5;124;03m\"\"\"Override for issubclass(subclass, cls).\"\"\"\u001b[39;00m\n\u001b[0;32m--> 102\u001b[0m     \u001b[38;5;28;01mreturn\u001b[39;00m \u001b[43m_abc_subclasscheck\u001b[49m\u001b[43m(\u001b[49m\u001b[38;5;28;43mcls\u001b[39;49m\u001b[43m,\u001b[49m\u001b[43m \u001b[49m\u001b[43msubclass\u001b[49m\u001b[43m)\u001b[49m\n",
      "\u001b[0;31mTypeError\u001b[0m: issubclass() arg 1 must be a class"
     ]
    }
   ],
   "source": [
    "issubclass(Foo(), Iterable)"
   ]
  },
  {
   "cell_type": "code",
   "execution_count": 7,
   "id": "5db8cb77",
   "metadata": {
    "ExecuteTime": {
     "end_time": "2022-04-02T16:16:18.858829Z",
     "start_time": "2022-04-02T16:16:18.852373Z"
    }
   },
   "outputs": [
    {
     "data": {
      "text/plain": [
       "False"
      ]
     },
     "execution_count": 7,
     "metadata": {},
     "output_type": "execute_result"
    }
   ],
   "source": [
    "isinstance(Foo, Iterable)"
   ]
  },
  {
   "cell_type": "code",
   "execution_count": 8,
   "id": "236e645b",
   "metadata": {
    "ExecuteTime": {
     "end_time": "2022-04-02T16:16:19.521053Z",
     "start_time": "2022-04-02T16:16:19.516975Z"
    }
   },
   "outputs": [],
   "source": [
    "assert isinstance(Foo(), Iterable)\n",
    "assert isinstance(Foo(), Iterator)"
   ]
  },
  {
   "cell_type": "markdown",
   "id": "1dc9d478",
   "metadata": {
    "ExecuteTime": {
     "end_time": "2022-03-31T13:03:56.576751Z",
     "start_time": "2022-03-31T13:03:56.570008Z"
    }
   },
   "source": [
    "```python\n",
    "class Iterable(metaclass=ABCMeta):\n",
    "\n",
    "    ...\n",
    "\n",
    "    @classmethod\n",
    "    def __subclasshook__(cls, C):\n",
    "        if cls is Iterable:\n",
    "            return _check_methods(C, \"__iter__\")\n",
    "        return NotImplemented\n",
    "```"
   ]
  },
  {
   "cell_type": "markdown",
   "id": "463323e1",
   "metadata": {},
   "source": [
    "Список абстрактных классов: https://docs.python.org/3/library/collections.abc.html#collections-abstract-base-classes\n",
    "\n",
    "Просмотрите его, разберитесь, каким интерфейсам (класс может соответствовать нескольким интерфейсам сразу) соответствуют `list`, `tuple`, `dict`, `set` и почему."
   ]
  },
  {
   "cell_type": "markdown",
   "id": "715d4152",
   "metadata": {},
   "source": [
    "## Статическая история -- `typing` и аннотации\n",
    "\n",
    "https://docs.python.org/3/library/typing.html"
   ]
  },
  {
   "cell_type": "markdown",
   "id": "9c181668",
   "metadata": {
    "ExecuteTime": {
     "end_time": "2022-03-31T13:35:39.615778Z",
     "start_time": "2022-03-31T13:35:39.609563Z"
    }
   },
   "source": [
    "Разберитесь со следующими аннотациями:\n",
    "- `Any`\n",
    "- `Literal[\"lit1\", \"lit2\"]`\n",
    "- `Union[T1, T2]`\n",
    "- `Optional[T]` (то же, что и `Union[T, None]`)\n",
    "- `List[T]`\n",
    "- `Tuple[T, ...]`\n",
    "- `Dict[KT, VT]`\n",
    "- `Callable[[Arg1Type, Arg2Type], ReturnType]`"
   ]
  },
  {
   "cell_type": "markdown",
   "id": "b0966e89",
   "metadata": {},
   "source": [
    "###  Как обозначать тип `*args` и `**kwargs`?"
   ]
  },
  {
   "cell_type": "markdown",
   "id": "95540946",
   "metadata": {},
   "source": [
    "Только типы аргументов."
   ]
  },
  {
   "cell_type": "markdown",
   "id": "7e16d853",
   "metadata": {},
   "source": [
    "```python\n",
    "def func(*args: int, **kwargs: float):\n",
    "    ...\n",
    "```"
   ]
  },
  {
   "cell_type": "markdown",
   "id": "fa9d2012",
   "metadata": {},
   "source": [
    "### Алиасы"
   ]
  },
  {
   "cell_type": "markdown",
   "id": "77d7df1e",
   "metadata": {},
   "source": [
    "```python\n",
    "@contextmanager\n",
    "def raises(expected: Union[Type[Exception], Tuple[Type[Exception], ...]]) -> Iterator[None]:\n",
    "    try:\n",
    "        yield\n",
    "    except expected:\n",
    "        pass\n",
    "    else:\n",
    "        raise Exception(f\"DID NOT RAISE {e!r}\")\n",
    "```\n",
    "__VS.__\n",
    "```python\n",
    "ExceptionType = Union[Type[Exception], Tuple[Type[Exception]]]  # не самое удачное именование\n",
    "\n",
    "@contextmanager\n",
    "def raises(expected: ExceptionType) -> Iterator[None]:\n",
    "    try:\n",
    "        yield\n",
    "    except expected:\n",
    "        pass\n",
    "    else:\n",
    "        raise Exception(f\"DID NOT RAISE {e!r}\")\n",
    "```"
   ]
  },
  {
   "cell_type": "markdown",
   "id": "753b3348",
   "metadata": {},
   "source": [
    "### `collections.abc`\n",
    "\n",
    "Обратите внимание, что рантаймовая и статическая истории тесно переплетаются. Модуль `typing` предоставляет ровно те же типы https://docs.python.org/3/library/typing.html#abstract-base-classes, что и `collections.abc`."
   ]
  },
  {
   "cell_type": "markdown",
   "id": "a5e6a6ed",
   "metadata": {},
   "source": [
    "### `Protocol`"
   ]
  },
  {
   "cell_type": "markdown",
   "id": "eddbc8f3",
   "metadata": {},
   "source": [
    "```python\n",
    "class Proto(Protocol):\n",
    "    def meth(self) -> int:\n",
    "        ...\n",
    "\n",
    "...\n",
    "\n",
    "class C:\n",
    "    def meth(self) -> int:\n",
    "        return 0\n",
    "\n",
    "def func(x: Proto) -> int:\n",
    "    return x.meth()\n",
    "\n",
    "func(C())  # Passes static type check\n",
    "```"
   ]
  },
  {
   "cell_type": "code",
   "execution_count": 9,
   "id": "1aa87033",
   "metadata": {
    "ExecuteTime": {
     "end_time": "2022-04-02T16:16:25.013961Z",
     "start_time": "2022-04-02T16:16:25.010869Z"
    }
   },
   "outputs": [],
   "source": [
    "from typing import Protocol, runtime_checkable"
   ]
  },
  {
   "cell_type": "code",
   "execution_count": 10,
   "id": "8704ab06",
   "metadata": {
    "ExecuteTime": {
     "end_time": "2022-04-02T16:16:25.593287Z",
     "start_time": "2022-04-02T16:16:25.589107Z"
    }
   },
   "outputs": [],
   "source": [
    "@runtime_checkable\n",
    "class Closable(Protocol):\n",
    "    def close(self): ...\n",
    "\n",
    "        \n",
    "with open(\"./kafka.jpg\") as f:\n",
    "    assert isinstance(f, Closable)"
   ]
  },
  {
   "cell_type": "markdown",
   "id": "2e0a97cf",
   "metadata": {},
   "source": [
    "### `Generic` / `TypeVar`"
   ]
  },
  {
   "cell_type": "markdown",
   "id": "b8f37b26",
   "metadata": {},
   "source": [
    "Просмотрите и проверьте с помощью `mypy` код из файла './logged_var.py'. "
   ]
  },
  {
   "cell_type": "markdown",
   "id": "e354b93c",
   "metadata": {},
   "source": [
    "Еще один пример использования `Generic` / `TypeVar`:"
   ]
  },
  {
   "cell_type": "markdown",
   "id": "be5e1d92",
   "metadata": {},
   "source": [
    "```python\n",
    "class Mapping(Generic[KT, VT]):\n",
    "    def __getitem__(self, key: KT) -> VT:\n",
    "        ...\n",
    "        # Etc.\n",
    "```"
   ]
  },
  {
   "cell_type": "markdown",
   "id": "48594642",
   "metadata": {},
   "source": [
    "### `self` и `cls`"
   ]
  },
  {
   "cell_type": "markdown",
   "id": "036a5417",
   "metadata": {},
   "source": [
    "Обычно не нужно аннотировать (кроме того, это может быть сложно, т.к. класс при определении методов еще не определен).\n",
    "\n",
    "Просмотрите два примера:\n",
    "- './animal_bad.py'\n",
    "- './animal_good.py'\n",
    "\n",
    "Попробуйте проанализировать их с помощью `mypy`."
   ]
  }
 ],
 "metadata": {
  "kernelspec": {
   "display_name": "Python 3 (ipykernel)",
   "language": "python",
   "name": "python3"
  },
  "language_info": {
   "codemirror_mode": {
    "name": "ipython",
    "version": 3
   },
   "file_extension": ".py",
   "mimetype": "text/x-python",
   "name": "python",
   "nbconvert_exporter": "python",
   "pygments_lexer": "ipython3",
   "version": "3.8.12"
  },
  "toc": {
   "base_numbering": 1,
   "nav_menu": {},
   "number_sections": true,
   "sideBar": true,
   "skip_h1_title": false,
   "title_cell": "Table of Contents",
   "title_sidebar": "Contents",
   "toc_cell": false,
   "toc_position": {},
   "toc_section_display": true,
   "toc_window_display": true
  }
 },
 "nbformat": 4,
 "nbformat_minor": 5
}
