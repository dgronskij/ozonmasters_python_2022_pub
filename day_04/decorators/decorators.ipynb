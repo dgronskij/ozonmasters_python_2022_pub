{
 "cells": [
  {
   "cell_type": "markdown",
   "id": "a3944f3f",
   "metadata": {},
   "source": [
    "# Постановка задачи\n",
    "\n",
    "## Замер времени"
   ]
  },
  {
   "cell_type": "code",
   "execution_count": 1,
   "id": "cc511291",
   "metadata": {},
   "outputs": [],
   "source": [
    "import time"
   ]
  },
  {
   "cell_type": "code",
   "execution_count": 2,
   "id": "91d711f3",
   "metadata": {},
   "outputs": [],
   "source": [
    "def some_long_operation():\n",
    "    time.sleep(3)"
   ]
  },
  {
   "cell_type": "markdown",
   "id": "ca297ff8",
   "metadata": {},
   "source": [
    "хотим логировать время работы этой функции"
   ]
  },
  {
   "cell_type": "code",
   "execution_count": 3,
   "id": "ad07ee67",
   "metadata": {},
   "outputs": [
    {
     "name": "stdout",
     "output_type": "stream",
     "text": [
      "duration is 3.0041282176971436\n"
     ]
    }
   ],
   "source": [
    "def some_long_operation():\n",
    "    start_time = time.time()\n",
    "    \n",
    "    time.sleep(3)\n",
    "    \n",
    "    end_time = time.time()\n",
    "    print('duration is', end_time - start_time)\n",
    "    \n",
    "some_long_operation()"
   ]
  },
  {
   "cell_type": "markdown",
   "id": "47e93c72",
   "metadata": {},
   "source": [
    "## Хотим замерять другую функцию"
   ]
  },
  {
   "cell_type": "code",
   "execution_count": 4,
   "id": "da9de304",
   "metadata": {},
   "outputs": [
    {
     "name": "stdout",
     "output_type": "stream",
     "text": [
      "duration is 1.0015640258789062\n"
     ]
    }
   ],
   "source": [
    "def another_long_operation():\n",
    "    start_time = time.time()\n",
    "    \n",
    "    time.sleep(1)\n",
    "    \n",
    "    end_time = time.time()\n",
    "    print('duration is', end_time - start_time)\n",
    "    \n",
    "another_long_operation()"
   ]
  },
  {
   "cell_type": "markdown",
   "id": "58d7dbaf",
   "metadata": {},
   "source": [
    "# DRY"
   ]
  },
  {
   "cell_type": "markdown",
   "id": "328f44e1",
   "metadata": {},
   "source": [
    "Декомпозируем"
   ]
  },
  {
   "cell_type": "code",
   "execution_count": 5,
   "id": "eea6cda2",
   "metadata": {},
   "outputs": [],
   "source": [
    "def timeit(func, *args, **kwargs):\n",
    "    start_time = time.time()\n",
    "    \n",
    "    func(*args, **kwargs)\n",
    "    \n",
    "    end_time = time.time()\n",
    "    print('duration is', end_time - start_time)\n",
    "    \n",
    "def some_long_operation(sleep_for):\n",
    "    time.sleep(sleep_for)"
   ]
  },
  {
   "cell_type": "code",
   "execution_count": 6,
   "id": "b8ece5ac",
   "metadata": {},
   "outputs": [
    {
     "name": "stdout",
     "output_type": "stream",
     "text": [
      "duration is 0.10080528259277344\n",
      "duration is 0.20143747329711914\n",
      "duration is 0.5006773471832275\n",
      "duration is 1.0263147354125977\n"
     ]
    }
   ],
   "source": [
    "timeit(some_long_operation, .1)\n",
    "timeit(some_long_operation, .2)\n",
    "timeit(some_long_operation, .5)\n",
    "timeit(some_long_operation, 1)"
   ]
  },
  {
   "cell_type": "markdown",
   "id": "a526f77f",
   "metadata": {},
   "source": [
    "Не хотим писать timeit все время -- как сделать?"
   ]
  },
  {
   "cell_type": "code",
   "execution_count": 7,
   "id": "12b3d762",
   "metadata": {},
   "outputs": [
    {
     "name": "stdout",
     "output_type": "stream",
     "text": [
      "duration is 0.11095952987670898\n"
     ]
    },
    {
     "data": {
      "text/plain": [
       "0.1"
      ]
     },
     "execution_count": 7,
     "metadata": {},
     "output_type": "execute_result"
    }
   ],
   "source": [
    "def timeit(func, *args, **kwargs):\n",
    "    def wrapper():\n",
    "        start_time = time.time()\n",
    "\n",
    "        result = func(*args, **kwargs)\n",
    "\n",
    "        end_time = time.time()\n",
    "        print('duration is', end_time - start_time)\n",
    "        \n",
    "        return result\n",
    "    return wrapper\n",
    "\n",
    "def some_long_operation(sleep_for):\n",
    "    time.sleep(sleep_for)\n",
    "    return sleep_for\n",
    "    \n",
    "some_long_operation = timeit(some_long_operation, .1) # нужно сразу передать аргументы, неудобно!\n",
    "\n",
    "some_long_operation()"
   ]
  },
  {
   "cell_type": "markdown",
   "id": "93a4218c",
   "metadata": {},
   "source": [
    "переделываем"
   ]
  },
  {
   "cell_type": "code",
   "execution_count": 8,
   "id": "fc05a2d7",
   "metadata": {},
   "outputs": [
    {
     "name": "stdout",
     "output_type": "stream",
     "text": [
      "duration is 0.1761929988861084\n",
      "duration is 0.20540904998779297\n"
     ]
    }
   ],
   "source": [
    "def timeit(func):\n",
    "    def wrapper(*args, **kwargs):\n",
    "        start_time = time.time()\n",
    "\n",
    "        result = func(*args, **kwargs)\n",
    "\n",
    "        end_time = time.time()\n",
    "        print('duration is', end_time - start_time)\n",
    "        \n",
    "        return result\n",
    "    return wrapper\n",
    "\n",
    "def some_long_operation(sleep_for):\n",
    "    time.sleep(sleep_for)\n",
    "    \n",
    "some_long_operation = timeit(some_long_operation)\n",
    "\n",
    "some_long_operation(.1)\n",
    "some_long_operation(.2)"
   ]
  },
  {
   "cell_type": "markdown",
   "id": "17f66a8c",
   "metadata": {},
   "source": [
    "# типичный шаблон.."
   ]
  },
  {
   "cell_type": "code",
   "execution_count": 92,
   "id": "0874d37d",
   "metadata": {
    "scrolled": true
   },
   "outputs": [
    {
     "ename": "SyntaxError",
     "evalue": "invalid syntax (3451782019.py, line 1)",
     "output_type": "error",
     "traceback": [
      "\u001b[0;36m  Input \u001b[0;32mIn [92]\u001b[0;36m\u001b[0m\n\u001b[0;31m    def function(...):\u001b[0m\n\u001b[0m                 ^\u001b[0m\n\u001b[0;31mSyntaxError\u001b[0m\u001b[0;31m:\u001b[0m invalid syntax\n"
     ]
    }
   ],
   "source": [
    "def function(...):\n",
    "    ...\n",
    "\n",
    "function = make_wrapper(function)"
   ]
  },
  {
   "cell_type": "markdown",
   "id": "6f95f24d",
   "metadata": {},
   "source": [
    "## настолько типичный, что даже сделали специальный синтаксис"
   ]
  },
  {
   "cell_type": "code",
   "execution_count": 10,
   "id": "da4aa2e7",
   "metadata": {},
   "outputs": [
    {
     "ename": "NameError",
     "evalue": "name 'make_wrapper' is not defined",
     "output_type": "error",
     "traceback": [
      "\u001b[0;31m---------------------------------------------------------------------------\u001b[0m",
      "\u001b[0;31mNameError\u001b[0m                                 Traceback (most recent call last)",
      "Input \u001b[0;32mIn [10]\u001b[0m, in \u001b[0;36m<module>\u001b[0;34m\u001b[0m\n\u001b[0;32m----> 1\u001b[0m \u001b[38;5;129m@make_wrapper\u001b[39m\n\u001b[1;32m      2\u001b[0m \u001b[38;5;28;01mdef\u001b[39;00m \u001b[38;5;21mfunction\u001b[39m():\n\u001b[1;32m      3\u001b[0m     \u001b[38;5;241m.\u001b[39m\u001b[38;5;241m.\u001b[39m\u001b[38;5;241m.\u001b[39m\n",
      "\u001b[0;31mNameError\u001b[0m: name 'make_wrapper' is not defined"
     ]
    }
   ],
   "source": [
    "@make_wrapper\n",
    "def function():\n",
    "    ..."
   ]
  },
  {
   "cell_type": "code",
   "execution_count": null,
   "id": "bba45a16",
   "metadata": {},
   "outputs": [],
   "source": [
    "def function(...):\n",
    "    ...\n",
    "\n",
    "function = make_wrapper(function)"
   ]
  },
  {
   "cell_type": "code",
   "execution_count": 11,
   "id": "ea90988a",
   "metadata": {},
   "outputs": [
    {
     "name": "stdout",
     "output_type": "stream",
     "text": [
      "duration is 0.10639071464538574\n",
      "duration is 0.21231842041015625\n"
     ]
    }
   ],
   "source": [
    "def timeit(func):\n",
    "    def wrapper(*args, **kwargs):\n",
    "        start_time = time.time()\n",
    "\n",
    "        result = func(*args, **kwargs)\n",
    "\n",
    "        end_time = time.time()\n",
    "        print('duration is', end_time - start_time)\n",
    "        \n",
    "        return result\n",
    "    return wrapper\n",
    "\n",
    "@timeit\n",
    "def some_long_operation(sleep_for):\n",
    "    time.sleep(sleep_for)\n",
    "\n",
    "some_long_operation(.1)\n",
    "some_long_operation(.2)"
   ]
  },
  {
   "cell_type": "markdown",
   "id": "b0bd0e77",
   "metadata": {},
   "source": [
    "## Еще пример"
   ]
  },
  {
   "cell_type": "code",
   "execution_count": 12,
   "id": "cd57056a",
   "metadata": {},
   "outputs": [
    {
     "data": {
      "text/plain": [
       "'<b><i>hello dima</i></b>'"
      ]
     },
     "execution_count": 12,
     "metadata": {},
     "output_type": "execute_result"
    }
   ],
   "source": [
    "def with_bold(func):\n",
    "    def wrapper(*args, **kwargs):\n",
    "        return '<b>' + func(*args, **kwargs) + '</b>'\n",
    "    return wrapper\n",
    "\n",
    "def with_italic(func):\n",
    "    def wrapper(*args, **kwargs):\n",
    "        return '<i>' + func(*args, **kwargs) + '</i>'\n",
    "    return wrapper\n",
    "\n",
    "def make_greeting(username):\n",
    "    return f'hello {username}'\n",
    "\n",
    "make_greeting = with_bold(with_italic(make_greeting))\n",
    "make_greeting('dima')"
   ]
  },
  {
   "cell_type": "code",
   "execution_count": 13,
   "id": "75b05aaa",
   "metadata": {},
   "outputs": [
    {
     "data": {
      "text/plain": [
       "'<b><i>hello dima</i></b>'"
      ]
     },
     "execution_count": 13,
     "metadata": {},
     "output_type": "execute_result"
    }
   ],
   "source": [
    "@with_bold\n",
    "@with_italic\n",
    "def make_greeting(username):\n",
    "    return f'hello {username}'\n",
    "\n",
    "make_greeting('dima')"
   ]
  },
  {
   "cell_type": "markdown",
   "id": "199d7189",
   "metadata": {},
   "source": [
    "## [warning] порядок применения"
   ]
  },
  {
   "cell_type": "code",
   "execution_count": 93,
   "id": "21ce88cb",
   "metadata": {},
   "outputs": [
    {
     "ename": "NameError",
     "evalue": "name 'deco1' is not defined",
     "output_type": "error",
     "traceback": [
      "\u001b[0;31m---------------------------------------------------------------------------\u001b[0m",
      "\u001b[0;31mNameError\u001b[0m                                 Traceback (most recent call last)",
      "Input \u001b[0;32mIn [93]\u001b[0m, in \u001b[0;36m<module>\u001b[0;34m\u001b[0m\n\u001b[0;32m----> 1\u001b[0m \u001b[38;5;129m@deco1\u001b[39m\n\u001b[1;32m      2\u001b[0m \u001b[38;5;129m@deco2\u001b[39m\n\u001b[1;32m      3\u001b[0m \u001b[38;5;129m@deco3\u001b[39m  \u001b[38;5;66;03m# оборачиваем в порядке луковой кожуры\u001b[39;00m\n\u001b[1;32m      4\u001b[0m \u001b[38;5;28;01mdef\u001b[39;00m \u001b[38;5;21mfunc\u001b[39m():\n\u001b[1;32m      5\u001b[0m     \u001b[38;5;241m.\u001b[39m\u001b[38;5;241m.\u001b[39m\u001b[38;5;241m.\u001b[39m\n\u001b[1;32m      7\u001b[0m func \u001b[38;5;241m=\u001b[39m deco3(func)\n",
      "\u001b[0;31mNameError\u001b[0m: name 'deco1' is not defined"
     ]
    }
   ],
   "source": [
    "@deco1\n",
    "@deco2\n",
    "@deco3  # оборачиваем в порядке луковой кожуры\n",
    "def func():\n",
    "    ...\n",
    "    \n",
    "func = deco3(func)\n",
    "func = deco2(func)  \n",
    "func = deco1(func)"
   ]
  },
  {
   "cell_type": "code",
   "execution_count": 17,
   "id": "93c9b9ee",
   "metadata": {},
   "outputs": [],
   "source": [
    "class Foo:\n",
    "    def __call__(self, *args, **kwargs):\n",
    "        print(locals())"
   ]
  },
  {
   "cell_type": "code",
   "execution_count": 18,
   "id": "67287c36",
   "metadata": {},
   "outputs": [],
   "source": [
    "foo = Foo()"
   ]
  },
  {
   "cell_type": "code",
   "execution_count": 20,
   "id": "821abb8f",
   "metadata": {},
   "outputs": [
    {
     "name": "stdout",
     "output_type": "stream",
     "text": [
      "{'self': <__main__.Foo object at 0x7f47e83c0580>, 'args': (1,), 'kwargs': {'b': 2}}\n"
     ]
    }
   ],
   "source": [
    "foo(1, b=2)"
   ]
  },
  {
   "cell_type": "markdown",
   "id": "55834b1e",
   "metadata": {},
   "source": [
    "# Декоратор -- просто callable от одного аргумента\n",
    "## декоратор через функцию"
   ]
  },
  {
   "cell_type": "code",
   "execution_count": 21,
   "id": "93458495",
   "metadata": {},
   "outputs": [
    {
     "name": "stdout",
     "output_type": "stream",
     "text": [
      "duration is 1.00252103805542\n"
     ]
    }
   ],
   "source": [
    "def timeit(func):\n",
    "    def wrapper(*args, **kwargs):\n",
    "        start_time = time.time()\n",
    "\n",
    "        result = func(*args, **kwargs)\n",
    "\n",
    "        end_time = time.time()\n",
    "        print('duration is', end_time - start_time)\n",
    "        \n",
    "        return result\n",
    "    return wrapper\n",
    "\n",
    "@timeit\n",
    "def wait_for(seconds):\n",
    "    time.sleep(seconds)\n",
    "\n",
    "wait_for(1)"
   ]
  },
  {
   "cell_type": "markdown",
   "id": "3383d0c0",
   "metadata": {},
   "source": [
    "## декоратор через класс"
   ]
  },
  {
   "cell_type": "markdown",
   "id": "bf2978c3",
   "metadata": {},
   "source": [
    "`timeit(func)` должен вернуть что-то, что можно вызвать как функцию"
   ]
  },
  {
   "cell_type": "code",
   "execution_count": 27,
   "id": "303b070a",
   "metadata": {},
   "outputs": [
    {
     "name": "stdout",
     "output_type": "stream",
     "text": [
      "duration is 1.0901024341583252\n",
      "duration is 2.003375768661499\n"
     ]
    }
   ],
   "source": [
    "class timeit:\n",
    "    def __init__(self, func):  # timeit(func)\n",
    "        self._func = func\n",
    "        \n",
    "    def __call__(self, *args, **kwargs):\n",
    "        start_time = time.time()\n",
    "\n",
    "        result = self._func(*args, **kwargs)\n",
    "\n",
    "        end_time = time.time()\n",
    "        print('duration is', end_time - start_time)\n",
    "        \n",
    "        return result\n",
    "\n",
    "@timeit\n",
    "def wait_for(seconds):\n",
    "    time.sleep(seconds)\n",
    "\n",
    "wait_for(1) \n",
    "wait_for(2)"
   ]
  },
  {
   "cell_type": "code",
   "execution_count": null,
   "id": "4816d0e0",
   "metadata": {},
   "outputs": [],
   "source": [
    "from functools import lru_cache"
   ]
  },
  {
   "cell_type": "code",
   "execution_count": null,
   "id": "7c55f139",
   "metadata": {},
   "outputs": [],
   "source": [
    "wait_for._func"
   ]
  },
  {
   "cell_type": "markdown",
   "id": "f8e30b9c",
   "metadata": {},
   "source": [
    "# Декоратор класса"
   ]
  },
  {
   "cell_type": "code",
   "execution_count": 31,
   "id": "a08b5c34",
   "metadata": {},
   "outputs": [
    {
     "data": {
      "text/plain": [
       "['__class__',\n",
       " '__delattr__',\n",
       " '__dict__',\n",
       " '__dir__',\n",
       " '__doc__',\n",
       " '__eq__',\n",
       " '__format__',\n",
       " '__ge__',\n",
       " '__getattribute__',\n",
       " '__gt__',\n",
       " '__hash__',\n",
       " '__init__',\n",
       " '__init_subclass__',\n",
       " '__le__',\n",
       " '__lt__',\n",
       " '__module__',\n",
       " '__ne__',\n",
       " '__new__',\n",
       " '__reduce__',\n",
       " '__reduce_ex__',\n",
       " '__repr__',\n",
       " '__setattr__',\n",
       " '__sizeof__',\n",
       " '__str__',\n",
       " '__subclasshook__',\n",
       " '__weakref__',\n",
       " 'foo']"
      ]
     },
     "execution_count": 31,
     "metadata": {},
     "output_type": "execute_result"
    }
   ],
   "source": [
    "def set_foo(cls):\n",
    "    cls.foo = 'bar'\n",
    "    return cls\n",
    "    \n",
    "@set_foo\n",
    "class Foo:\n",
    "    ...\n",
    "      \n",
    "dir(Foo)  # в коде ошибка"
   ]
  },
  {
   "cell_type": "code",
   "execution_count": 32,
   "id": "52c94e42",
   "metadata": {},
   "outputs": [
    {
     "name": "stdout",
     "output_type": "stream",
     "text": [
      "set_foo decorator called\n",
      "set add_foo_func decorator called\n"
     ]
    },
    {
     "data": {
      "text/plain": [
       "['__class__',\n",
       " '__delattr__',\n",
       " '__dict__',\n",
       " '__dir__',\n",
       " '__doc__',\n",
       " '__eq__',\n",
       " '__format__',\n",
       " '__ge__',\n",
       " '__getattribute__',\n",
       " '__gt__',\n",
       " '__hash__',\n",
       " '__init__',\n",
       " '__init_subclass__',\n",
       " '__le__',\n",
       " '__lt__',\n",
       " '__module__',\n",
       " '__ne__',\n",
       " '__new__',\n",
       " '__reduce__',\n",
       " '__reduce_ex__',\n",
       " '__repr__',\n",
       " '__setattr__',\n",
       " '__sizeof__',\n",
       " '__str__',\n",
       " '__subclasshook__',\n",
       " '__weakref__',\n",
       " 'foo',\n",
       " 'foo_func']"
      ]
     },
     "execution_count": 32,
     "metadata": {},
     "output_type": "execute_result"
    }
   ],
   "source": [
    "def set_foo(cls):\n",
    "    print('set_foo decorator called')\n",
    "    cls.foo = 'bar'\n",
    "    return cls\n",
    "\n",
    "def add_foo_func(cls):\n",
    "    print('set add_foo_func decorator called')\n",
    "    def foo_func(self):\n",
    "        print(self.foo)\n",
    "    cls.foo_func = foo_func\n",
    "    return cls\n",
    "    \n",
    "@add_foo_func\n",
    "@set_foo\n",
    "class Foo:\n",
    "    ...\n",
    "\n",
    "dir(Foo)"
   ]
  },
  {
   "cell_type": "code",
   "execution_count": 33,
   "id": "47eee5cb",
   "metadata": {},
   "outputs": [
    {
     "name": "stdout",
     "output_type": "stream",
     "text": [
      "bar\n"
     ]
    }
   ],
   "source": [
    "print(Foo.foo)"
   ]
  },
  {
   "cell_type": "code",
   "execution_count": 34,
   "id": "b9d3796e",
   "metadata": {},
   "outputs": [
    {
     "name": "stdout",
     "output_type": "stream",
     "text": [
      "bar\n"
     ]
    }
   ],
   "source": [
    "Foo().foo_func()"
   ]
  },
  {
   "cell_type": "markdown",
   "id": "b9413310",
   "metadata": {},
   "source": [
    "## dataclasses"
   ]
  },
  {
   "cell_type": "markdown",
   "id": "7311b1d9",
   "metadata": {},
   "source": [
    "[посмотрите доку!](https://docs.python.org/3/library/dataclasses.html#module-contents)"
   ]
  },
  {
   "cell_type": "code",
   "execution_count": 53,
   "id": "f92dd2f6",
   "metadata": {},
   "outputs": [],
   "source": [
    "class User:\n",
    "    def __init__(self, name: str, surname: str, grade: int = 0):\n",
    "        self.name = name\n",
    "        self.surname = surname\n",
    "        self.grade = grade\n",
    "    \n",
    "    def __str__(self) -> 'str':\n",
    "        return f'** user with name {self.name}'\n",
    "    \n",
    "    def __repr__(self) -> 'str':\n",
    "        return f'User(name={self.name!r}, surname={self.surname!r}, grade={self.grade!r})'\n",
    "    \n",
    "#     def __eq__(self, other) -> bool\n",
    "\n",
    "        \n",
    "# print(str(User('name', 'surname', 10)))\n",
    "# print(repr(User('name', 'surname', 10)))\n",
    "# print(User('name', 'surname', 10) == User('name', 'surname', 10))"
   ]
  },
  {
   "cell_type": "code",
   "execution_count": 55,
   "id": "e61ad359",
   "metadata": {},
   "outputs": [
    {
     "data": {
      "text/plain": [
       "False"
      ]
     },
     "execution_count": 55,
     "metadata": {},
     "output_type": "execute_result"
    }
   ],
   "source": [
    "kwargs = dict(\n",
    "    name='dima',\n",
    "    surname='none',\n",
    "    grade=10,\n",
    ")\n",
    "eval(\n",
    "    repr(User(**kwargs))\n",
    ") == User(**kwargs)"
   ]
  },
  {
   "cell_type": "code",
   "execution_count": 42,
   "id": "85e840fc",
   "metadata": {},
   "outputs": [
    {
     "data": {
      "text/plain": [
       "'** user with name dime'"
      ]
     },
     "execution_count": 42,
     "metadata": {},
     "output_type": "execute_result"
    }
   ],
   "source": [
    "str(User('dime', None))"
   ]
  },
  {
   "cell_type": "code",
   "execution_count": 56,
   "id": "a12e2c9b",
   "metadata": {},
   "outputs": [
    {
     "name": "stdout",
     "output_type": "stream",
     "text": [
      "User(name='name', surname='surname', grade=10)\n",
      "User(name='name', surname='surname', grade=10)\n",
      "True\n"
     ]
    }
   ],
   "source": [
    "import dataclasses\n",
    "@dataclasses.dataclass\n",
    "class User:\n",
    "    name: str\n",
    "    surname: str\n",
    "    grade: int = 0\n",
    "        \n",
    "print(str(User('name', 'surname', 10)))\n",
    "print(repr(User('name', 'surname', 10)))\n",
    "print(User('name', 'surname', 10) == User('name', 'surname', 10))"
   ]
  },
  {
   "cell_type": "markdown",
   "id": "d4dfd39f",
   "metadata": {},
   "source": [
    "# Декораторы с аргументами"
   ]
  },
  {
   "cell_type": "markdown",
   "id": "47632f51",
   "metadata": {},
   "source": [
    "```python\n",
    "@deco(arg=1)\n",
    "def func(*args, **kwargs):\n",
    "    ...\n",
    "```\n",
    "\n",
    "равносильно\n",
    "\n",
    "```python\n",
    "def func(*args, **kwargs):\n",
    "    ...\n",
    "\n",
    "func = deco(arg=1)(func)\n",
    "```    "
   ]
  },
  {
   "cell_type": "markdown",
   "id": "827bcc45",
   "metadata": {},
   "source": [
    "# staticmethod, classmethod"
   ]
  },
  {
   "cell_type": "markdown",
   "id": "55a82390",
   "metadata": {},
   "source": [
    "## Зачем нужны?"
   ]
  },
  {
   "cell_type": "code",
   "execution_count": 57,
   "id": "d6cddbc1",
   "metadata": {},
   "outputs": [],
   "source": [
    "class TimeUtils:\n",
    "    def now(self):\n",
    "        print(time.time())"
   ]
  },
  {
   "cell_type": "code",
   "execution_count": 59,
   "id": "a53ba4d7",
   "metadata": {},
   "outputs": [
    {
     "name": "stdout",
     "output_type": "stream",
     "text": [
      "1646927649.1941116\n"
     ]
    }
   ],
   "source": [
    "TimeUtils().now()"
   ]
  },
  {
   "cell_type": "code",
   "execution_count": 60,
   "id": "be5a7885",
   "metadata": {},
   "outputs": [
    {
     "ename": "TypeError",
     "evalue": "now() missing 1 required positional argument: 'self'",
     "output_type": "error",
     "traceback": [
      "\u001b[0;31m---------------------------------------------------------------------------\u001b[0m",
      "\u001b[0;31mTypeError\u001b[0m                                 Traceback (most recent call last)",
      "Input \u001b[0;32mIn [60]\u001b[0m, in \u001b[0;36m<module>\u001b[0;34m\u001b[0m\n\u001b[0;32m----> 1\u001b[0m \u001b[43mTimeUtils\u001b[49m\u001b[38;5;241;43m.\u001b[39;49m\u001b[43mnow\u001b[49m\u001b[43m(\u001b[49m\u001b[43m)\u001b[49m\n",
      "\u001b[0;31mTypeError\u001b[0m: now() missing 1 required positional argument: 'self'"
     ]
    }
   ],
   "source": [
    "TimeUtils.now()"
   ]
  },
  {
   "cell_type": "markdown",
   "id": "d9f7785a",
   "metadata": {},
   "source": [
    "### now не зависит от self, хотим вызывать через класс"
   ]
  },
  {
   "cell_type": "code",
   "execution_count": 61,
   "id": "16df411d",
   "metadata": {},
   "outputs": [
    {
     "name": "stdout",
     "output_type": "stream",
     "text": [
      "1646927668.8145907\n"
     ]
    }
   ],
   "source": [
    "class TimeUtils:\n",
    "    def now():\n",
    "        print(time.time())\n",
    "\n",
    "TimeUtils.now()"
   ]
  },
  {
   "cell_type": "code",
   "execution_count": 62,
   "id": "ea65f887",
   "metadata": {},
   "outputs": [],
   "source": [
    "# вроде работает!"
   ]
  },
  {
   "cell_type": "code",
   "execution_count": 64,
   "id": "83a0e81b",
   "metadata": {},
   "outputs": [
    {
     "ename": "TypeError",
     "evalue": "now() takes 0 positional arguments but 1 was given",
     "output_type": "error",
     "traceback": [
      "\u001b[0;31m---------------------------------------------------------------------------\u001b[0m",
      "\u001b[0;31mTypeError\u001b[0m                                 Traceback (most recent call last)",
      "Input \u001b[0;32mIn [64]\u001b[0m, in \u001b[0;36m<module>\u001b[0;34m\u001b[0m\n\u001b[0;32m----> 1\u001b[0m \u001b[43mTimeUtils\u001b[49m\u001b[43m(\u001b[49m\u001b[43m)\u001b[49m\u001b[38;5;241;43m.\u001b[39;49m\u001b[43mnow\u001b[49m\u001b[43m(\u001b[49m\u001b[43m)\u001b[49m\n",
      "\u001b[0;31mTypeError\u001b[0m: now() takes 0 positional arguments but 1 was given"
     ]
    }
   ],
   "source": [
    "TimeUtils().now()"
   ]
  },
  {
   "cell_type": "markdown",
   "id": "16452129",
   "metadata": {},
   "source": [
    "### что происходит?"
   ]
  },
  {
   "cell_type": "code",
   "execution_count": 68,
   "id": "95938bc9",
   "metadata": {},
   "outputs": [],
   "source": [
    "class Debugger:\n",
    "    def debug(*args):\n",
    "        print(locals())"
   ]
  },
  {
   "cell_type": "code",
   "execution_count": 69,
   "id": "76e78130",
   "metadata": {},
   "outputs": [
    {
     "name": "stdout",
     "output_type": "stream",
     "text": [
      "{'args': ()}\n",
      "{'args': (<__main__.Debugger object at 0x7f47cf03d460>,)}\n"
     ]
    }
   ],
   "source": [
    "Debugger.debug()\n",
    "Debugger().debug()"
   ]
  },
  {
   "cell_type": "code",
   "execution_count": 71,
   "id": "a59158de",
   "metadata": {},
   "outputs": [
    {
     "name": "stdout",
     "output_type": "stream",
     "text": [
      "<function Debugger.debug at 0x7f47cecb8040>\n",
      "<bound method Debugger.debug of <__main__.Debugger object at 0x7f47cefce4f0>>\n"
     ]
    }
   ],
   "source": [
    "print(Debugger.debug)\n",
    "print(Debugger().debug)"
   ]
  },
  {
   "cell_type": "markdown",
   "id": "3e18b58b",
   "metadata": {},
   "source": [
    "tl;dr -- питон \"связывает\" метод к инстансу класса, если идет доступ через инстанс класса. Что проихсодит на самом деле, обсудим позже"
   ]
  },
  {
   "cell_type": "markdown",
   "id": "d448218c",
   "metadata": {},
   "source": [
    "## staticmethod to the rescue!"
   ]
  },
  {
   "cell_type": "code",
   "execution_count": 77,
   "id": "e336278c",
   "metadata": {},
   "outputs": [
    {
     "name": "stdout",
     "output_type": "stream",
     "text": [
      "{'args': ()}\n",
      "{'args': (<__main__.Debugger object at 0x7f47ced39e20>,)}\n",
      "{'args': ()}\n",
      "{'args': ()}\n",
      "{'args': (<class '__main__.Debugger'>,)}\n",
      "{'args': (<class '__main__.Debugger'>,)}\n"
     ]
    }
   ],
   "source": [
    "class Debugger:\n",
    "    def method(*args):\n",
    "        print(locals())\n",
    "    \n",
    "    @staticmethod\n",
    "    def method_with_static(*args):\n",
    "        print(locals())\n",
    "        \n",
    "#     @classmethod\n",
    "#     def method_with_class(*args):\n",
    "#         print(locals())\n",
    "\n",
    "    @classmethod\n",
    "    def method_with_class(cls):\n",
    "        cls.method_with_static\n",
    "        \n",
    "    \n",
    "Debugger.method()\n",
    "Debugger().method()\n",
    "\n",
    "Debugger.method_with_static()\n",
    "Debugger().method_with_static()\n",
    "\n",
    "Debugger.method_with_class()\n",
    "Debugger().method_with_class()"
   ]
  },
  {
   "cell_type": "code",
   "execution_count": 80,
   "id": "c7b10ac5",
   "metadata": {},
   "outputs": [
    {
     "name": "stdout",
     "output_type": "stream",
     "text": [
      "<class '__main__.Foo'>\n",
      "<class '__main__.Boo'>\n",
      "bunc called\n",
      "bunc called\n"
     ]
    }
   ],
   "source": [
    "class Foo:\n",
    "    @staticmethod\n",
    "    def bunc():\n",
    "        print('bunc called')\n",
    "    \n",
    "    @classmethod\n",
    "    def func(cls):\n",
    "        print(cls)\n",
    "\n",
    "class Boo(Foo):\n",
    "    pass\n",
    "\n",
    "Foo.func()\n",
    "Boo.func()\n",
    "\n",
    "Foo.bunc()\n",
    "Boo.bunc()"
   ]
  },
  {
   "cell_type": "code",
   "execution_count": 220,
   "id": "a5bcf5db",
   "metadata": {},
   "outputs": [
    {
     "data": {
      "text/plain": [
       "mappingproxy({'__module__': '__main__',\n",
       "              'method': <function __main__.Debugger.method(*args)>,\n",
       "              'method_with_static': <staticmethod at 0x7fe7800e75e0>,\n",
       "              'method_with_class': <classmethod at 0x7fe7800e7790>,\n",
       "              '__dict__': <attribute '__dict__' of 'Debugger' objects>,\n",
       "              '__weakref__': <attribute '__weakref__' of 'Debugger' objects>,\n",
       "              '__doc__': None})"
      ]
     },
     "execution_count": 220,
     "metadata": {},
     "output_type": "execute_result"
    }
   ],
   "source": [
    "Debugger.__dict__"
   ]
  },
  {
   "cell_type": "markdown",
   "id": "5af12ff8",
   "metadata": {},
   "source": [
    "### и это тоже обычный декоратор!"
   ]
  },
  {
   "cell_type": "code",
   "execution_count": 221,
   "id": "159bc11f",
   "metadata": {},
   "outputs": [
    {
     "data": {
      "text/plain": [
       "(staticmethod, type)"
      ]
     },
     "execution_count": 221,
     "metadata": {},
     "output_type": "execute_result"
    }
   ],
   "source": [
    "staticmethod, type(staticmethod)"
   ]
  },
  {
   "cell_type": "code",
   "execution_count": 222,
   "id": "83dab314",
   "metadata": {},
   "outputs": [
    {
     "data": {
      "text/plain": [
       "(classmethod, type)"
      ]
     },
     "execution_count": 222,
     "metadata": {},
     "output_type": "execute_result"
    }
   ],
   "source": [
    "classmethod, type(classmethod)"
   ]
  },
  {
   "cell_type": "code",
   "execution_count": null,
   "id": "f47ce35b",
   "metadata": {},
   "outputs": [],
   "source": [
    "class Debugger:\n",
    "    def method(*args):\n",
    "        print(locals())\n",
    "    \n",
    "    def method_with_static(*args):\n",
    "        print(locals())\n",
    "    method_with_static = staticmethod(method_with_static)\n",
    "    \n",
    "    def method_with_class(*args):\n",
    "        print(locals())\n",
    "    method_with_class = classmethod(method_with_class)"
   ]
  },
  {
   "cell_type": "markdown",
   "id": "350f4697",
   "metadata": {},
   "source": [
    "## Вопросы\n",
    "- В каких случаях надо использовать staticmethod, а в каких classmethod?\n",
    "- Может ли classmethod вызвать staticmethod? А наоборот?"
   ]
  },
  {
   "cell_type": "markdown",
   "id": "24fcff82",
   "metadata": {},
   "source": [
    "# Бочку с дегтем этому господину!"
   ]
  },
  {
   "cell_type": "code",
   "execution_count": 82,
   "id": "6870b94e",
   "metadata": {},
   "outputs": [],
   "source": [
    "def super_func(arg: int) -> str:\n",
    "    '''\n",
    "    this super_func will return a string!\n",
    "    '''\n",
    "    return str(arg)"
   ]
  },
  {
   "cell_type": "code",
   "execution_count": 83,
   "id": "79d45bcb",
   "metadata": {},
   "outputs": [
    {
     "name": "stdout",
     "output_type": "stream",
     "text": [
      "Help on function super_func in module __main__:\n",
      "\n",
      "super_func(arg: int) -> str\n",
      "    this super_func will return a string!\n",
      "\n"
     ]
    }
   ],
   "source": [
    "help(super_func)"
   ]
  },
  {
   "cell_type": "code",
   "execution_count": 240,
   "id": "742efbc2",
   "metadata": {},
   "outputs": [
    {
     "data": {
      "text/plain": [
       "'super_func'"
      ]
     },
     "execution_count": 240,
     "metadata": {},
     "output_type": "execute_result"
    }
   ],
   "source": [
    "super_func.__name__"
   ]
  },
  {
   "cell_type": "code",
   "execution_count": 86,
   "id": "32855221",
   "metadata": {},
   "outputs": [],
   "source": [
    "def decorator(func):\n",
    "    def wrapper(*args, **kwargs):\n",
    "        print('starting')\n",
    "        return func(*args, **kwargs)\n",
    "    return wrapper\n",
    "\n",
    "@decorator\n",
    "def super_func(arg: int) -> str:\n",
    "    '''\n",
    "    this super_func will return a string!\n",
    "    '''\n",
    "    return str(arg)"
   ]
  },
  {
   "cell_type": "code",
   "execution_count": 87,
   "id": "d21d14ff",
   "metadata": {},
   "outputs": [
    {
     "name": "stdout",
     "output_type": "stream",
     "text": [
      "starting\n"
     ]
    },
    {
     "data": {
      "text/plain": [
       "'1'"
      ]
     },
     "execution_count": 87,
     "metadata": {},
     "output_type": "execute_result"
    }
   ],
   "source": [
    "super_func(1)"
   ]
  },
  {
   "cell_type": "code",
   "execution_count": 88,
   "id": "a798ab0d",
   "metadata": {},
   "outputs": [
    {
     "name": "stdout",
     "output_type": "stream",
     "text": [
      "Help on function wrapper in module __main__:\n",
      "\n",
      "wrapper(*args, **kwargs)\n",
      "\n"
     ]
    }
   ],
   "source": [
    "help(super_func)"
   ]
  },
  {
   "cell_type": "code",
   "execution_count": 243,
   "id": "be9a4f89",
   "metadata": {},
   "outputs": [
    {
     "data": {
      "text/plain": [
       "'wrapper'"
      ]
     },
     "execution_count": 243,
     "metadata": {},
     "output_type": "execute_result"
    }
   ],
   "source": [
    "super_func.__name__"
   ]
  },
  {
   "cell_type": "code",
   "execution_count": 91,
   "id": "cbdd514c",
   "metadata": {},
   "outputs": [],
   "source": [
    "import functools"
   ]
  },
  {
   "cell_type": "code",
   "execution_count": 92,
   "id": "8abae98a",
   "metadata": {},
   "outputs": [],
   "source": [
    "def decorator(func):\n",
    "    @functools.wraps(func)\n",
    "    def wrapper(*args, **kwargs):\n",
    "        print('starting')\n",
    "        return func(*args, **kwargs)\n",
    "    return wrapper\n",
    "\n",
    "@decorator\n",
    "def super_func(arg: int) -> str:\n",
    "    '''\n",
    "    this super_func will return a string!\n",
    "    '''\n",
    "    return str(arg)"
   ]
  },
  {
   "cell_type": "code",
   "execution_count": 93,
   "id": "e3891296",
   "metadata": {},
   "outputs": [
    {
     "name": "stdout",
     "output_type": "stream",
     "text": [
      "Help on function super_func in module __main__:\n",
      "\n",
      "super_func(arg: int) -> str\n",
      "    this super_func will return a string!\n",
      "\n"
     ]
    }
   ],
   "source": [
    "help(super_func)"
   ]
  },
  {
   "cell_type": "markdown",
   "id": "b7496a20",
   "metadata": {},
   "source": [
    "## можно ли так сделать с классом?"
   ]
  },
  {
   "cell_type": "code",
   "execution_count": null,
   "id": "9e6de64e",
   "metadata": {},
   "outputs": [],
   "source": [
    "def super_func(arg: int) -> str:\n",
    "    '''\n",
    "    this super_func will return a string!\n",
    "    '''\n",
    "    return str(arg)"
   ]
  },
  {
   "cell_type": "code",
   "execution_count": 94,
   "id": "4fb23d01",
   "metadata": {},
   "outputs": [],
   "source": [
    "class decorator:\n",
    "    def __init__(self, func):  # timeit(func)\n",
    "        self._func = func\n",
    "        \n",
    "    def __call__(self, *args, **kwargs):\n",
    "        print('starting')\n",
    "        return self._func(*args, **kwargs)\n",
    "\n",
    "@decorator\n",
    "def super_func(arg: int) -> str:\n",
    "    '''\n",
    "    this super_func will return a string!\n",
    "    '''\n",
    "    return str(arg)"
   ]
  },
  {
   "cell_type": "code",
   "execution_count": 95,
   "id": "27b2d599",
   "metadata": {},
   "outputs": [
    {
     "name": "stdout",
     "output_type": "stream",
     "text": [
      "Help on decorator in module __main__ object:\n",
      "\n",
      "class decorator(builtins.object)\n",
      " |  decorator(func)\n",
      " |  \n",
      " |  Methods defined here:\n",
      " |  \n",
      " |  __call__(self, *args, **kwargs)\n",
      " |      Call self as a function.\n",
      " |  \n",
      " |  __init__(self, func)\n",
      " |      Initialize self.  See help(type(self)) for accurate signature.\n",
      " |  \n",
      " |  ----------------------------------------------------------------------\n",
      " |  Data descriptors defined here:\n",
      " |  \n",
      " |  __dict__\n",
      " |      dictionary for instance variables (if defined)\n",
      " |  \n",
      " |  __weakref__\n",
      " |      list of weak references to the object (if defined)\n",
      "\n"
     ]
    }
   ],
   "source": [
    "help(super_func)"
   ]
  },
  {
   "cell_type": "code",
   "execution_count": 96,
   "id": "fb4d896c",
   "metadata": {},
   "outputs": [],
   "source": [
    "# @functools.wraps использует под капотом functools.update_wrapper"
   ]
  },
  {
   "cell_type": "code",
   "execution_count": 105,
   "id": "1ca25f3c",
   "metadata": {},
   "outputs": [],
   "source": [
    "class decorator:\n",
    "    def __init__(self, func):  # timeit(func)\n",
    "        self._func = func\n",
    "        functools.update_wrapper(self, func)\n",
    "        \n",
    "    def __call__(self, *args, **kwargs):\n",
    "        print('starting')\n",
    "        return self._func(*args, **kwargs)\n",
    "\n",
    "@decorator\n",
    "def super_func(arg: int) -> str:\n",
    "    '''\n",
    "    this super_func will return a string!\n",
    "    '''\n",
    "    return str(arg)"
   ]
  },
  {
   "cell_type": "code",
   "execution_count": 107,
   "id": "d9123355",
   "metadata": {},
   "outputs": [
    {
     "data": {
      "text/plain": [
       "'\\n    this super_func will return a string!\\n    '"
      ]
     },
     "execution_count": 107,
     "metadata": {},
     "output_type": "execute_result"
    }
   ],
   "source": [
    "super_func.__doc__"
   ]
  },
  {
   "cell_type": "code",
   "execution_count": 108,
   "id": "2396e7dc",
   "metadata": {},
   "outputs": [
    {
     "data": {
      "text/plain": [
       "'super_func'"
      ]
     },
     "execution_count": 108,
     "metadata": {},
     "output_type": "execute_result"
    }
   ],
   "source": [
    "super_func.__name__"
   ]
  },
  {
   "cell_type": "code",
   "execution_count": 109,
   "id": "7d5fbe0c",
   "metadata": {},
   "outputs": [
    {
     "name": "stdout",
     "output_type": "stream",
     "text": [
      "Help on decorator in module __main__ object:\n",
      "\n",
      "super_func = class decorator(builtins.object)\n",
      " |  super_func(func)\n",
      " |  \n",
      " |  Methods defined here:\n",
      " |  \n",
      " |  __call__(self, *args, **kwargs)\n",
      " |      Call self as a function.\n",
      " |  \n",
      " |  __init__(self, func)\n",
      " |      Initialize self.  See help(type(self)) for accurate signature.\n",
      " |  \n",
      " |  ----------------------------------------------------------------------\n",
      " |  Data descriptors defined here:\n",
      " |  \n",
      " |  __dict__\n",
      " |      dictionary for instance variables (if defined)\n",
      " |  \n",
      " |  __weakref__\n",
      " |      list of weak references to the object (if defined)\n",
      "\n"
     ]
    }
   ],
   "source": [
    "help(super_func)"
   ]
  },
  {
   "cell_type": "code",
   "execution_count": 261,
   "id": "f24d591e",
   "metadata": {},
   "outputs": [
    {
     "data": {
      "text/plain": [
       "'super_func'"
      ]
     },
     "execution_count": 261,
     "metadata": {},
     "output_type": "execute_result"
    }
   ],
   "source": [
    "super_func.__name__"
   ]
  },
  {
   "cell_type": "code",
   "execution_count": 262,
   "id": "04d61715",
   "metadata": {},
   "outputs": [
    {
     "data": {
      "text/plain": [
       "'\\n    this super_func will return a string!\\n    '"
      ]
     },
     "execution_count": 262,
     "metadata": {},
     "output_type": "execute_result"
    }
   ],
   "source": [
    "super_func.__doc__"
   ]
  },
  {
   "cell_type": "markdown",
   "id": "a9b4848f",
   "metadata": {},
   "source": [
    "# [functools](https://docs.python.org/3/library/functools.html)"
   ]
  },
  {
   "cell_type": "code",
   "execution_count": null,
   "id": "99afa22e",
   "metadata": {},
   "outputs": [],
   "source": []
  }
 ],
 "metadata": {
  "kernelspec": {
   "display_name": "py_38",
   "language": "python",
   "name": "py_38"
  },
  "language_info": {
   "codemirror_mode": {
    "name": "ipython",
    "version": 3
   },
   "file_extension": ".py",
   "mimetype": "text/x-python",
   "name": "python",
   "nbconvert_exporter": "python",
   "pygments_lexer": "ipython3",
   "version": "3.8.12"
  },
  "toc": {
   "base_numbering": 1,
   "nav_menu": {},
   "number_sections": true,
   "sideBar": true,
   "skip_h1_title": false,
   "title_cell": "Table of Contents",
   "title_sidebar": "Contents",
   "toc_cell": false,
   "toc_position": {
    "height": "calc(100% - 180px)",
    "left": "10px",
    "top": "150px",
    "width": "172.133px"
   },
   "toc_section_display": true,
   "toc_window_display": true
  }
 },
 "nbformat": 4,
 "nbformat_minor": 5
}
