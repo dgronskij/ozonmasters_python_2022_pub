{
 "cells": [
  {
   "cell_type": "markdown",
   "id": "0fdfde73",
   "metadata": {},
   "source": [
    "# Продолжаем говорить про тесты"
   ]
  },
  {
   "cell_type": "markdown",
   "id": "27d76e29",
   "metadata": {},
   "source": [
    "Мы начинали говорить про тестирование в прошлый раз, рассмотрели одну из простых классификаций тестов:\n",
    "\n",
    "![Пирамида](https://www.vendure.io/blog/2021/03/whats-up-with-e2e-tests/testing-pyramid.png)\n",
    "\n",
    "И посмотрели, как в простом варианте писать unit-тесты. И работать с `pytest`."
   ]
  },
  {
   "cell_type": "markdown",
   "id": "82eaeba7",
   "metadata": {},
   "source": [
    "# Обзор инструментов"
   ]
  },
  {
   "cell_type": "markdown",
   "id": "fdeeafe1",
   "metadata": {
    "ExecuteTime": {
     "end_time": "2022-03-10T03:54:54.864900Z",
     "start_time": "2022-03-10T03:54:54.857756Z"
    }
   },
   "source": [
    "Пронесемся по верхам, чтобы было общее понимание, что это вообще такое, как примерно использовать\n",
    "и куда лезть, чтобы погрузиться глубже."
   ]
  },
  {
   "cell_type": "markdown",
   "id": "e5368a89",
   "metadata": {},
   "source": [
    "## `unittest.mock.` (https://docs.python.org/3/library/unittest.mock.html)"
   ]
  },
  {
   "cell_type": "markdown",
   "id": "0965d76a",
   "metadata": {},
   "source": [
    "### Проблема: ходим в базу (или делаем что-нибудь тяжелое / влияющее на внешний мир) -- как это тестировать?"
   ]
  },
  {
   "cell_type": "code",
   "execution_count": 36,
   "id": "5bfc885f",
   "metadata": {
    "ExecuteTime": {
     "end_time": "2022-03-10T16:55:49.911429Z",
     "start_time": "2022-03-10T16:55:49.904028Z"
    }
   },
   "outputs": [],
   "source": [
    "from time import sleep\n",
    "\n",
    "\n",
    "class DatabaseError(Exception):\n",
    "    ...\n",
    "\n",
    "\n",
    "def get_data_from_database():\n",
    "    \"\"\" Некоторая функция, которая производит \"тяжелые операции\", например ходит в базу\n",
    "    или еще что-то делает, что в тестах как-то не хочется делать.\n",
    "    \"\"\"\n",
    "    sleep(10)  # имитируем тяжелую работу\n",
    "    return [1, 2, 3]  # и выходные данные\n",
    "\n",
    "\n",
    "def process_data_from_database():\n",
    "    \"\"\" А эту функцию мы хотим протестировать.\n",
    "    \"\"\"\n",
    "    try:\n",
    "        data = get_data_from_database()\n",
    "    except DatabaseError:\n",
    "        print(\"Get DB error\")\n",
    "        return\n",
    "    print(f\"Received data: {data}\")\n",
    "    ... # processing\n",
    "    return data"
   ]
  },
  {
   "cell_type": "markdown",
   "id": "800828ed",
   "metadata": {},
   "source": [
    "### Решение: `Mock` и `patch`"
   ]
  },
  {
   "cell_type": "code",
   "execution_count": 3,
   "id": "f2a76573",
   "metadata": {
    "ExecuteTime": {
     "end_time": "2022-03-10T16:42:59.349314Z",
     "start_time": "2022-03-10T16:42:59.325377Z"
    }
   },
   "outputs": [],
   "source": [
    "from unittest.mock import Mock"
   ]
  },
  {
   "cell_type": "markdown",
   "id": "c860d461",
   "metadata": {},
   "source": [
    "Mock and MagicMock objects create all attributes and methods as you access them and store details of how they have been used. You can configure them, to specify return values or limit what attributes are available, and then make assertions about how they have been used."
   ]
  },
  {
   "cell_type": "code",
   "execution_count": 4,
   "id": "00ccc456",
   "metadata": {
    "ExecuteTime": {
     "end_time": "2022-03-10T16:43:00.143328Z",
     "start_time": "2022-03-10T16:43:00.126171Z"
    }
   },
   "outputs": [],
   "source": [
    "m = Mock()"
   ]
  },
  {
   "cell_type": "code",
   "execution_count": 12,
   "id": "4d477931",
   "metadata": {
    "ExecuteTime": {
     "end_time": "2022-03-10T16:44:40.729638Z",
     "start_time": "2022-03-10T16:44:40.710187Z"
    }
   },
   "outputs": [
    {
     "data": {
      "text/plain": [
       "<Mock name='mock.a()' id='140188080280048'>"
      ]
     },
     "execution_count": 12,
     "metadata": {},
     "output_type": "execute_result"
    }
   ],
   "source": [
    "m.a(1)"
   ]
  },
  {
   "cell_type": "code",
   "execution_count": 32,
   "id": "fd7e7aa3",
   "metadata": {
    "ExecuteTime": {
     "end_time": "2022-03-10T16:49:17.128127Z",
     "start_time": "2022-03-10T16:49:17.091067Z"
    }
   },
   "outputs": [
    {
     "data": {
      "text/plain": [
       "<Mock name='mock.a.b.c.d().b()' id='140188122122080'>"
      ]
     },
     "execution_count": 32,
     "metadata": {},
     "output_type": "execute_result"
    }
   ],
   "source": [
    "m.a.b.c.d"
   ]
  },
  {
   "cell_type": "code",
   "execution_count": 14,
   "id": "a8405060",
   "metadata": {
    "ExecuteTime": {
     "end_time": "2022-03-10T16:45:33.825721Z",
     "start_time": "2022-03-10T16:45:33.807290Z"
    }
   },
   "outputs": [
    {
     "data": {
      "text/plain": [
       "(100500, 1, [call(1, 2, a=3)])"
      ]
     },
     "execution_count": 14,
     "metadata": {},
     "output_type": "execute_result"
    }
   ],
   "source": [
    "m.return_value = 100500\n",
    "m(1, 2, a=3), m.call_count, m.call_args_list"
   ]
  },
  {
   "cell_type": "code",
   "execution_count": 15,
   "id": "69eac92a",
   "metadata": {
    "ExecuteTime": {
     "end_time": "2022-03-10T16:46:19.064806Z",
     "start_time": "2022-03-10T16:46:18.515578Z"
    },
    "collapsed": true
   },
   "outputs": [
    {
     "ename": "Exception",
     "evalue": "OMG!",
     "output_type": "error",
     "traceback": [
      "\u001b[0;31m---------------------------------------------------------------------------\u001b[0m",
      "\u001b[0;31mException\u001b[0m                                 Traceback (most recent call last)",
      "Input \u001b[0;32mIn [15]\u001b[0m, in \u001b[0;36m<cell line: 2>\u001b[0;34m()\u001b[0m\n\u001b[1;32m      1\u001b[0m m\u001b[38;5;241m.\u001b[39mside_effect \u001b[38;5;241m=\u001b[39m \u001b[38;5;167;01mException\u001b[39;00m(\u001b[38;5;124m\"\u001b[39m\u001b[38;5;124mOMG!\u001b[39m\u001b[38;5;124m\"\u001b[39m)\n\u001b[0;32m----> 2\u001b[0m \u001b[43mm\u001b[49m\u001b[43m(\u001b[49m\u001b[43m)\u001b[49m\n",
      "File \u001b[0;32m~/anaconda2/envs/py38/lib/python3.8/unittest/mock.py:1081\u001b[0m, in \u001b[0;36mCallableMixin.__call__\u001b[0;34m(self, *args, **kwargs)\u001b[0m\n\u001b[1;32m   1079\u001b[0m \u001b[38;5;28mself\u001b[39m\u001b[38;5;241m.\u001b[39m_mock_check_sig(\u001b[38;5;241m*\u001b[39margs, \u001b[38;5;241m*\u001b[39m\u001b[38;5;241m*\u001b[39mkwargs)\n\u001b[1;32m   1080\u001b[0m \u001b[38;5;28mself\u001b[39m\u001b[38;5;241m.\u001b[39m_increment_mock_call(\u001b[38;5;241m*\u001b[39margs, \u001b[38;5;241m*\u001b[39m\u001b[38;5;241m*\u001b[39mkwargs)\n\u001b[0;32m-> 1081\u001b[0m \u001b[38;5;28;01mreturn\u001b[39;00m \u001b[38;5;28;43mself\u001b[39;49m\u001b[38;5;241;43m.\u001b[39;49m\u001b[43m_mock_call\u001b[49m\u001b[43m(\u001b[49m\u001b[38;5;241;43m*\u001b[39;49m\u001b[43margs\u001b[49m\u001b[43m,\u001b[49m\u001b[43m \u001b[49m\u001b[38;5;241;43m*\u001b[39;49m\u001b[38;5;241;43m*\u001b[39;49m\u001b[43mkwargs\u001b[49m\u001b[43m)\u001b[49m\n",
      "File \u001b[0;32m~/anaconda2/envs/py38/lib/python3.8/unittest/mock.py:1085\u001b[0m, in \u001b[0;36mCallableMixin._mock_call\u001b[0;34m(self, *args, **kwargs)\u001b[0m\n\u001b[1;32m   1084\u001b[0m \u001b[38;5;28;01mdef\u001b[39;00m \u001b[38;5;21m_mock_call\u001b[39m(\u001b[38;5;28mself\u001b[39m, \u001b[38;5;241m/\u001b[39m, \u001b[38;5;241m*\u001b[39margs, \u001b[38;5;241m*\u001b[39m\u001b[38;5;241m*\u001b[39mkwargs):\n\u001b[0;32m-> 1085\u001b[0m     \u001b[38;5;28;01mreturn\u001b[39;00m \u001b[38;5;28;43mself\u001b[39;49m\u001b[38;5;241;43m.\u001b[39;49m\u001b[43m_execute_mock_call\u001b[49m\u001b[43m(\u001b[49m\u001b[38;5;241;43m*\u001b[39;49m\u001b[43margs\u001b[49m\u001b[43m,\u001b[49m\u001b[43m \u001b[49m\u001b[38;5;241;43m*\u001b[39;49m\u001b[38;5;241;43m*\u001b[39;49m\u001b[43mkwargs\u001b[49m\u001b[43m)\u001b[49m\n",
      "File \u001b[0;32m~/anaconda2/envs/py38/lib/python3.8/unittest/mock.py:1140\u001b[0m, in \u001b[0;36mCallableMixin._execute_mock_call\u001b[0;34m(self, *args, **kwargs)\u001b[0m\n\u001b[1;32m   1138\u001b[0m \u001b[38;5;28;01mif\u001b[39;00m effect \u001b[38;5;129;01mis\u001b[39;00m \u001b[38;5;129;01mnot\u001b[39;00m \u001b[38;5;28;01mNone\u001b[39;00m:\n\u001b[1;32m   1139\u001b[0m     \u001b[38;5;28;01mif\u001b[39;00m _is_exception(effect):\n\u001b[0;32m-> 1140\u001b[0m         \u001b[38;5;28;01mraise\u001b[39;00m effect\n\u001b[1;32m   1141\u001b[0m     \u001b[38;5;28;01melif\u001b[39;00m \u001b[38;5;129;01mnot\u001b[39;00m _callable(effect):\n\u001b[1;32m   1142\u001b[0m         result \u001b[38;5;241m=\u001b[39m \u001b[38;5;28mnext\u001b[39m(effect)\n",
      "\u001b[0;31mException\u001b[0m: OMG!"
     ]
    }
   ],
   "source": [
    "m.side_effect = Exception(\"OMG!\")\n",
    "m()"
   ]
  },
  {
   "cell_type": "code",
   "execution_count": 16,
   "id": "2030a7a8",
   "metadata": {
    "ExecuteTime": {
     "end_time": "2022-03-10T16:47:03.626965Z",
     "start_time": "2022-03-10T16:47:03.607376Z"
    }
   },
   "outputs": [],
   "source": [
    "m.side_effect = [1, KeyError, 3]"
   ]
  },
  {
   "cell_type": "code",
   "execution_count": 25,
   "id": "7cfa6cfe",
   "metadata": {
    "ExecuteTime": {
     "end_time": "2022-03-10T16:48:07.788863Z",
     "start_time": "2022-03-10T16:48:07.774789Z"
    }
   },
   "outputs": [
    {
     "data": {
      "text/plain": [
       "[]"
      ]
     },
     "execution_count": 25,
     "metadata": {},
     "output_type": "execute_result"
    }
   ],
   "source": [
    "m.call_args_list"
   ]
  },
  {
   "cell_type": "code",
   "execution_count": 23,
   "id": "097f9865",
   "metadata": {
    "ExecuteTime": {
     "end_time": "2022-03-10T16:48:01.691061Z",
     "start_time": "2022-03-10T16:48:01.673692Z"
    }
   },
   "outputs": [],
   "source": [
    "m.reset_mock()"
   ]
  },
  {
   "cell_type": "code",
   "execution_count": 26,
   "id": "2037d9ee",
   "metadata": {
    "ExecuteTime": {
     "end_time": "2022-03-10T16:48:26.009443Z",
     "start_time": "2022-03-10T16:48:25.994117Z"
    }
   },
   "outputs": [],
   "source": [
    "m = Mock()"
   ]
  },
  {
   "cell_type": "code",
   "execution_count": 27,
   "id": "55e1f220",
   "metadata": {
    "ExecuteTime": {
     "end_time": "2022-03-10T16:48:26.699217Z",
     "start_time": "2022-03-10T16:48:26.695967Z"
    }
   },
   "outputs": [],
   "source": [
    "m.return_value = KeyError(\"123\")"
   ]
  },
  {
   "cell_type": "code",
   "execution_count": 30,
   "id": "3a84d9d4",
   "metadata": {
    "ExecuteTime": {
     "end_time": "2022-03-10T16:48:46.293244Z",
     "start_time": "2022-03-10T16:48:46.285355Z"
    }
   },
   "outputs": [
    {
     "data": {
      "text/plain": [
       "KeyError('123')"
      ]
     },
     "execution_count": 30,
     "metadata": {},
     "output_type": "execute_result"
    }
   ],
   "source": [
    "m()"
   ]
  },
  {
   "cell_type": "markdown",
   "id": "d8e6d8aa",
   "metadata": {},
   "source": [
    "---"
   ]
  },
  {
   "cell_type": "code",
   "execution_count": 33,
   "id": "c7778f9d",
   "metadata": {
    "ExecuteTime": {
     "end_time": "2022-03-10T16:50:42.945095Z",
     "start_time": "2022-03-10T16:50:42.921720Z"
    }
   },
   "outputs": [],
   "source": [
    "from unittest.mock import patch"
   ]
  },
  {
   "cell_type": "code",
   "execution_count": 34,
   "id": "7fb26d10",
   "metadata": {
    "ExecuteTime": {
     "end_time": "2022-03-10T16:51:00.240297Z",
     "start_time": "2022-03-10T16:51:00.231586Z"
    }
   },
   "outputs": [],
   "source": [
    "patch?"
   ]
  },
  {
   "cell_type": "code",
   "execution_count": 41,
   "id": "c7e85ce7",
   "metadata": {
    "ExecuteTime": {
     "end_time": "2022-03-10T16:57:09.597014Z",
     "start_time": "2022-03-10T16:57:09.581522Z"
    }
   },
   "outputs": [
    {
     "name": "stdout",
     "output_type": "stream",
     "text": [
      "Received data: [4, 5, 6]\n"
     ]
    }
   ],
   "source": [
    "with patch(\"__main__.get_data_from_database\") as m:\n",
    "    data = [4, 5, 6]\n",
    "    m.return_value = data\n",
    "    assert process_data_from_database() == data"
   ]
  },
  {
   "cell_type": "code",
   "execution_count": 42,
   "id": "c2f89841",
   "metadata": {
    "ExecuteTime": {
     "end_time": "2022-03-10T16:58:26.985343Z",
     "start_time": "2022-03-10T16:58:26.979156Z"
    }
   },
   "outputs": [
    {
     "name": "stdout",
     "output_type": "stream",
     "text": [
      "Get DB error\n"
     ]
    }
   ],
   "source": [
    "with patch(\"__main__.get_data_from_database\") as m:\n",
    "    m.side_effect = DatabaseError\n",
    "    assert process_data_from_database() is None"
   ]
  },
  {
   "cell_type": "code",
   "execution_count": 44,
   "id": "eae5509a",
   "metadata": {
    "ExecuteTime": {
     "end_time": "2022-03-10T16:59:04.483148Z",
     "start_time": "2022-03-10T16:59:00.457632Z"
    },
    "collapsed": true
   },
   "outputs": [
    {
     "ename": "KeyboardInterrupt",
     "evalue": "",
     "output_type": "error",
     "traceback": [
      "\u001b[0;31m---------------------------------------------------------------------------\u001b[0m",
      "\u001b[0;31mKeyboardInterrupt\u001b[0m                         Traceback (most recent call last)",
      "Input \u001b[0;32mIn [44]\u001b[0m, in \u001b[0;36m<cell line: 3>\u001b[0;34m()\u001b[0m\n\u001b[1;32m      1\u001b[0m \u001b[38;5;28;01mwith\u001b[39;00m patch(\u001b[38;5;124m\"\u001b[39m\u001b[38;5;124m__main__.get_data_from_database\u001b[39m\u001b[38;5;124m\"\u001b[39m):\n\u001b[1;32m      2\u001b[0m     get_data_from_database()\n\u001b[0;32m----> 3\u001b[0m \u001b[43mget_data_from_database\u001b[49m\u001b[43m(\u001b[49m\u001b[43m)\u001b[49m\n",
      "Input \u001b[0;32mIn [36]\u001b[0m, in \u001b[0;36mget_data_from_database\u001b[0;34m()\u001b[0m\n\u001b[1;32m      8\u001b[0m \u001b[38;5;28;01mdef\u001b[39;00m \u001b[38;5;21mget_data_from_database\u001b[39m():\n\u001b[1;32m      9\u001b[0m     \u001b[38;5;124;03m\"\"\" Некоторая функция, которая производит \"тяжелые операции\", например ходит в базу\u001b[39;00m\n\u001b[1;32m     10\u001b[0m \u001b[38;5;124;03m    или еще что-то делает, что в тестах как-то не хочется делать.\u001b[39;00m\n\u001b[1;32m     11\u001b[0m \u001b[38;5;124;03m    \"\"\"\u001b[39;00m\n\u001b[0;32m---> 12\u001b[0m     \u001b[43msleep\u001b[49m\u001b[43m(\u001b[49m\u001b[38;5;241;43m10\u001b[39;49m\u001b[43m)\u001b[49m  \u001b[38;5;66;03m# имитируем тяжелую работу\u001b[39;00m\n\u001b[1;32m     13\u001b[0m     \u001b[38;5;28;01mreturn\u001b[39;00m [\u001b[38;5;241m1\u001b[39m, \u001b[38;5;241m2\u001b[39m, \u001b[38;5;241m3\u001b[39m]\n",
      "\u001b[0;31mKeyboardInterrupt\u001b[0m: "
     ]
    }
   ],
   "source": [
    "with patch(\"__main__.get_data_from_database\"):\n",
    "    get_data_from_database()\n",
    "get_data_from_database()"
   ]
  },
  {
   "cell_type": "code",
   "execution_count": 48,
   "id": "42af083b",
   "metadata": {
    "ExecuteTime": {
     "end_time": "2022-03-10T17:02:06.509843Z",
     "start_time": "2022-03-10T17:02:06.487761Z"
    }
   },
   "outputs": [
    {
     "name": "stdout",
     "output_type": "stream",
     "text": [
      "Get data\n",
      "Processing\n"
     ]
    }
   ],
   "source": [
    "@patch(\"__main__.process_data_from_database\")\n",
    "@patch(\"__main__.get_data_from_database\")\n",
    "def test_something(m_get_data, m_process):\n",
    "    m_get_data.return_value = \"Get data\"\n",
    "    m_process.return_value = \"Processing\"\n",
    "    print(get_data_from_database())\n",
    "    print(process_data_from_database())\n",
    "\n",
    "\n",
    "test_something()"
   ]
  },
  {
   "cell_type": "markdown",
   "id": "9580a9a5",
   "metadata": {},
   "source": [
    "Почитайте, плз, про `mocker`"
   ]
  },
  {
   "cell_type": "code",
   "execution_count": null,
   "id": "b262daaa",
   "metadata": {},
   "outputs": [],
   "source": [
    "def test_something(mocker):\n",
    "    ..."
   ]
  },
  {
   "cell_type": "markdown",
   "id": "8d2f1469",
   "metadata": {},
   "source": [
    "Вопрос:\n",
    "\n",
    "```python\n",
    "patch(\"__main__.Foo.bar\") # или все-таки `patch.object(Foo, \"bar\")`\n",
    "```\n",
    "\n",
    "Ответ: все-таки `patch.object(Foo, \"bar\")` из-за особенностей импорта."
   ]
  },
  {
   "cell_type": "code",
   "execution_count": 49,
   "id": "c44c39a8",
   "metadata": {
    "ExecuteTime": {
     "end_time": "2022-03-10T17:06:14.827857Z",
     "start_time": "2022-03-10T17:06:14.814330Z"
    }
   },
   "outputs": [],
   "source": [
    "new_bar = lambda self, a, b, c: 100500\n",
    "\n",
    "class Foo:\n",
    "    def bar(self):\n",
    "        pass\n",
    "\n",
    "\n",
    "with patch.object(Foo, \"bar\", new=new_bar) as m:\n",
    "    assert Foo().bar(1, 2, c=3) == 100500"
   ]
  },
  {
   "cell_type": "code",
   "execution_count": 53,
   "id": "5760d8cd",
   "metadata": {
    "ExecuteTime": {
     "end_time": "2022-03-10T17:13:24.669992Z",
     "start_time": "2022-03-10T17:13:24.665908Z"
    }
   },
   "outputs": [],
   "source": [
    "foo = {}\n",
    "with patch.dict(foo):\n",
    "    foo[1] = 2\n",
    "    assert foo == {1: 2}\n",
    "assert foo == {}"
   ]
  },
  {
   "cell_type": "code",
   "execution_count": 54,
   "id": "546a8c39",
   "metadata": {
    "ExecuteTime": {
     "end_time": "2022-03-10T17:13:33.048958Z",
     "start_time": "2022-03-10T17:13:33.040432Z"
    },
    "collapsed": true
   },
   "outputs": [
    {
     "data": {
      "text/plain": [
       "environ{'TERM_SESSION_ID': 'w1t0p2:1D4E21F8-1E49-466F-86DF-036A1DFD4319',\n",
       "        'SSH_AUTH_SOCK': '/private/tmp/com.apple.launchd.gutxXDqXon/Listeners',\n",
       "        'LC_TERMINAL_VERSION': '3.4.8',\n",
       "        'COLORFGBG': '15;0',\n",
       "        'ITERM_PROFILE': 'Default',\n",
       "        'XPC_FLAGS': '0x0',\n",
       "        'LANG': 'en_US.UTF-8',\n",
       "        'PWD': '/Users/iporyadkov/Desktop/PYCHARM/OZON.MASTERS/gitlab/day_04',\n",
       "        'SHELL': '/bin/zsh',\n",
       "        '__CFBundleIdentifier': 'com.googlecode.iterm2',\n",
       "        'SECURITYSESSIONID': '186a8',\n",
       "        'TERM_PROGRAM_VERSION': '3.4.8',\n",
       "        'TERM_PROGRAM': 'iTerm.app',\n",
       "        'PATH': '/Users/iporyadkov/.cabal/bin:/Users/iporyadkov/.ghcup/bin:/Users/iporyadkov/anaconda2/envs/py38/bin:/Users/iporyadkov/anaconda2/condabin:/usr/local/bin:/usr/bin:/bin:/usr/sbin:/sbin:/usr/local/go/bin:/Users/iporyadkov/Library/Python/2.7/bin:/Users/iporyadkov/anaconda2/bin:/usr/local/Cellar/postgresql@11/11.8_3/bin:~/.bin:/Users/iporyadkov/.kafka/kafka_2.13-2.6.0/bin:/Users/iporyadkov/go/bin:/Users/iporyadkov/.fzf/bin',\n",
       "        'LC_TERMINAL': 'iTerm2',\n",
       "        'COLORTERM': 'truecolor',\n",
       "        'COMMAND_MODE': 'unix2003',\n",
       "        'TERM': 'xterm-color',\n",
       "        'HOME': '/Users/iporyadkov',\n",
       "        'TMPDIR': '/var/folders/4c/7h64yb253fg5msrk65kdgz9r0000gp/T/',\n",
       "        'USER': 'iporyadkov',\n",
       "        'XPC_SERVICE_NAME': '0',\n",
       "        'LOGNAME': 'iporyadkov',\n",
       "        'LaunchInstanceID': 'AF4D1012-C766-4E41-A35F-0B0E3FA3476C',\n",
       "        '__CF_USER_TEXT_ENCODING': '0x0:7:49',\n",
       "        'ITERM_SESSION_ID': 'w1t0p2:1D4E21F8-1E49-466F-86DF-036A1DFD4319',\n",
       "        'SHLVL': '1',\n",
       "        'OLDPWD': '/Users/iporyadkov/Desktop/PYCHARM/OZON.MASTERS/gitlab',\n",
       "        'ZSH': '/Users/iporyadkov/.oh-my-zsh',\n",
       "        'PAGER': 'cat',\n",
       "        'LESS': '-R',\n",
       "        'LSCOLORS': 'Gxfxcxdxbxegedabagacad',\n",
       "        'JAVA_HOME': '/Library/Java/JavaVirtualMachines/adoptopenjdk-8.jdk/Contents/Home',\n",
       "        'CONDA_EXE': '/Users/iporyadkov/anaconda2/bin/conda',\n",
       "        '_CE_M': '',\n",
       "        '_CE_CONDA': '',\n",
       "        'CONDA_PYTHON_EXE': '/Users/iporyadkov/anaconda2/bin/python',\n",
       "        'CONDA_SHLVL': '3',\n",
       "        'CONDA_PREFIX': '/Users/iporyadkov/anaconda2/envs/py38',\n",
       "        'CONDA_DEFAULT_ENV': 'py38',\n",
       "        'CONDA_PROMPT_MODIFIER': '(py38) ',\n",
       "        'PIP_CONFIG_FILE': '/Users/iporyadkov/.pip/my_pip.conf',\n",
       "        'OBJC_DISABLE_INITIALIZE_FORK_SAFETY': 'YES',\n",
       "        'AIRFLOW_HOME': '/Users/iporyadkov/airflow',\n",
       "        'ZVM_LINE_INIT_MODE': 'i',\n",
       "        'ZVM_NORMAL_MODE_CURSOR': 'bl',\n",
       "        'ZVM_INSERT_MODE_CURSOR': 'be',\n",
       "        'ZVM_VISUAL_MODE_CURSOR': 'ul',\n",
       "        'ZVM_VISUAL_LINE_MODE_CURSOR': 'ul',\n",
       "        'GITLAB_OZON_ROOT': '/Users/iporyadkov/Desktop/PYCHARM/gitlab.ozon.ru',\n",
       "        'CONDA_PREFIX_1': '/Users/iporyadkov/anaconda2',\n",
       "        'CONDA_PREFIX_2': '/Users/iporyadkov/anaconda2/envs/Desktop',\n",
       "        'LC_ALL': 'en_US.UTF-8',\n",
       "        '_': '/Users/iporyadkov/anaconda2/envs/py38/bin/jupyter',\n",
       "        'PYDEVD_USE_FRAME_EVAL': 'NO',\n",
       "        'JPY_PARENT_PID': '33892',\n",
       "        'CLICOLOR': '1',\n",
       "        'GIT_PAGER': 'cat',\n",
       "        'MPLBACKEND': 'module://matplotlib_inline.backend_inline'}"
      ]
     },
     "execution_count": 54,
     "metadata": {},
     "output_type": "execute_result"
    }
   ],
   "source": [
    "import os\n",
    "os.environ"
   ]
  },
  {
   "cell_type": "markdown",
   "id": "e81b92a2",
   "metadata": {},
   "source": [
    "### Мокать или нет?"
   ]
  },
  {
   "cell_type": "markdown",
   "id": "0945c4e1",
   "metadata": {},
   "source": [
    "Все подряд мокать не нужно -- ту же базу лучше забить тестовыми данными, она и в других тестах пригодится \\+ тестирование будет более полным (это уже будет интеграционный тест).\n",
    "\n",
    "Сложные сервисы, хранящие состояние, иногда приходится мокать целиком (писать их небольшую версию), а отслеживать вызовы, аргументы и возвращаемые значения можно вот так, например: https://github.com/pytest-dev/pytest-mock/#spy"
   ]
  },
  {
   "cell_type": "markdown",
   "id": "a5055cc0",
   "metadata": {},
   "source": [
    "### `MagicMock`"
   ]
  },
  {
   "cell_type": "markdown",
   "id": "a50f3b75",
   "metadata": {},
   "source": [
    "Magic methods:\n",
    "- `str(x)` -> `x.__str__()`\n",
    "- `repr(x)` -> `x.__repr__()`\n",
    "- `a + b` -> `a.__add__(b)` (или `b.__radd__(a)`)\n",
    "- `next(x)` -> `x.__next__()`\n",
    "- `iter(x)` -> `x.__iter__()`\n",
    "- `x[i]` -> `x.__getitem__(i)`\n",
    "- ... и другие https://docs.python.org/3/library/unittest.mock.html#mocking-magic-methods"
   ]
  },
  {
   "cell_type": "code",
   "execution_count": 55,
   "id": "1e5cb140",
   "metadata": {
    "ExecuteTime": {
     "end_time": "2022-03-10T17:19:09.988610Z",
     "start_time": "2022-03-10T17:19:09.984338Z"
    }
   },
   "outputs": [],
   "source": [
    "m = Mock()"
   ]
  },
  {
   "cell_type": "code",
   "execution_count": 57,
   "id": "85ccfa68",
   "metadata": {
    "ExecuteTime": {
     "end_time": "2022-03-10T17:19:37.121458Z",
     "start_time": "2022-03-10T17:19:37.095453Z"
    },
    "collapsed": true
   },
   "outputs": [
    {
     "ename": "TypeError",
     "evalue": "'Mock' object is not subscriptable",
     "output_type": "error",
     "traceback": [
      "\u001b[0;31m---------------------------------------------------------------------------\u001b[0m",
      "\u001b[0;31mTypeError\u001b[0m                                 Traceback (most recent call last)",
      "Input \u001b[0;32mIn [57]\u001b[0m, in \u001b[0;36m<cell line: 1>\u001b[0;34m()\u001b[0m\n\u001b[0;32m----> 1\u001b[0m \u001b[43mm\u001b[49m\u001b[43m[\u001b[49m\u001b[38;5;241;43m0\u001b[39;49m\u001b[43m]\u001b[49m\n",
      "\u001b[0;31mTypeError\u001b[0m: 'Mock' object is not subscriptable"
     ]
    }
   ],
   "source": [
    "m[0]  # m.__getitem__(0)"
   ]
  },
  {
   "cell_type": "code",
   "execution_count": 58,
   "id": "e196faaa",
   "metadata": {
    "ExecuteTime": {
     "end_time": "2022-03-10T17:19:50.161457Z",
     "start_time": "2022-03-10T17:19:50.144666Z"
    }
   },
   "outputs": [],
   "source": [
    "from unittest.mock import MagicMock"
   ]
  },
  {
   "cell_type": "code",
   "execution_count": 69,
   "id": "eb9ca6bf",
   "metadata": {
    "ExecuteTime": {
     "end_time": "2022-03-10T17:22:05.225085Z",
     "start_time": "2022-03-10T17:22:05.219619Z"
    }
   },
   "outputs": [],
   "source": [
    "mm = MagicMock()"
   ]
  },
  {
   "cell_type": "code",
   "execution_count": 70,
   "id": "a38774a8",
   "metadata": {
    "ExecuteTime": {
     "end_time": "2022-03-10T17:22:05.701153Z",
     "start_time": "2022-03-10T17:22:05.666379Z"
    }
   },
   "outputs": [
    {
     "data": {
      "text/plain": [
       "<MagicMock name='mock.__add__()' id='140188083744432'>"
      ]
     },
     "execution_count": 70,
     "metadata": {},
     "output_type": "execute_result"
    }
   ],
   "source": [
    "mm + mm"
   ]
  },
  {
   "cell_type": "code",
   "execution_count": 71,
   "id": "713d4a23",
   "metadata": {
    "ExecuteTime": {
     "end_time": "2022-03-10T17:22:06.137503Z",
     "start_time": "2022-03-10T17:22:06.128912Z"
    }
   },
   "outputs": [],
   "source": [
    "mm.__add__.assert_called_once_with(mm)"
   ]
  },
  {
   "cell_type": "code",
   "execution_count": 74,
   "id": "cc9765ce",
   "metadata": {
    "ExecuteTime": {
     "end_time": "2022-03-10T17:23:04.873624Z",
     "start_time": "2022-03-10T17:23:04.849681Z"
    }
   },
   "outputs": [
    {
     "name": "stdout",
     "output_type": "stream",
     "text": [
      "<MagicMock name='mock().__enter__()' id='140188102089072'>\n"
     ]
    }
   ],
   "source": [
    "with mm() as x:\n",
    "    print(x)"
   ]
  },
  {
   "cell_type": "code",
   "execution_count": 80,
   "id": "80813ecc",
   "metadata": {
    "ExecuteTime": {
     "end_time": "2022-03-10T17:23:49.209253Z",
     "start_time": "2022-03-10T17:23:49.196870Z"
    }
   },
   "outputs": [],
   "source": [
    "mm().__exit__.assert_called()"
   ]
  },
  {
   "cell_type": "markdown",
   "id": "a1f63985",
   "metadata": {},
   "source": [
    "### `Any`"
   ]
  },
  {
   "cell_type": "code",
   "execution_count": 85,
   "id": "ef86a962",
   "metadata": {
    "ExecuteTime": {
     "end_time": "2022-03-10T17:24:54.072622Z",
     "start_time": "2022-03-10T17:24:54.055468Z"
    }
   },
   "outputs": [],
   "source": [
    "from unittest.mock import ANY"
   ]
  },
  {
   "cell_type": "code",
   "execution_count": 81,
   "id": "8f0a2459",
   "metadata": {
    "ExecuteTime": {
     "end_time": "2022-03-10T17:24:16.541432Z",
     "start_time": "2022-03-10T17:24:16.536473Z"
    }
   },
   "outputs": [],
   "source": [
    "m = Mock()"
   ]
  },
  {
   "cell_type": "code",
   "execution_count": 82,
   "id": "cada8906",
   "metadata": {
    "ExecuteTime": {
     "end_time": "2022-03-10T17:24:22.086032Z",
     "start_time": "2022-03-10T17:24:21.998811Z"
    }
   },
   "outputs": [
    {
     "data": {
      "text/plain": [
       "<Mock name='mock()' id='140188103773488'>"
      ]
     },
     "execution_count": 82,
     "metadata": {},
     "output_type": "execute_result"
    }
   ],
   "source": [
    "m(1, 2, c=3)"
   ]
  },
  {
   "cell_type": "code",
   "execution_count": 87,
   "id": "2769ddb1",
   "metadata": {
    "ExecuteTime": {
     "end_time": "2022-03-10T17:25:37.600416Z",
     "start_time": "2022-03-10T17:25:37.589356Z"
    }
   },
   "outputs": [],
   "source": [
    "m.assert_called_with(1, ANY, c=ANY)"
   ]
  },
  {
   "cell_type": "markdown",
   "id": "43351578",
   "metadata": {},
   "source": [
    "## `pytest.fixture` (https://docs.pytest.org/en/6.2.x/fixture.html)"
   ]
  },
  {
   "cell_type": "markdown",
   "id": "f0ccb249",
   "metadata": {},
   "source": [
    "См. 'testing/test_fixtures.py' и 'testing/conftest.py'.\n",
    "\n",
    "Запускайте тесты так:\n",
    "```bash\n",
    "pytest -vs\n",
    "```\n",
    "или так, чтобы ограничить набор тестов:\n",
    "```bash\n",
    "pytest -vs -k <substring>\n",
    "```"
   ]
  },
  {
   "cell_type": "markdown",
   "id": "ac0155ee",
   "metadata": {},
   "source": [
    "---"
   ]
  },
  {
   "cell_type": "markdown",
   "id": "5ce8f63a",
   "metadata": {},
   "source": [
    "# Как писать тесты, чтобы было ~~не стыдно~~ стыдно чуть меньше, чем обычно?"
   ]
  },
  {
   "cell_type": "markdown",
   "id": "369fbf77",
   "metadata": {
    "ExecuteTime": {
     "end_time": "2022-03-10T03:48:48.781891Z",
     "start_time": "2022-03-10T03:48:48.773960Z"
    }
   },
   "source": [
    "- Следовать парадигме:\n",
    "    - preparation (фикстуры, моки)\n",
    "    - action\n",
    "    - assertion\n",
    "    - cleanup (фикстуры)\n",
    "- Один кейс -- один тест\n",
    "- Искать и тестировать краевые случаи\n",
    "- Все что происходит в тесте -- остается в тесте\n",
    "- Не пренебрегайте тестами -- они ваши друзья"
   ]
  }
 ],
 "metadata": {
  "kernelspec": {
   "display_name": "Python 3 (ipykernel)",
   "language": "python",
   "name": "python3"
  },
  "language_info": {
   "codemirror_mode": {
    "name": "ipython",
    "version": 3
   },
   "file_extension": ".py",
   "mimetype": "text/x-python",
   "name": "python",
   "nbconvert_exporter": "python",
   "pygments_lexer": "ipython3",
   "version": "3.8.8"
  },
  "toc": {
   "base_numbering": 1,
   "nav_menu": {},
   "number_sections": true,
   "sideBar": true,
   "skip_h1_title": false,
   "title_cell": "Table of Contents",
   "title_sidebar": "Contents",
   "toc_cell": false,
   "toc_position": {
    "height": "calc(100% - 180px)",
    "left": "10px",
    "top": "150px",
    "width": "252.4px"
   },
   "toc_section_display": true,
   "toc_window_display": true
  }
 },
 "nbformat": 4,
 "nbformat_minor": 5
}
