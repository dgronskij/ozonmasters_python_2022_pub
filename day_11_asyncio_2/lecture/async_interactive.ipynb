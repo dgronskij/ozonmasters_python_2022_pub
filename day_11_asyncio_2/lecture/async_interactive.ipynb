{
 "cells": [
  {
   "cell_type": "markdown",
   "id": "03cf4180",
   "metadata": {},
   "source": [
    "# Recap главных понятий"
   ]
  },
  {
   "cell_type": "markdown",
   "id": "d171170e",
   "metadata": {},
   "source": [
    "\n",
    "## function 😃\n",
    "- одна точка входа\n",
    "- одна точка выхода -- return\n",
    "- нельзя просто так взять и выйти, а затем продолжить выполнение функции"
   ]
  },
  {
   "cell_type": "markdown",
   "id": "4983f079",
   "metadata": {},
   "source": [
    "<img src=\"./assets/boromir.jpg\">"
   ]
  },
  {
   "cell_type": "code",
   "execution_count": 1,
   "id": "95efd09b",
   "metadata": {},
   "outputs": [],
   "source": [
    "def sync_function(arg):\n",
    "    print('sync_function, ', arg)\n",
    "    return arg + 1"
   ]
  },
  {
   "cell_type": "code",
   "execution_count": 3,
   "id": "2020f44a",
   "metadata": {},
   "outputs": [
    {
     "name": "stdout",
     "output_type": "stream",
     "text": [
      "<function sync_function at 0x7fbbb46ba550>\n"
     ]
    }
   ],
   "source": [
    "print(sync_function)"
   ]
  },
  {
   "cell_type": "code",
   "execution_count": 4,
   "id": "e2b56614",
   "metadata": {},
   "outputs": [
    {
     "data": {
      "text/plain": [
       "function"
      ]
     },
     "execution_count": 4,
     "metadata": {},
     "output_type": "execute_result"
    }
   ],
   "source": [
    "type(sync_function)"
   ]
  },
  {
   "cell_type": "markdown",
   "id": "24e71db6",
   "metadata": {},
   "source": [
    "### функция возвращает возвращаемое значение 🤯 "
   ]
  },
  {
   "cell_type": "code",
   "execution_count": 5,
   "id": "cd7307c4",
   "metadata": {},
   "outputs": [
    {
     "name": "stdout",
     "output_type": "stream",
     "text": [
      "sync_function,  1\n"
     ]
    },
    {
     "data": {
      "text/plain": [
       "2"
      ]
     },
     "execution_count": 5,
     "metadata": {},
     "output_type": "execute_result"
    }
   ],
   "source": [
    "sync_function(1)"
   ]
  },
  {
   "cell_type": "markdown",
   "id": "f4aa7b71",
   "metadata": {},
   "source": [
    "## generator function"
   ]
  },
  {
   "cell_type": "code",
   "execution_count": 10,
   "id": "7957be2b",
   "metadata": {},
   "outputs": [],
   "source": [
    "def gen_func(arg):\n",
    "    print('some_gen, ', arg)\n",
    "    yield 1 # вышли, зашли\n",
    "    print('after first yield')\n",
    "    yield 2 # вышли, зашли\n",
    "    print('after second yield')\n",
    "    return arg + 1"
   ]
  },
  {
   "cell_type": "code",
   "execution_count": 11,
   "id": "4277c939",
   "metadata": {},
   "outputs": [
    {
     "data": {
      "text/plain": [
       "function"
      ]
     },
     "execution_count": 11,
     "metadata": {},
     "output_type": "execute_result"
    }
   ],
   "source": [
    "type(gen_func)"
   ]
  },
  {
   "cell_type": "code",
   "execution_count": 12,
   "id": "fde806e7",
   "metadata": {},
   "outputs": [
    {
     "data": {
      "text/plain": [
       "True"
      ]
     },
     "execution_count": 12,
     "metadata": {},
     "output_type": "execute_result"
    }
   ],
   "source": [
    "type(gen_func) is type(sync_function)"
   ]
  },
  {
   "cell_type": "markdown",
   "id": "fe234bd6",
   "metadata": {},
   "source": [
    "**все -- функции!**"
   ]
  },
  {
   "cell_type": "markdown",
   "id": "5728e97d",
   "metadata": {},
   "source": [
    "### генераторная функция возвращает генератор"
   ]
  },
  {
   "cell_type": "code",
   "execution_count": 13,
   "id": "4db638c4",
   "metadata": {},
   "outputs": [
    {
     "data": {
      "text/plain": [
       "<generator object gen_func at 0x7fbb8f792740>"
      ]
     },
     "execution_count": 13,
     "metadata": {},
     "output_type": "execute_result"
    }
   ],
   "source": [
    "gen_func(1)"
   ]
  },
  {
   "cell_type": "markdown",
   "id": "1c50d029",
   "metadata": {},
   "source": [
    "### как запустить?"
   ]
  },
  {
   "cell_type": "code",
   "execution_count": 20,
   "id": "9cd7e5fe",
   "metadata": {},
   "outputs": [],
   "source": [
    "gen = gen_func(1)"
   ]
  },
  {
   "cell_type": "code",
   "execution_count": 21,
   "id": "aec7773d",
   "metadata": {},
   "outputs": [
    {
     "data": {
      "text/plain": [
       "generator"
      ]
     },
     "execution_count": 21,
     "metadata": {},
     "output_type": "execute_result"
    }
   ],
   "source": [
    "type(gen)"
   ]
  },
  {
   "cell_type": "code",
   "execution_count": 23,
   "id": "189c2613",
   "metadata": {},
   "outputs": [
    {
     "name": "stdout",
     "output_type": "stream",
     "text": [
      "after first yield\n"
     ]
    },
    {
     "data": {
      "text/plain": [
       "2"
      ]
     },
     "execution_count": 23,
     "metadata": {},
     "output_type": "execute_result"
    }
   ],
   "source": [
    "next(gen)"
   ]
  },
  {
   "cell_type": "code",
   "execution_count": 24,
   "id": "3d6d5ae8",
   "metadata": {},
   "outputs": [
    {
     "name": "stdout",
     "output_type": "stream",
     "text": [
      "after second yield\n"
     ]
    }
   ],
   "source": [
    "try:\n",
    "    val = next(gen)\n",
    "except StopIteration as exc:\n",
    "    _exc = exc"
   ]
  },
  {
   "cell_type": "code",
   "execution_count": 26,
   "id": "ed09f491",
   "metadata": {},
   "outputs": [
    {
     "data": {
      "text/plain": [
       "2"
      ]
     },
     "execution_count": 26,
     "metadata": {},
     "output_type": "execute_result"
    }
   ],
   "source": [
    "_exc.value"
   ]
  },
  {
   "cell_type": "code",
   "execution_count": 27,
   "id": "8096449e",
   "metadata": {},
   "outputs": [
    {
     "name": "stdout",
     "output_type": "stream",
     "text": [
      "some_gen,  1\n",
      "1\n",
      "after first yield\n",
      "2\n",
      "after second yield\n"
     ]
    }
   ],
   "source": [
    "for value in gen_func(1):\n",
    "    print(value)"
   ]
  },
  {
   "cell_type": "code",
   "execution_count": 28,
   "id": "5b5e39f9",
   "metadata": {},
   "outputs": [
    {
     "name": "stdout",
     "output_type": "stream",
     "text": [
      "some_gen,  1\n",
      "1\n",
      "after first yield\n",
      "2\n",
      "after second yield\n"
     ]
    }
   ],
   "source": [
    "it = iter(gen_func(1)) # == gen_func(1)\n",
    "while True:\n",
    "    try:\n",
    "        value = next(it)\n",
    "        print(value)\n",
    "    except StopIteration:\n",
    "        break"
   ]
  },
  {
   "cell_type": "code",
   "execution_count": 33,
   "id": "83358846",
   "metadata": {},
   "outputs": [
    {
     "name": "stdout",
     "output_type": "stream",
     "text": [
      "i got value  privet\n"
     ]
    },
    {
     "data": {
      "text/plain": [
       "2"
      ]
     },
     "execution_count": 33,
     "metadata": {},
     "output_type": "execute_result"
    }
   ],
   "source": [
    "def generator():\n",
    "    x = yield 1\n",
    "    print('i got value ', x)\n",
    "    yield 2\n",
    "\n",
    "def wrapper():\n",
    "    for value in generator():\n",
    "        yield value\n",
    "    for value in generator():\n",
    "        yield value\n",
    "        \n",
    "def wrapper():\n",
    "    yield from generator()\n",
    "    yield from generator()\n",
    "\n",
    "gen = wrapper()\n",
    "\n",
    "next(gen)\n",
    "gen.send('privet')"
   ]
  },
  {
   "cell_type": "code",
   "execution_count": null,
   "id": "a757c0c2",
   "metadata": {},
   "outputs": [],
   "source": []
  },
  {
   "cell_type": "code",
   "execution_count": null,
   "id": "cd348b98",
   "metadata": {},
   "outputs": [],
   "source": []
  },
  {
   "cell_type": "code",
   "execution_count": null,
   "id": "fd7f0534",
   "metadata": {},
   "outputs": [],
   "source": []
  },
  {
   "cell_type": "code",
   "execution_count": null,
   "id": "935f6698",
   "metadata": {},
   "outputs": [],
   "source": []
  },
  {
   "cell_type": "code",
   "execution_count": null,
   "id": "b909ee82",
   "metadata": {},
   "outputs": [],
   "source": []
  },
  {
   "cell_type": "code",
   "execution_count": null,
   "id": "ff7343cc",
   "metadata": {},
   "outputs": [],
   "source": []
  },
  {
   "cell_type": "code",
   "execution_count": null,
   "id": "41bcf279",
   "metadata": {},
   "outputs": [],
   "source": []
  },
  {
   "cell_type": "code",
   "execution_count": null,
   "id": "75102b1b",
   "metadata": {},
   "outputs": [],
   "source": []
  },
  {
   "cell_type": "code",
   "execution_count": 9,
   "id": "d8479cda",
   "metadata": {},
   "outputs": [],
   "source": [
    "# посмотреть исключение"
   ]
  },
  {
   "cell_type": "markdown",
   "id": "e9ebc6c6",
   "metadata": {},
   "source": [
    "### генератор -- \"функция\", в которую\n",
    "\n",
    "<img src=\"./assets/boromir_happy.jpg\">"
   ]
  },
  {
   "cell_type": "markdown",
   "id": "0ccb6477",
   "metadata": {},
   "source": [
    "🤩"
   ]
  },
  {
   "cell_type": "markdown",
   "id": "b9c4aca2",
   "metadata": {},
   "source": [
    "## coroutine function"
   ]
  },
  {
   "cell_type": "code",
   "execution_count": 21,
   "id": "4a3199e5",
   "metadata": {},
   "outputs": [],
   "source": [
    "import asyncio"
   ]
  },
  {
   "cell_type": "code",
   "execution_count": 15,
   "id": "aa7e3f58",
   "metadata": {},
   "outputs": [],
   "source": [
    "async def coro_func():\n",
    "#     await asyncio.sleep(4)\n",
    "    return 'privet'\n",
    "\n",
    "async def async_func(arg):\n",
    "    print('async_func, ', arg)\n",
    "    \n",
    "    await coro_func() # вышли, ждем когда awaitable завершится, зашли\n",
    "    \n",
    "    print('after first yield')\n",
    "    \n",
    "    await awaitable2  # вышли, ждем когда awaitable2 завершится, зашли\n",
    "    \n",
    "    print('after second yield')\n",
    "    \n",
    "    return arg + 1"
   ]
  },
  {
   "cell_type": "code",
   "execution_count": 16,
   "id": "100bacba",
   "metadata": {},
   "outputs": [],
   "source": [
    "async def async_func(arg):\n",
    "    print('async_func, ', arg)\n",
    "\n",
    "    await asyncio.sleep(1) # вышли, ждем когда awaitable завершится, зашли\n",
    "    \n",
    "    print('after first yield')\n",
    "    \n",
    "    await asyncio.sleep(2)  # вышли, ждем когда awaitable2 завершится, зашли\n",
    "    \n",
    "    print('after second yield')\n",
    "    \n",
    "    return arg + 1"
   ]
  },
  {
   "cell_type": "code",
   "execution_count": 17,
   "id": "94bf94da",
   "metadata": {},
   "outputs": [
    {
     "data": {
      "text/plain": [
       "<function __main__.async_func(arg)>"
      ]
     },
     "execution_count": 17,
     "metadata": {},
     "output_type": "execute_result"
    }
   ],
   "source": [
    "async_func"
   ]
  },
  {
   "cell_type": "code",
   "execution_count": 18,
   "id": "0e922842",
   "metadata": {},
   "outputs": [
    {
     "data": {
      "text/plain": [
       "True"
      ]
     },
     "execution_count": 18,
     "metadata": {},
     "output_type": "execute_result"
    }
   ],
   "source": [
    "type(async_func) is type(gen_func) is type(sync_function)"
   ]
  },
  {
   "cell_type": "markdown",
   "id": "c050892a",
   "metadata": {},
   "source": [
    "### coroutine function returns ..."
   ]
  },
  {
   "cell_type": "code",
   "execution_count": 19,
   "id": "f66be151",
   "metadata": {},
   "outputs": [
    {
     "data": {
      "text/plain": [
       "<coroutine object async_func at 0x7fdce4d223c0>"
      ]
     },
     "execution_count": 19,
     "metadata": {},
     "output_type": "execute_result"
    }
   ],
   "source": [
    "async_func(1)"
   ]
  },
  {
   "cell_type": "markdown",
   "id": "55474a78",
   "metadata": {},
   "source": [
    "### Как запустить?"
   ]
  },
  {
   "cell_type": "code",
   "execution_count": 22,
   "id": "05147afb",
   "metadata": {},
   "outputs": [
    {
     "name": "stdout",
     "output_type": "stream",
     "text": [
      "async_func,  2\n",
      "after first yield\n",
      "after second yield\n"
     ]
    },
    {
     "data": {
      "text/plain": [
       "3"
      ]
     },
     "execution_count": 22,
     "metadata": {},
     "output_type": "execute_result"
    }
   ],
   "source": [
    "await async_func(2)"
   ]
  },
  {
   "cell_type": "markdown",
   "id": "c81fbfb7",
   "metadata": {},
   "source": [
    "## await == yield from"
   ]
  },
  {
   "cell_type": "code",
   "execution_count": null,
   "id": "b55c502e",
   "metadata": {},
   "outputs": [],
   "source": [
    "def gen():\n",
    "    yield from gen1()\n",
    "    yield from gen2()\n",
    "\n",
    "async afunc():\n",
    "    await afunc1()\n",
    "    await afunc2()"
   ]
  },
  {
   "cell_type": "markdown",
   "id": "799da4ab",
   "metadata": {},
   "source": []
  },
  {
   "cell_type": "markdown",
   "id": "0c194e47",
   "metadata": {},
   "source": [
    "## cooperative multitasking"
   ]
  },
  {
   "cell_type": "markdown",
   "id": "b9d66ca0",
   "metadata": {},
   "source": [
    "- Смена контекста проихсодит только тогда, когда МЫ ПОПРОСИМ"
   ]
  },
  {
   "cell_type": "markdown",
   "id": "5b50da9b",
   "metadata": {},
   "source": [
    "### какой антипод 🔝 ?\n"
   ]
  },
  {
   "cell_type": "markdown",
   "id": "97f9b446",
   "metadata": {},
   "source": [
    "# async iterator"
   ]
  },
  {
   "cell_type": "code",
   "execution_count": null,
   "id": "9fa7eea9",
   "metadata": {},
   "outputs": [],
   "source": [
    "for value in async_iterator:\n",
    "    print(value)"
   ]
  },
  {
   "cell_type": "code",
   "execution_count": null,
   "id": "614f8e61",
   "metadata": {},
   "outputs": [],
   "source": [
    "class Iterable:\n",
    "    def __iter__(self) -> Iterator\n",
    "\n",
    "class Iterator(Protocol):\n",
    "    def __iter__(self):\n",
    "        return self\n",
    "    \n",
    "    def __next__(self):\n",
    "        return <NEXT_ELEMENT>\n",
    "        # raise StopIteration"
   ]
  },
  {
   "cell_type": "code",
   "execution_count": null,
   "id": "327ca31a",
   "metadata": {},
   "outputs": [],
   "source": [
    "class AsyncIterable:\n",
    "    def __aiter__(self) -> AsyncIterator\n",
    "\n",
    "class AsyncIterator(Protocol):\n",
    "    def __aiter__(self):\n",
    "        return self\n",
    "    \n",
    "    async def __anext__(self):\n",
    "        return <NEXT_ELEMENT>\n",
    "        # raise StopAsyncIteration"
   ]
  },
  {
   "cell_type": "code",
   "execution_count": 38,
   "id": "fa91fc20",
   "metadata": {},
   "outputs": [],
   "source": [
    "import asyncio"
   ]
  },
  {
   "cell_type": "code",
   "execution_count": 43,
   "id": "93e53574",
   "metadata": {},
   "outputs": [],
   "source": [
    "class AsyncCounter:\n",
    "    count = 0\n",
    "    def __aiter__(self):\n",
    "        return self\n",
    "    async def __anext__(self):\n",
    "        await asyncio.sleep(1)\n",
    "        self.count += 1\n",
    "        \n",
    "        \n",
    "        if self.count > 5:\n",
    "            raise StopAsyncIteration\n",
    "        return self.count"
   ]
  },
  {
   "cell_type": "code",
   "execution_count": 44,
   "id": "e85cbed0",
   "metadata": {},
   "outputs": [
    {
     "name": "stdout",
     "output_type": "stream",
     "text": [
      "1\n",
      "2\n",
      "3\n",
      "4\n",
      "5\n"
     ]
    }
   ],
   "source": [
    "async for value in AsyncCounter():\n",
    "    print(value)"
   ]
  },
  {
   "cell_type": "code",
   "execution_count": 34,
   "id": "bbb4769b",
   "metadata": {},
   "outputs": [],
   "source": [
    "async def bla():\n",
    "    yield 1\n",
    "    await asyncio.sleep(1)\n",
    "    yield 2"
   ]
  },
  {
   "cell_type": "markdown",
   "id": "293b5c58",
   "metadata": {},
   "source": [
    "# async generator"
   ]
  },
  {
   "cell_type": "code",
   "execution_count": 19,
   "id": "ecf5d9de",
   "metadata": {},
   "outputs": [],
   "source": [
    "# counter"
   ]
  },
  {
   "cell_type": "code",
   "execution_count": 47,
   "id": "0b9a7d37",
   "metadata": {},
   "outputs": [],
   "source": [
    "async def AsyncCounter():\n",
    "    for count in range(6):\n",
    "        await asyncio.sleep(1)\n",
    "        yield count\n"
   ]
  },
  {
   "cell_type": "code",
   "execution_count": 48,
   "id": "981fd05a",
   "metadata": {
    "scrolled": true
   },
   "outputs": [
    {
     "name": "stdout",
     "output_type": "stream",
     "text": [
      "0\n",
      "1\n",
      "2\n",
      "3\n",
      "4\n",
      "5\n"
     ]
    }
   ],
   "source": [
    "async for v in AsyncCounter():\n",
    "    print(v)"
   ]
  },
  {
   "cell_type": "markdown",
   "id": "d1a4f70b",
   "metadata": {},
   "source": [
    "# list(iterable)"
   ]
  },
  {
   "cell_type": "code",
   "execution_count": 16,
   "id": "f1d658aa",
   "metadata": {},
   "outputs": [
    {
     "name": "stdout",
     "output_type": "stream",
     "text": [
      "1\n",
      "2\n",
      "3\n",
      "4\n",
      "5\n",
      "6\n",
      "7\n",
      "8\n",
      "9\n",
      "10\n"
     ]
    }
   ],
   "source": [
    "async for v in Foo():\n",
    "    print(v)"
   ]
  },
  {
   "cell_type": "code",
   "execution_count": 17,
   "id": "ba8c87d2",
   "metadata": {},
   "outputs": [
    {
     "ename": "TypeError",
     "evalue": "'Foo' object is not iterable",
     "output_type": "error",
     "traceback": [
      "\u001b[0;31m---------------------------------------------------------------------------\u001b[0m",
      "\u001b[0;31mTypeError\u001b[0m                                 Traceback (most recent call last)",
      "\u001b[0;32m/tmp/ipykernel_861/3792501333.py\u001b[0m in \u001b[0;36m<module>\u001b[0;34m\u001b[0m\n\u001b[0;32m----> 1\u001b[0;31m \u001b[0mlist\u001b[0m\u001b[0;34m(\u001b[0m\u001b[0mFoo\u001b[0m\u001b[0;34m(\u001b[0m\u001b[0;34m)\u001b[0m\u001b[0;34m)\u001b[0m\u001b[0;34m\u001b[0m\u001b[0;34m\u001b[0m\u001b[0m\n\u001b[0m",
      "\u001b[0;31mTypeError\u001b[0m: 'Foo' object is not iterable"
     ]
    }
   ],
   "source": [
    "list(Foo())"
   ]
  },
  {
   "cell_type": "code",
   "execution_count": 18,
   "id": "6452b7e4",
   "metadata": {},
   "outputs": [
    {
     "ename": "TypeError",
     "evalue": "'async_generator' object is not iterable",
     "output_type": "error",
     "traceback": [
      "\u001b[0;31m---------------------------------------------------------------------------\u001b[0m",
      "\u001b[0;31mTypeError\u001b[0m                                 Traceback (most recent call last)",
      "\u001b[0;32m/tmp/ipykernel_861/347747891.py\u001b[0m in \u001b[0;36m<module>\u001b[0;34m\u001b[0m\n\u001b[0;32m----> 1\u001b[0;31m \u001b[0mlist\u001b[0m\u001b[0;34m(\u001b[0m\u001b[0;34m(\u001b[0m\u001b[0mx\u001b[0m \u001b[0;32masync\u001b[0m \u001b[0;32mfor\u001b[0m \u001b[0mx\u001b[0m \u001b[0;32min\u001b[0m \u001b[0mFoo\u001b[0m\u001b[0;34m(\u001b[0m\u001b[0;34m)\u001b[0m\u001b[0;34m)\u001b[0m\u001b[0;34m)\u001b[0m\u001b[0;34m\u001b[0m\u001b[0;34m\u001b[0m\u001b[0m\n\u001b[0m",
      "\u001b[0;31mTypeError\u001b[0m: 'async_generator' object is not iterable"
     ]
    }
   ],
   "source": [
    "list((x async for x in Foo()))"
   ]
  },
  {
   "cell_type": "markdown",
   "id": "68381be1",
   "metadata": {},
   "source": [
    "# typing"
   ]
  },
  {
   "cell_type": "code",
   "execution_count": 49,
   "id": "4a15e164",
   "metadata": {},
   "outputs": [],
   "source": [
    "import typing"
   ]
  },
  {
   "cell_type": "code",
   "execution_count": null,
   "id": "9d8bbf32",
   "metadata": {},
   "outputs": [],
   "source": [
    "typing.Generator"
   ]
  },
  {
   "cell_type": "code",
   "execution_count": null,
   "id": "f2ec1a4a",
   "metadata": {},
   "outputs": [],
   "source": [
    "# поддержка билиотек\n",
    "# "
   ]
  },
  {
   "cell_type": "code",
   "execution_count": null,
   "id": "b1db1084",
   "metadata": {},
   "outputs": [],
   "source": [
    "Кто кого может вызывать\n",
    "\n",
    "def func():\n",
    "    func() # OK \n",
    "    await async_func() # FORBIDDEN\n",
    "\n",
    "async def async_func():\n",
    "    func() # OK\n",
    "    await async_func() # OK\n"
   ]
  }
 ],
 "metadata": {
  "kernelspec": {
   "display_name": "Python 3 (ipykernel)",
   "language": "python",
   "name": "python3"
  },
  "language_info": {
   "codemirror_mode": {
    "name": "ipython",
    "version": 3
   },
   "file_extension": ".py",
   "mimetype": "text/x-python",
   "name": "python",
   "nbconvert_exporter": "python",
   "pygments_lexer": "ipython3",
   "version": "3.9.5"
  },
  "toc": {
   "base_numbering": 1,
   "nav_menu": {},
   "number_sections": true,
   "sideBar": true,
   "skip_h1_title": false,
   "title_cell": "Table of Contents",
   "title_sidebar": "Contents",
   "toc_cell": false,
   "toc_position": {},
   "toc_section_display": true,
   "toc_window_display": true
  }
 },
 "nbformat": 4,
 "nbformat_minor": 5
}
