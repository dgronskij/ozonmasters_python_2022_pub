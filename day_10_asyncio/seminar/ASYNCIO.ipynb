{
 "cells": [
  {
   "cell_type": "markdown",
   "id": "ff677d97",
   "metadata": {},
   "source": [
    "Что почитать?\n",
    "- https://bbc.github.io/cloudfit-public-docs/\n",
    "- https://docs.python.org/3/library/asyncio.html"
   ]
  },
  {
   "cell_type": "code",
   "execution_count": 1,
   "id": "1a1cabe6",
   "metadata": {
    "ExecuteTime": {
     "end_time": "2022-04-21T17:09:08.309340Z",
     "start_time": "2022-04-21T17:09:08.297012Z"
    }
   },
   "outputs": [],
   "source": [
    "import asyncio\n",
    "from dataclasses import dataclass\n",
    "from datetime import datetime as dt\n",
    "from decimal import Decimal\n",
    "from time import sleep"
   ]
  },
  {
   "cell_type": "markdown",
   "id": "26a659e6",
   "metadata": {},
   "source": [
    "# Посмотрим, как все работает"
   ]
  },
  {
   "cell_type": "markdown",
   "id": "13353c00",
   "metadata": {},
   "source": [
    "- Event loop (scheduler) -- рантайм для исполнения `Task`'ок. Тред может иметь только один Event loop.\n",
    "\n",
    "\n",
    "- `Task` -- контейнер, который используется для конкурентного исполнения `Сoroutine`.\n",
    "\n",
    "\n",
    "- `Coroutine`\n",
    "    - _coroutine function_ -- `async def` функция\n",
    "    - объект, который возвращается при вызове _coroutine function_\n",
    "\n",
    "\n",
    "- `Awaitable` -- объект, у которого определен метод `__await__` и который, соответственно, может быть использован в выражении:\n",
    "    ```python\n",
    "    result = await awaitable, ...\n",
    "    ```\n",
    "    Примеры awaitable объектов:\n",
    "    - `Coroutine`\n",
    "    - `Task`"
   ]
  },
  {
   "cell_type": "markdown",
   "id": "52e71796",
   "metadata": {},
   "source": [
    "## Как запустить корутину?"
   ]
  },
  {
   "cell_type": "code",
   "execution_count": 20,
   "id": "29594563",
   "metadata": {
    "ExecuteTime": {
     "end_time": "2022-04-21T17:21:02.669765Z",
     "start_time": "2022-04-21T17:21:02.643498Z"
    }
   },
   "outputs": [],
   "source": [
    "async def hello(name, wait=3):\n",
    "    await asyncio.sleep(wait)\n",
    "    print(f\"Hello, {name}!\")\n",
    "    return wait\n",
    "\n",
    "async def raise_exc(exc):\n",
    "    raise exc"
   ]
  },
  {
   "cell_type": "code",
   "execution_count": 3,
   "id": "4fedabe0",
   "metadata": {
    "ExecuteTime": {
     "end_time": "2022-04-21T17:13:21.672747Z",
     "start_time": "2022-04-21T17:13:21.638572Z"
    }
   },
   "outputs": [
    {
     "data": {
      "text/plain": [
       "<coroutine object hello at 0x7fe3161beb40>"
      ]
     },
     "execution_count": 3,
     "metadata": {},
     "output_type": "execute_result"
    }
   ],
   "source": [
    "hello(\"Python\")"
   ]
  },
  {
   "cell_type": "markdown",
   "id": "eeaebf79",
   "metadata": {},
   "source": [
    "### `asyncio.run`"
   ]
  },
  {
   "cell_type": "code",
   "execution_count": 4,
   "id": "6d4e0bdd",
   "metadata": {
    "ExecuteTime": {
     "end_time": "2022-04-21T17:14:21.978979Z",
     "start_time": "2022-04-21T17:14:21.368257Z"
    }
   },
   "outputs": [
    {
     "ename": "RuntimeError",
     "evalue": "asyncio.run() cannot be called from a running event loop",
     "output_type": "error",
     "traceback": [
      "\u001b[0;31m---------------------------------------------------------------------------\u001b[0m",
      "\u001b[0;31mRuntimeError\u001b[0m                              Traceback (most recent call last)",
      "Input \u001b[0;32mIn [4]\u001b[0m, in \u001b[0;36m<cell line: 1>\u001b[0;34m()\u001b[0m\n\u001b[0;32m----> 1\u001b[0m \u001b[43masyncio\u001b[49m\u001b[38;5;241;43m.\u001b[39;49m\u001b[43mrun\u001b[49m\u001b[43m(\u001b[49m\u001b[43mhello\u001b[49m\u001b[43m(\u001b[49m\u001b[38;5;124;43m\"\u001b[39;49m\u001b[38;5;124;43mJupyter\u001b[39;49m\u001b[38;5;124;43m\"\u001b[39;49m\u001b[43m)\u001b[49m\u001b[43m)\u001b[49m\n",
      "File \u001b[0;32m~/anaconda2/envs/py38-poetry/lib/python3.8/asyncio/runners.py:33\u001b[0m, in \u001b[0;36mrun\u001b[0;34m(main, debug)\u001b[0m\n\u001b[1;32m      9\u001b[0m \u001b[38;5;124;03m\"\"\"Execute the coroutine and return the result.\u001b[39;00m\n\u001b[1;32m     10\u001b[0m \n\u001b[1;32m     11\u001b[0m \u001b[38;5;124;03mThis function runs the passed coroutine, taking care of\u001b[39;00m\n\u001b[0;32m   (...)\u001b[0m\n\u001b[1;32m     30\u001b[0m \u001b[38;5;124;03m    asyncio.run(main())\u001b[39;00m\n\u001b[1;32m     31\u001b[0m \u001b[38;5;124;03m\"\"\"\u001b[39;00m\n\u001b[1;32m     32\u001b[0m \u001b[38;5;28;01mif\u001b[39;00m events\u001b[38;5;241m.\u001b[39m_get_running_loop() \u001b[38;5;129;01mis\u001b[39;00m \u001b[38;5;129;01mnot\u001b[39;00m \u001b[38;5;28;01mNone\u001b[39;00m:\n\u001b[0;32m---> 33\u001b[0m     \u001b[38;5;28;01mraise\u001b[39;00m \u001b[38;5;167;01mRuntimeError\u001b[39;00m(\n\u001b[1;32m     34\u001b[0m         \u001b[38;5;124m\"\u001b[39m\u001b[38;5;124masyncio.run() cannot be called from a running event loop\u001b[39m\u001b[38;5;124m\"\u001b[39m)\n\u001b[1;32m     36\u001b[0m \u001b[38;5;28;01mif\u001b[39;00m \u001b[38;5;129;01mnot\u001b[39;00m coroutines\u001b[38;5;241m.\u001b[39miscoroutine(main):\n\u001b[1;32m     37\u001b[0m     \u001b[38;5;28;01mraise\u001b[39;00m \u001b[38;5;167;01mValueError\u001b[39;00m(\u001b[38;5;124m\"\u001b[39m\u001b[38;5;124ma coroutine was expected, got \u001b[39m\u001b[38;5;132;01m{!r}\u001b[39;00m\u001b[38;5;124m\"\u001b[39m\u001b[38;5;241m.\u001b[39mformat(main))\n",
      "\u001b[0;31mRuntimeError\u001b[0m: asyncio.run() cannot be called from a running event loop"
     ]
    }
   ],
   "source": [
    "asyncio.run(hello(\"Jupyter\"))"
   ]
  },
  {
   "cell_type": "code",
   "execution_count": 5,
   "id": "066592e2",
   "metadata": {
    "ExecuteTime": {
     "end_time": "2022-04-21T17:14:42.454789Z",
     "start_time": "2022-04-21T17:14:42.434114Z"
    }
   },
   "outputs": [
    {
     "data": {
      "text/plain": [
       "<_UnixSelectorEventLoop running=True closed=False debug=False>"
      ]
     },
     "execution_count": 5,
     "metadata": {},
     "output_type": "execute_result"
    }
   ],
   "source": [
    "asyncio.get_event_loop()"
   ]
  },
  {
   "cell_type": "code",
   "execution_count": 6,
   "id": "7b9a00d7",
   "metadata": {
    "ExecuteTime": {
     "end_time": "2022-04-21T17:14:56.734029Z",
     "start_time": "2022-04-21T17:14:56.712585Z"
    }
   },
   "outputs": [],
   "source": [
    "import threading"
   ]
  },
  {
   "cell_type": "code",
   "execution_count": 7,
   "id": "e011636e",
   "metadata": {
    "ExecuteTime": {
     "end_time": "2022-04-21T17:14:58.230943Z",
     "start_time": "2022-04-21T17:14:58.214156Z"
    }
   },
   "outputs": [],
   "source": [
    "def main(f, *args):\n",
    "    try:\n",
    "        asyncio.get_event_loop()\n",
    "    except RuntimeError:\n",
    "        print(\"Event loop is not running\")\n",
    "    \n",
    "    asyncio.run(f(*args))\n",
    "    \n",
    "    try:\n",
    "        asyncio.get_event_loop()\n",
    "    except RuntimeError:\n",
    "        print(\"Event loop is not running\")\n",
    "\n",
    "    print(\"OK\")"
   ]
  },
  {
   "cell_type": "code",
   "execution_count": 9,
   "id": "a6966c59",
   "metadata": {
    "ExecuteTime": {
     "end_time": "2022-04-21T17:15:53.728273Z",
     "start_time": "2022-04-21T17:15:50.709464Z"
    }
   },
   "outputs": [
    {
     "name": "stdout",
     "output_type": "stream",
     "text": [
      "Event loop is not running\n",
      "Hello, Thread!\n",
      "Event loop is not running\n",
      "OK\n"
     ]
    }
   ],
   "source": [
    "t = threading.Thread(target=main, args=(hello, \"Thread\"))\n",
    "t.start()\n",
    "t.join()"
   ]
  },
  {
   "cell_type": "markdown",
   "id": "7bdd3ab4",
   "metadata": {},
   "source": [
    "### `await`"
   ]
  },
  {
   "cell_type": "code",
   "execution_count": 11,
   "id": "ca104ca8",
   "metadata": {
    "ExecuteTime": {
     "end_time": "2022-04-21T17:18:03.898268Z",
     "start_time": "2022-04-21T17:18:03.855674Z"
    }
   },
   "outputs": [
    {
     "ename": "ValueError",
     "evalue": "",
     "output_type": "error",
     "traceback": [
      "\u001b[0;31m---------------------------------------------------------------------------\u001b[0m",
      "\u001b[0;31mValueError\u001b[0m                                Traceback (most recent call last)",
      "Input \u001b[0;32mIn [11]\u001b[0m, in \u001b[0;36m<cell line: 1>\u001b[0;34m()\u001b[0m\n\u001b[0;32m----> 1\u001b[0m \u001b[38;5;28;01mawait\u001b[39;00m raise_exc(\u001b[38;5;167;01mValueError\u001b[39;00m)\n",
      "Input \u001b[0;32mIn [2]\u001b[0m, in \u001b[0;36mraise_exc\u001b[0;34m(exc)\u001b[0m\n\u001b[1;32m      6\u001b[0m \u001b[38;5;28;01masync\u001b[39;00m \u001b[38;5;28;01mdef\u001b[39;00m \u001b[38;5;21mraise_exc\u001b[39m(exc):\n\u001b[0;32m----> 7\u001b[0m     \u001b[38;5;28;01mraise\u001b[39;00m exc\n",
      "\u001b[0;31mValueError\u001b[0m: "
     ]
    }
   ],
   "source": [
    "await raise_exc(ValueError)"
   ]
  },
  {
   "cell_type": "markdown",
   "id": "0449a5e2",
   "metadata": {},
   "source": [
    "### `asyncio.create_task`"
   ]
  },
  {
   "cell_type": "code",
   "execution_count": 16,
   "id": "584070dd",
   "metadata": {
    "ExecuteTime": {
     "end_time": "2022-04-21T17:19:34.916673Z",
     "start_time": "2022-04-21T17:19:34.910422Z"
    }
   },
   "outputs": [],
   "source": [
    "t = asyncio.create_task(hello(\"World\"))"
   ]
  },
  {
   "cell_type": "code",
   "execution_count": 17,
   "id": "c14c0735",
   "metadata": {
    "ExecuteTime": {
     "end_time": "2022-04-21T17:19:37.961836Z",
     "start_time": "2022-04-21T17:19:37.945085Z"
    }
   },
   "outputs": [
    {
     "name": "stdout",
     "output_type": "stream",
     "text": [
      "Hello, World!\n"
     ]
    },
    {
     "data": {
      "text/plain": [
       "3"
      ]
     },
     "execution_count": 17,
     "metadata": {},
     "output_type": "execute_result"
    }
   ],
   "source": [
    "await t"
   ]
  },
  {
   "cell_type": "code",
   "execution_count": 14,
   "id": "cbdfccf5",
   "metadata": {
    "ExecuteTime": {
     "end_time": "2022-04-21T17:18:59.666258Z",
     "start_time": "2022-04-21T17:18:59.657411Z"
    }
   },
   "outputs": [
    {
     "data": {
      "text/plain": [
       "3"
      ]
     },
     "execution_count": 14,
     "metadata": {},
     "output_type": "execute_result"
    }
   ],
   "source": [
    "t.result()"
   ]
  },
  {
   "cell_type": "code",
   "execution_count": 15,
   "id": "6d587e66",
   "metadata": {
    "ExecuteTime": {
     "end_time": "2022-04-21T17:19:00.550681Z",
     "start_time": "2022-04-21T17:19:00.525119Z"
    }
   },
   "outputs": [
    {
     "data": {
      "text/plain": [
       "True"
      ]
     },
     "execution_count": 15,
     "metadata": {},
     "output_type": "execute_result"
    }
   ],
   "source": [
    "t.done()"
   ]
  },
  {
   "cell_type": "markdown",
   "id": "dcd5cc9a",
   "metadata": {},
   "source": [
    "## Tasks"
   ]
  },
  {
   "cell_type": "markdown",
   "id": "5d09917d",
   "metadata": {},
   "source": [
    "### Создание нескольких тасок"
   ]
  },
  {
   "cell_type": "code",
   "execution_count": 21,
   "id": "ccdf7024",
   "metadata": {
    "ExecuteTime": {
     "end_time": "2022-04-21T17:21:17.403199Z",
     "start_time": "2022-04-21T17:21:17.396019Z"
    }
   },
   "outputs": [],
   "source": [
    "async def create_multiple_tasks():\n",
    "    print(dt.now())\n",
    "    t1 = asyncio.create_task(hello(\"World\"))\n",
    "    t2 = asyncio.create_task(hello(\"Python\"))\n",
    "    t3 = asyncio.create_task(hello(\"Asyncio\"))\n",
    "    await t1, t2, t3\n",
    "    print(dt.now())"
   ]
  },
  {
   "cell_type": "code",
   "execution_count": 22,
   "id": "396573e7",
   "metadata": {
    "ExecuteTime": {
     "end_time": "2022-04-21T17:21:21.366672Z",
     "start_time": "2022-04-21T17:21:18.356663Z"
    }
   },
   "outputs": [
    {
     "name": "stdout",
     "output_type": "stream",
     "text": [
      "2022-04-21 20:21:18.359127\n",
      "Hello, World!\n",
      "Hello, Python!\n",
      "Hello, Asyncio!\n",
      "2022-04-21 20:21:21.364971\n"
     ]
    }
   ],
   "source": [
    "await create_multiple_tasks()"
   ]
  },
  {
   "cell_type": "markdown",
   "id": "16da7d78",
   "metadata": {},
   "source": [
    "### Отмена тасок"
   ]
  },
  {
   "cell_type": "code",
   "execution_count": 23,
   "id": "f332c01e",
   "metadata": {
    "ExecuteTime": {
     "end_time": "2022-04-21T17:21:36.290406Z",
     "start_time": "2022-04-21T17:21:36.279285Z"
    }
   },
   "outputs": [],
   "source": [
    "async def foo():\n",
    "    try:\n",
    "        await asyncio.sleep(5)\n",
    "    except asyncio.CancelledError:\n",
    "        print(\"you cannot cancel me\")\n",
    "    return 1"
   ]
  },
  {
   "cell_type": "code",
   "execution_count": 27,
   "id": "63368c92",
   "metadata": {
    "ExecuteTime": {
     "end_time": "2022-04-21T17:23:26.257248Z",
     "start_time": "2022-04-21T17:23:26.249746Z"
    }
   },
   "outputs": [],
   "source": [
    "c = foo()"
   ]
  },
  {
   "cell_type": "code",
   "execution_count": 24,
   "id": "9e1d0e09",
   "metadata": {
    "ExecuteTime": {
     "end_time": "2022-04-21T17:21:37.881848Z",
     "start_time": "2022-04-21T17:21:37.875606Z"
    }
   },
   "outputs": [],
   "source": [
    "t = asyncio.create_task(foo())"
   ]
  },
  {
   "cell_type": "code",
   "execution_count": 25,
   "id": "3abaf0bd",
   "metadata": {
    "ExecuteTime": {
     "end_time": "2022-04-21T17:21:38.464148Z",
     "start_time": "2022-04-21T17:21:38.439555Z"
    }
   },
   "outputs": [
    {
     "data": {
      "text/plain": [
       "True"
      ]
     },
     "execution_count": 25,
     "metadata": {},
     "output_type": "execute_result"
    },
    {
     "name": "stdout",
     "output_type": "stream",
     "text": [
      "you cannot cancel me\n"
     ]
    }
   ],
   "source": [
    "t.cancel()"
   ]
  },
  {
   "cell_type": "code",
   "execution_count": null,
   "id": "21a1d004",
   "metadata": {
    "ExecuteTime": {
     "end_time": "2022-04-21T11:17:36.699617Z",
     "start_time": "2022-04-21T11:17:36.692758Z"
    }
   },
   "outputs": [],
   "source": [
    "await t"
   ]
  },
  {
   "cell_type": "markdown",
   "id": "6d4d4578",
   "metadata": {},
   "source": [
    "## Async Context Manager"
   ]
  },
  {
   "cell_type": "code",
   "execution_count": null,
   "id": "6cff6d62",
   "metadata": {},
   "outputs": [],
   "source": [
    "async with AsyncCM as ctx:\n",
    "    ..."
   ]
  },
  {
   "cell_type": "markdown",
   "id": "500bdec1",
   "metadata": {},
   "source": [
    "то же, что и:"
   ]
  },
  {
   "cell_type": "code",
   "execution_count": null,
   "id": "67be3636",
   "metadata": {},
   "outputs": [],
   "source": [
    "ctx = await AsyncCM.__aenter__()\n",
    "try:\n",
    "    ...\n",
    "except Exception as e:\n",
    "    if not await AsyncCM.__aexit__(type(e), e, e.__traceback__):\n",
    "        raise e\n",
    "else:\n",
    "    await AsyncCM.__aexit__(None, None, None)"
   ]
  },
  {
   "cell_type": "markdown",
   "id": "85454cfb",
   "metadata": {},
   "source": [
    "Асинхронный контекстный менеджер должен определять следующие методы:"
   ]
  },
  {
   "cell_type": "code",
   "execution_count": null,
   "id": "a9f6dc45",
   "metadata": {},
   "outputs": [],
   "source": [
    "async def __aenter__(self):\n",
    "    ...\n",
    "\n",
    "async def __aexit__(self, exc_t, exc_v, exc_tb):\n",
    "    ..."
   ]
  },
  {
   "cell_type": "markdown",
   "id": "765add67",
   "metadata": {},
   "source": [
    "## Примитивы синхронизации"
   ]
  },
  {
   "cell_type": "markdown",
   "id": "43cd19a7",
   "metadata": {},
   "source": [
    "https://docs.python.org/3/library/asyncio-sync.html"
   ]
  },
  {
   "cell_type": "markdown",
   "id": "f496ad20",
   "metadata": {},
   "source": [
    "### `Lock`"
   ]
  },
  {
   "cell_type": "code",
   "execution_count": 43,
   "id": "e2db2ff5",
   "metadata": {
    "ExecuteTime": {
     "end_time": "2022-04-21T17:40:00.145726Z",
     "start_time": "2022-04-21T17:40:00.124076Z"
    }
   },
   "outputs": [],
   "source": [
    "@dataclass\n",
    "class BankAccount:\n",
    "    name: str\n",
    "    balance: Decimal"
   ]
  },
  {
   "cell_type": "code",
   "execution_count": 44,
   "id": "4cc93d77",
   "metadata": {
    "ExecuteTime": {
     "end_time": "2022-04-21T17:40:01.157640Z",
     "start_time": "2022-04-21T17:40:01.142859Z"
    }
   },
   "outputs": [],
   "source": [
    "A = BankAccount(name=\"Alice\", balance=100)\n",
    "B = BankAccount(name=\"Bob\", balance=100)"
   ]
  },
  {
   "cell_type": "code",
   "execution_count": 45,
   "id": "4be1bf4d",
   "metadata": {
    "ExecuteTime": {
     "end_time": "2022-04-21T17:42:11.681889Z",
     "start_time": "2022-04-21T17:42:11.667474Z"
    }
   },
   "outputs": [],
   "source": [
    "async def select_balance(acc):\n",
    "    await asyncio.sleep(0.1) # идем в базу\n",
    "    return acc.balance\n",
    "\n",
    "async def update_balance(acc, amount):\n",
    "    await asyncio.sleep(0.1) # идем в базу\n",
    "    acc.balance += amount\n",
    "\n",
    "async def transfer_money(src, dst, amount):\n",
    "    if await select_balance(src) >= amount:\n",
    "        await update_balance(src, -amount)\n",
    "        await update_balance(dst, amount)"
   ]
  },
  {
   "cell_type": "code",
   "execution_count": 46,
   "id": "582ec065",
   "metadata": {
    "ExecuteTime": {
     "end_time": "2022-04-21T17:42:20.138089Z",
     "start_time": "2022-04-21T17:42:19.814128Z"
    }
   },
   "outputs": [
    {
     "data": {
      "text/plain": [
       "(BankAccount(name='Alice', balance=-100), BankAccount(name='Bob', balance=300))"
      ]
     },
     "execution_count": 46,
     "metadata": {},
     "output_type": "execute_result"
    }
   ],
   "source": [
    "await asyncio.gather(transfer_money(A, B, 100), transfer_money(A, B, 100))\n",
    "A, B"
   ]
  },
  {
   "cell_type": "markdown",
   "id": "c3c3e5a4",
   "metadata": {},
   "source": [
    "### Semaphore"
   ]
  },
  {
   "cell_type": "code",
   "execution_count": 53,
   "id": "e96f3210",
   "metadata": {
    "ExecuteTime": {
     "end_time": "2022-04-21T17:49:55.743137Z",
     "start_time": "2022-04-21T17:49:55.691825Z"
    }
   },
   "outputs": [],
   "source": [
    "async def gather_with_concurrency(conc, *aws):\n",
    "    sem = asyncio.Semaphore(conc)  # 3\n",
    "\n",
    "    async def sem_task(aw):\n",
    "        async with sem:\n",
    "            return await aw\n",
    "\n",
    "    return await asyncio.gather(*(sem_task(aw) for aw in aws))"
   ]
  },
  {
   "cell_type": "code",
   "execution_count": 54,
   "id": "c54bfd18",
   "metadata": {
    "ExecuteTime": {
     "end_time": "2022-04-21T17:50:20.240494Z",
     "start_time": "2022-04-21T17:50:08.190698Z"
    },
    "collapsed": true
   },
   "outputs": [
    {
     "name": "stdout",
     "output_type": "stream",
     "text": [
      "Hello, 0!\n",
      "Hello, 1!\n",
      "Hello, 2!\n",
      "Hello, 3!\n",
      "Hello, 4!\n",
      "Hello, 5!\n",
      "Hello, 6!\n",
      "Hello, 7!\n",
      "Hello, 8!\n",
      "Hello, 9!\n"
     ]
    },
    {
     "data": {
      "text/plain": [
       "[3, 3, 3, 3, 3, 3, 3, 3, 3, 3]"
      ]
     },
     "execution_count": 54,
     "metadata": {},
     "output_type": "execute_result"
    }
   ],
   "source": [
    "await gather_with_concurrency(3, *[hello(i) for i in range(10)])"
   ]
  },
  {
   "cell_type": "markdown",
   "id": "19717cdc",
   "metadata": {},
   "source": [
    "# Примеры"
   ]
  },
  {
   "cell_type": "markdown",
   "id": "314d4fc7",
   "metadata": {},
   "source": [
    "## Background job"
   ]
  },
  {
   "cell_type": "code",
   "execution_count": 32,
   "id": "b9cd3c29",
   "metadata": {
    "ExecuteTime": {
     "end_time": "2022-04-21T17:31:17.236482Z",
     "start_time": "2022-04-21T17:31:17.221374Z"
    },
    "collapsed": true
   },
   "outputs": [
    {
     "name": "stdout",
     "output_type": "stream",
     "text": [
      "0\n",
      "9\n",
      "19\n",
      "28\n",
      "38\n",
      "48\n",
      "57\n",
      "67\n",
      "77\n",
      "86\n",
      "96\n",
      "106\n",
      "115\n",
      "125\n",
      "135\n",
      "144\n",
      "154\n",
      "164\n",
      "173\n",
      "183\n",
      "192\n",
      "202\n",
      "212\n",
      "221\n",
      "231\n",
      "241\n",
      "250\n",
      "260\n",
      "270\n",
      "279\n",
      "289\n",
      "299\n",
      "308\n",
      "318\n",
      "328\n"
     ]
    }
   ],
   "source": [
    "import asyncio\n",
    "\n",
    "async def get_some_values_from_io():\n",
    "    await asyncio.sleep(0.1)  # например, HTTP запрос\n",
    "    return [0]\n",
    "\n",
    "vals = []\n",
    "\n",
    "async def fetcher():\n",
    "    while True:\n",
    "        io_vals = await get_some_values_from_io()\n",
    "        for val in io_vals:\n",
    "            vals.append(val)\n",
    "\n",
    "async def monitor():\n",
    "    while True:\n",
    "        print(len(vals))\n",
    "        await asyncio.sleep(1)\n",
    "\n",
    "t1 = asyncio.create_task(fetcher())\n",
    "t2 = asyncio.create_task(monitor())"
   ]
  },
  {
   "cell_type": "code",
   "execution_count": 33,
   "id": "d3db3d57",
   "metadata": {
    "ExecuteTime": {
     "end_time": "2022-04-21T17:31:52.025083Z",
     "start_time": "2022-04-21T17:31:52.007507Z"
    }
   },
   "outputs": [
    {
     "data": {
      "text/plain": [
       "True"
      ]
     },
     "execution_count": 33,
     "metadata": {},
     "output_type": "execute_result"
    }
   ],
   "source": [
    "t1.cancel()\n",
    "t2.cancel()"
   ]
  },
  {
   "cell_type": "markdown",
   "id": "999a1e8f",
   "metadata": {},
   "source": [
    "---"
   ]
  },
  {
   "cell_type": "code",
   "execution_count": 35,
   "id": "93eb7ff5",
   "metadata": {
    "ExecuteTime": {
     "end_time": "2022-04-21T17:32:39.410333Z",
     "start_time": "2022-04-21T17:32:39.395306Z"
    }
   },
   "outputs": [],
   "source": [
    "import sys"
   ]
  },
  {
   "cell_type": "code",
   "execution_count": 36,
   "id": "7b0b9e08",
   "metadata": {
    "ExecuteTime": {
     "end_time": "2022-04-21T17:32:39.993001Z",
     "start_time": "2022-04-21T17:32:39.978323Z"
    }
   },
   "outputs": [
    {
     "data": {
      "text/plain": [
       "'/Users/iporyadkov/anaconda2/envs/py38-poetry/bin/python'"
      ]
     },
     "execution_count": 36,
     "metadata": {},
     "output_type": "execute_result"
    }
   ],
   "source": [
    "sys.executable"
   ]
  },
  {
   "cell_type": "code",
   "execution_count": 37,
   "id": "633be435",
   "metadata": {
    "ExecuteTime": {
     "end_time": "2022-04-21T17:33:37.885353Z",
     "start_time": "2022-04-21T17:33:34.684357Z"
    },
    "collapsed": true
   },
   "outputs": [
    {
     "name": "stdout",
     "output_type": "stream",
     "text": [
      "Requirement already satisfied: aiofiles in /Users/iporyadkov/anaconda2/envs/py38-poetry/lib/python3.8/site-packages (0.8.0)\n",
      "Requirement already satisfied: aiohttp in /Users/iporyadkov/anaconda2/envs/py38-poetry/lib/python3.8/site-packages (3.8.1)\n",
      "Requirement already satisfied: async-timeout<5.0,>=4.0.0a3 in /Users/iporyadkov/anaconda2/envs/py38-poetry/lib/python3.8/site-packages (from aiohttp) (4.0.2)\n",
      "Requirement already satisfied: aiosignal>=1.1.2 in /Users/iporyadkov/anaconda2/envs/py38-poetry/lib/python3.8/site-packages (from aiohttp) (1.2.0)\n",
      "Requirement already satisfied: charset-normalizer<3.0,>=2.0 in /Users/iporyadkov/anaconda2/envs/py38-poetry/lib/python3.8/site-packages (from aiohttp) (2.0.12)\n",
      "Requirement already satisfied: frozenlist>=1.1.1 in /Users/iporyadkov/anaconda2/envs/py38-poetry/lib/python3.8/site-packages (from aiohttp) (1.3.0)\n",
      "Requirement already satisfied: yarl<2.0,>=1.0 in /Users/iporyadkov/anaconda2/envs/py38-poetry/lib/python3.8/site-packages (from aiohttp) (1.7.2)\n",
      "Requirement already satisfied: attrs>=17.3.0 in /Users/iporyadkov/anaconda2/envs/py38-poetry/lib/python3.8/site-packages (from aiohttp) (21.4.0)\n",
      "Requirement already satisfied: multidict<7.0,>=4.5 in /Users/iporyadkov/anaconda2/envs/py38-poetry/lib/python3.8/site-packages (from aiohttp) (6.0.2)\n",
      "Requirement already satisfied: idna>=2.0 in /Users/iporyadkov/anaconda2/envs/py38-poetry/lib/python3.8/site-packages (from yarl<2.0,>=1.0->aiohttp) (3.3)\n"
     ]
    }
   ],
   "source": [
    "! $sys.executable -m pip install aiofiles aiohttp"
   ]
  },
  {
   "cell_type": "markdown",
   "id": "9395c07b",
   "metadata": {},
   "source": [
    "## Чтение из файла"
   ]
  },
  {
   "cell_type": "markdown",
   "id": "317f2450",
   "metadata": {},
   "source": [
    "https://github.com/Tinche/aiofiles"
   ]
  },
  {
   "cell_type": "code",
   "execution_count": 38,
   "id": "18f61b35",
   "metadata": {
    "ExecuteTime": {
     "end_time": "2022-04-21T17:34:11.929722Z",
     "start_time": "2022-04-21T17:34:11.911565Z"
    }
   },
   "outputs": [],
   "source": [
    "import aiofiles"
   ]
  },
  {
   "cell_type": "code",
   "execution_count": 39,
   "id": "3ec82ffa",
   "metadata": {
    "ExecuteTime": {
     "end_time": "2022-04-21T17:35:09.077620Z",
     "start_time": "2022-04-21T17:35:09.053980Z"
    }
   },
   "outputs": [
    {
     "name": "stdout",
     "output_type": "stream",
     "text": [
      "{\n",
      " \"cells\"\n"
     ]
    }
   ],
   "source": [
    "async with aiofiles.open(\"./ASYNCIO.ipynb\") as f:\n",
    "    content = await f.read(10)\n",
    "print(content)"
   ]
  },
  {
   "cell_type": "markdown",
   "id": "e6e42250",
   "metadata": {},
   "source": [
    "## HTTP запрос"
   ]
  },
  {
   "cell_type": "markdown",
   "id": "8728b751",
   "metadata": {},
   "source": [
    "https://docs.aiohttp.org/en/stable/"
   ]
  },
  {
   "cell_type": "code",
   "execution_count": 40,
   "id": "ac758e4b",
   "metadata": {
    "ExecuteTime": {
     "end_time": "2022-04-21T17:35:30.358859Z",
     "start_time": "2022-04-21T17:35:30.098030Z"
    }
   },
   "outputs": [],
   "source": [
    "import aiohttp"
   ]
  },
  {
   "cell_type": "code",
   "execution_count": 41,
   "id": "fdda013e",
   "metadata": {
    "ExecuteTime": {
     "end_time": "2022-04-21T17:35:50.935550Z",
     "start_time": "2022-04-21T17:35:50.007706Z"
    }
   },
   "outputs": [
    {
     "name": "stdout",
     "output_type": "stream",
     "text": [
      "Status: 200\n",
      "Content-type: text/html; charset=utf-8\n",
      "Body: <!doctype html> ...\n"
     ]
    }
   ],
   "source": [
    "async with aiohttp.ClientSession() as session:\n",
    "    async with session.get(\"http://python.org\") as response:\n",
    "\n",
    "        print(\"Status:\", response.status)\n",
    "        print(\"Content-type:\", response.headers[\"content-type\"])\n",
    "\n",
    "        html = await response.text()\n",
    "        print(\"Body:\", html[:15], \"...\")"
   ]
  },
  {
   "cell_type": "markdown",
   "id": "972dfe5a",
   "metadata": {},
   "source": [
    "## Запуск процесса"
   ]
  },
  {
   "cell_type": "markdown",
   "id": "ae5302c0",
   "metadata": {},
   "source": [
    "https://docs.python.org/3/library/asyncio-subprocess.html"
   ]
  },
  {
   "cell_type": "code",
   "execution_count": 42,
   "id": "09bec4f4",
   "metadata": {
    "ExecuteTime": {
     "end_time": "2022-04-21T17:37:23.848581Z",
     "start_time": "2022-04-21T17:37:23.797715Z"
    }
   },
   "outputs": [
    {
     "name": "stdout",
     "output_type": "stream",
     "text": [
      "['ls /zzz' exited with 1]\n",
      "[stderr]\n",
      "ls: /zzz: No such file or directory\n",
      "\n"
     ]
    }
   ],
   "source": [
    "async def run(cmd):\n",
    "    proc = await asyncio.create_subprocess_shell(\n",
    "        cmd,\n",
    "        stdout=asyncio.subprocess.PIPE,\n",
    "        stderr=asyncio.subprocess.PIPE,\n",
    "    )\n",
    "\n",
    "    stdout, stderr = await proc.communicate()\n",
    "\n",
    "    print(f'[{cmd!r} exited with {proc.returncode}]')\n",
    "    if stdout:\n",
    "        print(f'[stdout]\\n{stdout.decode()}')\n",
    "    if stderr:\n",
    "        print(f'[stderr]\\n{stderr.decode()}')\n",
    "\n",
    "# asyncio.run(run(\"ls /zzz\"))\n",
    "await run(\"ls /zzz\")"
   ]
  }
 ],
 "metadata": {
  "kernelspec": {
   "display_name": "Python 3 (ipykernel)",
   "language": "python",
   "name": "python3"
  },
  "language_info": {
   "codemirror_mode": {
    "name": "ipython",
    "version": 3
   },
   "file_extension": ".py",
   "mimetype": "text/x-python",
   "name": "python",
   "nbconvert_exporter": "python",
   "pygments_lexer": "ipython3",
   "version": "3.8.12"
  },
  "toc": {
   "base_numbering": 1,
   "nav_menu": {},
   "number_sections": true,
   "sideBar": true,
   "skip_h1_title": false,
   "title_cell": "Table of Contents",
   "title_sidebar": "Contents",
   "toc_cell": false,
   "toc_position": {},
   "toc_section_display": true,
   "toc_window_display": false
  }
 },
 "nbformat": 4,
 "nbformat_minor": 5
}
