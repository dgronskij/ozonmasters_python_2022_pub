{
 "cells": [
  {
   "cell_type": "markdown",
   "id": "1bca7b10",
   "metadata": {},
   "source": [
    "# Positional / named arguments"
   ]
  },
  {
   "cell_type": "code",
   "execution_count": 61,
   "id": "ff6f3e0e",
   "metadata": {},
   "outputs": [],
   "source": [
    "def func(a, b, default_arg=3):\n",
    "    print(locals())"
   ]
  },
  {
   "cell_type": "code",
   "execution_count": 63,
   "id": "7ce91ec8",
   "metadata": {},
   "outputs": [
    {
     "name": "stdout",
     "output_type": "stream",
     "text": [
      "{'a': 1, 'b': 2, 'default_arg': 3}\n"
     ]
    }
   ],
   "source": [
    "func(1, 2)"
   ]
  },
  {
   "cell_type": "code",
   "execution_count": 64,
   "id": "13596994",
   "metadata": {},
   "outputs": [
    {
     "name": "stdout",
     "output_type": "stream",
     "text": [
      "{'a': 1, 'b': 2, 'default_arg': 3}\n"
     ]
    }
   ],
   "source": [
    "func(a=1, b=2)"
   ]
  },
  {
   "cell_type": "code",
   "execution_count": 67,
   "id": "554eda68",
   "metadata": {},
   "outputs": [
    {
     "ename": "TypeError",
     "evalue": "func() got multiple values for argument 'a'",
     "output_type": "error",
     "traceback": [
      "\u001b[0;31m---------------------------------------------------------------------------\u001b[0m",
      "\u001b[0;31mTypeError\u001b[0m                                 Traceback (most recent call last)",
      "\u001b[0;32m/tmp/ipykernel_23873/1982190978.py\u001b[0m in \u001b[0;36m<module>\u001b[0;34m\u001b[0m\n\u001b[0;32m----> 1\u001b[0;31m \u001b[0mfunc\u001b[0m\u001b[0;34m(\u001b[0m\u001b[0;36m2\u001b[0m\u001b[0;34m,\u001b[0m \u001b[0ma\u001b[0m\u001b[0;34m=\u001b[0m\u001b[0;36m1\u001b[0m\u001b[0;34m,\u001b[0m \u001b[0mdefault_arg\u001b[0m\u001b[0;34m=\u001b[0m\u001b[0;36m10\u001b[0m\u001b[0;34m)\u001b[0m\u001b[0;34m\u001b[0m\u001b[0;34m\u001b[0m\u001b[0m\n\u001b[0m",
      "\u001b[0;31mTypeError\u001b[0m: func() got multiple values for argument 'a'"
     ]
    }
   ],
   "source": [
    "func(2, a=1, default_arg=10)"
   ]
  },
  {
   "cell_type": "code",
   "execution_count": 68,
   "id": "09f07e7d",
   "metadata": {},
   "outputs": [
    {
     "name": "stdout",
     "output_type": "stream",
     "text": [
      "{'a': 1, 'b': 2, 'default_arg': 3}\n"
     ]
    }
   ],
   "source": [
    "func(1, b=2)"
   ]
  },
  {
   "cell_type": "code",
   "execution_count": null,
   "id": "ee864672",
   "metadata": {},
   "outputs": [],
   "source": []
  },
  {
   "cell_type": "markdown",
   "id": "03e94dda",
   "metadata": {},
   "source": [
    "# positional / named arguments"
   ]
  },
  {
   "cell_type": "code",
   "execution_count": 69,
   "id": "736336e5",
   "metadata": {},
   "outputs": [],
   "source": [
    "# only named parameters\n",
    "\n",
    "# after asterisk (*) every parameter may be passed only as named one\n",
    "\n",
    "def func(*, a, b, default_arg=3):\n",
    "    print(locals())\n",
    "    "
   ]
  },
  {
   "cell_type": "code",
   "execution_count": 71,
   "id": "1ba98539",
   "metadata": {},
   "outputs": [
    {
     "name": "stdout",
     "output_type": "stream",
     "text": [
      "{'a': 1, 'b': 2, 'default_arg': 3}\n"
     ]
    }
   ],
   "source": [
    "func(a=1, b=2)"
   ]
  },
  {
   "cell_type": "code",
   "execution_count": 72,
   "id": "c8d17e47",
   "metadata": {},
   "outputs": [
    {
     "name": "stdout",
     "output_type": "stream",
     "text": [
      "{'a': 1, 'b': 2, 'default_arg': 3}\n"
     ]
    }
   ],
   "source": [
    "func(b=2, a=1)"
   ]
  },
  {
   "cell_type": "code",
   "execution_count": 73,
   "id": "205fb48b",
   "metadata": {},
   "outputs": [],
   "source": [
    "def func(before_asterisk, *, a, b, default_arg=3):\n",
    "    print(locals())"
   ]
  },
  {
   "cell_type": "code",
   "execution_count": 75,
   "id": "5be2ce39",
   "metadata": {},
   "outputs": [
    {
     "name": "stdout",
     "output_type": "stream",
     "text": [
      "{'before_asterisk': 0, 'a': 1, 'b': 2, 'default_arg': 3}\n"
     ]
    }
   ],
   "source": [
    "func(0, a=1, b=2)"
   ]
  },
  {
   "cell_type": "code",
   "execution_count": 76,
   "id": "c68870f6",
   "metadata": {},
   "outputs": [
    {
     "name": "stdout",
     "output_type": "stream",
     "text": [
      "{'before_asterisk': 0, 'a': 1, 'b': 2, 'default_arg': 3}\n"
     ]
    }
   ],
   "source": [
    "def func(before_asterisk, *, a, b, default_arg=3):\n",
    "    print(locals())\n",
    "    \n",
    "func(before_asterisk=0, a=1, b=2)"
   ]
  },
  {
   "cell_type": "code",
   "execution_count": null,
   "id": "de7aa5b8",
   "metadata": {},
   "outputs": [],
   "source": [
    "!pip install request==1.2.3  -- SemVer version, MAJOR.MINOR.PATCH\n",
    "\n"
   ]
  },
  {
   "cell_type": "code",
   "execution_count": null,
   "id": "4ecadd12",
   "metadata": {},
   "outputs": [],
   "source": [
    "class Foo:\n",
    "    def bar(self, *, a, b, new_argument=None):\n",
    "        print(locals())\n",
    "\n",
    "    \n"
   ]
  },
  {
   "cell_type": "code",
   "execution_count": null,
   "id": "92957cbc",
   "metadata": {},
   "outputs": [],
   "source": [
    "# positional only"
   ]
  },
  {
   "cell_type": "code",
   "execution_count": 78,
   "id": "df61a284",
   "metadata": {},
   "outputs": [
    {
     "ename": "TypeError",
     "evalue": "func() got some positional-only arguments passed as keyword arguments: 'a'",
     "output_type": "error",
     "traceback": [
      "\u001b[0;31m---------------------------------------------------------------------------\u001b[0m",
      "\u001b[0;31mTypeError\u001b[0m                                 Traceback (most recent call last)",
      "\u001b[0;32m/tmp/ipykernel_23873/1799845630.py\u001b[0m in \u001b[0;36m<module>\u001b[0;34m\u001b[0m\n\u001b[1;32m      1\u001b[0m \u001b[0;32mdef\u001b[0m \u001b[0mfunc\u001b[0m\u001b[0;34m(\u001b[0m\u001b[0ma\u001b[0m\u001b[0;34m,\u001b[0m \u001b[0;34m/\u001b[0m\u001b[0;34m)\u001b[0m\u001b[0;34m:\u001b[0m \u001b[0;32mpass\u001b[0m\u001b[0;34m\u001b[0m\u001b[0;34m\u001b[0m\u001b[0m\n\u001b[1;32m      2\u001b[0m \u001b[0;34m\u001b[0m\u001b[0m\n\u001b[0;32m----> 3\u001b[0;31m \u001b[0mfunc\u001b[0m\u001b[0;34m(\u001b[0m\u001b[0ma\u001b[0m\u001b[0;34m=\u001b[0m\u001b[0;36m10\u001b[0m\u001b[0;34m)\u001b[0m\u001b[0;34m\u001b[0m\u001b[0;34m\u001b[0m\u001b[0m\n\u001b[0m",
      "\u001b[0;31mTypeError\u001b[0m: func() got some positional-only arguments passed as keyword arguments: 'a'"
     ]
    }
   ],
   "source": [
    "def func(a, /): pass\n",
    "\n",
    "func(a=10)"
   ]
  },
  {
   "cell_type": "code",
   "execution_count": null,
   "id": "1e476a33",
   "metadata": {},
   "outputs": [],
   "source": [
    "from functools import partial\n",
    "\n",
    "wrapper = partial(wrapped, 1,5,6,9, d=10)\n",
    "wrapper()"
   ]
  },
  {
   "cell_type": "code",
   "execution_count": 97,
   "id": "5484c5a3",
   "metadata": {},
   "outputs": [
    {
     "name": "stdout",
     "output_type": "stream",
     "text": [
      "wrapper {'some_api': 2, 'args': (3, 4), 'kwargs': {'d': 10}}\n"
     ]
    },
    {
     "ename": "TypeError",
     "evalue": "wrapped() got an unexpected keyword argument 'd'",
     "output_type": "error",
     "traceback": [
      "\u001b[0;31m---------------------------------------------------------------------------\u001b[0m",
      "\u001b[0;31mTypeError\u001b[0m                                 Traceback (most recent call last)",
      "\u001b[0;32m/tmp/ipykernel_23873/2290430234.py\u001b[0m in \u001b[0;36m<module>\u001b[0;34m\u001b[0m\n\u001b[1;32m     14\u001b[0m     \u001b[0mwrapped\u001b[0m\u001b[0;34m(\u001b[0m\u001b[0;34m*\u001b[0m\u001b[0margs\u001b[0m\u001b[0;34m,\u001b[0m \u001b[0;34m**\u001b[0m\u001b[0mkwargs\u001b[0m\u001b[0;34m)\u001b[0m\u001b[0;34m\u001b[0m\u001b[0;34m\u001b[0m\u001b[0m\n\u001b[1;32m     15\u001b[0m \u001b[0;34m\u001b[0m\u001b[0m\n\u001b[0;32m---> 16\u001b[0;31m \u001b[0mwrapper\u001b[0m\u001b[0;34m(\u001b[0m\u001b[0;36m2\u001b[0m\u001b[0;34m,\u001b[0m\u001b[0;36m3\u001b[0m\u001b[0;34m,\u001b[0m\u001b[0;36m4\u001b[0m\u001b[0;34m,\u001b[0m \u001b[0md\u001b[0m\u001b[0;34m=\u001b[0m\u001b[0;36m10\u001b[0m\u001b[0;34m)\u001b[0m\u001b[0;34m\u001b[0m\u001b[0;34m\u001b[0m\u001b[0m\n\u001b[0m",
      "\u001b[0;32m/tmp/ipykernel_23873/2290430234.py\u001b[0m in \u001b[0;36mwrapper\u001b[0;34m(some_api, *args, **kwargs)\u001b[0m\n\u001b[1;32m     12\u001b[0m \u001b[0;31m#     some_api.send_signal(...)\u001b[0m\u001b[0;34m\u001b[0m\u001b[0;34m\u001b[0m\u001b[0;34m\u001b[0m\u001b[0m\n\u001b[1;32m     13\u001b[0m     \u001b[0mprint\u001b[0m\u001b[0;34m(\u001b[0m\u001b[0;34m'wrapper'\u001b[0m\u001b[0;34m,\u001b[0m \u001b[0mlocals\u001b[0m\u001b[0;34m(\u001b[0m\u001b[0;34m)\u001b[0m\u001b[0;34m)\u001b[0m\u001b[0;34m\u001b[0m\u001b[0;34m\u001b[0m\u001b[0m\n\u001b[0;32m---> 14\u001b[0;31m     \u001b[0mwrapped\u001b[0m\u001b[0;34m(\u001b[0m\u001b[0;34m*\u001b[0m\u001b[0margs\u001b[0m\u001b[0;34m,\u001b[0m \u001b[0;34m**\u001b[0m\u001b[0mkwargs\u001b[0m\u001b[0;34m)\u001b[0m\u001b[0;34m\u001b[0m\u001b[0;34m\u001b[0m\u001b[0m\n\u001b[0m\u001b[1;32m     15\u001b[0m \u001b[0;34m\u001b[0m\u001b[0m\n\u001b[1;32m     16\u001b[0m \u001b[0mwrapper\u001b[0m\u001b[0;34m(\u001b[0m\u001b[0;36m2\u001b[0m\u001b[0;34m,\u001b[0m\u001b[0;36m3\u001b[0m\u001b[0;34m,\u001b[0m\u001b[0;36m4\u001b[0m\u001b[0;34m,\u001b[0m \u001b[0md\u001b[0m\u001b[0;34m=\u001b[0m\u001b[0;36m10\u001b[0m\u001b[0;34m)\u001b[0m\u001b[0;34m\u001b[0m\u001b[0;34m\u001b[0m\u001b[0m\n",
      "\u001b[0;31mTypeError\u001b[0m: wrapped() got an unexpected keyword argument 'd'"
     ]
    }
   ],
   "source": [
    "# def wrapped(*wrapped_args, **wrapped_kwargs):\n",
    "#     print('wrapped:', locals())\n",
    "    \n",
    "# def wrapped(a=1, b=2):\n",
    "#     print(locals())\n",
    "\n",
    "\n",
    "# def partial(func, *args, **kwargs)\n",
    "    \n",
    "\n",
    "\n",
    "def wrapper(some_api, *args, **kwargs):\n",
    "#     some_api.send_signal(...)\n",
    "#     func(<parameters>)\n",
    "#     some_api.send_signal(...)\n",
    "    print('wrapper', locals())\n",
    "    wrapped(*args, **kwargs)\n",
    "\n",
    "wrapper(2,3,4, d=10)    "
   ]
  },
  {
   "cell_type": "code",
   "execution_count": null,
   "id": "0dcbb2e0",
   "metadata": {},
   "outputs": [],
   "source": []
  },
  {
   "cell_type": "code",
   "execution_count": 62,
   "id": "facc50f2",
   "metadata": {},
   "outputs": [],
   "source": [
    "# help(next)"
   ]
  },
  {
   "cell_type": "markdown",
   "id": "852fe8ad",
   "metadata": {},
   "source": [
    "# list / dict unpacking"
   ]
  },
  {
   "cell_type": "code",
   "execution_count": null,
   "id": "db2f0d50",
   "metadata": {},
   "outputs": [],
   "source": [
    "for el in iterable:\n",
    "    ..."
   ]
  },
  {
   "cell_type": "code",
   "execution_count": 98,
   "id": "46931e8f",
   "metadata": {},
   "outputs": [
    {
     "name": "stdout",
     "output_type": "stream",
     "text": [
      "a\n",
      "b\n",
      "c\n",
      "d\n"
     ]
    }
   ],
   "source": [
    "for el in 'abcd':\n",
    "    print(el)"
   ]
  },
  {
   "cell_type": "code",
   "execution_count": null,
   "id": "cd8a41ba",
   "metadata": {},
   "outputs": [],
   "source": [
    "# class list:\n",
    "#     def __init__(self, iterable):\n",
    "#         # fill self"
   ]
  },
  {
   "cell_type": "code",
   "execution_count": 100,
   "id": "16399ac0",
   "metadata": {},
   "outputs": [],
   "source": [
    "list1 = [1,2,3,4,]\n",
    "list2 = list('abcd')"
   ]
  },
  {
   "cell_type": "code",
   "execution_count": 101,
   "id": "498f9130",
   "metadata": {},
   "outputs": [
    {
     "data": {
      "text/plain": [
       "[1, 2, 3, 4, 'a', 'b', 'c', 'd']"
      ]
     },
     "execution_count": 101,
     "metadata": {},
     "output_type": "execute_result"
    }
   ],
   "source": [
    "[*list1, *list2]"
   ]
  },
  {
   "cell_type": "code",
   "execution_count": null,
   "id": "7cd2c698",
   "metadata": {},
   "outputs": [],
   "source": [
    "['python3', 'script.py', 'arg1', 'arg2']"
   ]
  },
  {
   "cell_type": "code",
   "execution_count": 115,
   "id": "50230ad8",
   "metadata": {},
   "outputs": [
    {
     "ename": "SyntaxError",
     "evalue": "invalid syntax (3289398732.py, line 9)",
     "output_type": "error",
     "traceback": [
      "\u001b[0;36m  File \u001b[0;32m\"/tmp/ipykernel_23873/3289398732.py\"\u001b[0;36m, line \u001b[0;32m9\u001b[0m\n\u001b[0;31m    *['foo_arg1', 'foo_arg2'] if add_foo_parameters else *[],\u001b[0m\n\u001b[0m                              ^\u001b[0m\n\u001b[0;31mSyntaxError\u001b[0m\u001b[0;31m:\u001b[0m invalid syntax\n"
     ]
    }
   ],
   "source": [
    "def build_cmd(\n",
    "    add_foo_parameters=False,\n",
    "    add_bar_parameters=False,\n",
    "): # returns list of [cmd, arg1, arg2]\n",
    "    result = [\n",
    "        'python3',\n",
    "        'arg1',\n",
    "        'arg2',\n",
    "        *(['foo_arg1', 'foo_arg2'] if add_foo_parameters else []),\n",
    "        *(['bar_arg1', 'bar_arg2'] if add_bar_parameters else []),\n",
    "    ]\n",
    "    \n",
    "    return result"
   ]
  },
  {
   "cell_type": "code",
   "execution_count": 112,
   "id": "5767a4e8",
   "metadata": {},
   "outputs": [
    {
     "data": {
      "text/plain": [
       "['python3', 'arg1', 'arg2']"
      ]
     },
     "execution_count": 112,
     "metadata": {},
     "output_type": "execute_result"
    }
   ],
   "source": [
    "build_cmd()"
   ]
  },
  {
   "cell_type": "code",
   "execution_count": 113,
   "id": "05caa754",
   "metadata": {},
   "outputs": [
    {
     "data": {
      "text/plain": [
       "['python3', 'arg1', 'arg2', 'foo_arg1', 'foo_arg2']"
      ]
     },
     "execution_count": 113,
     "metadata": {},
     "output_type": "execute_result"
    }
   ],
   "source": [
    "build_cmd(add_foo_parameters=True)"
   ]
  },
  {
   "cell_type": "code",
   "execution_count": 107,
   "id": "d84a4f0b",
   "metadata": {},
   "outputs": [
    {
     "data": {
      "text/plain": [
       "(1,)"
      ]
     },
     "execution_count": 107,
     "metadata": {},
     "output_type": "execute_result"
    }
   ],
   "source": [
    "(1,)"
   ]
  },
  {
   "cell_type": "code",
   "execution_count": 108,
   "id": "de0bb65d",
   "metadata": {},
   "outputs": [
    {
     "data": {
      "text/plain": [
       "(1, 2)"
      ]
     },
     "execution_count": 108,
     "metadata": {},
     "output_type": "execute_result"
    }
   ],
   "source": [
    "1,2"
   ]
  },
  {
   "cell_type": "code",
   "execution_count": 117,
   "id": "ca4d4234",
   "metadata": {},
   "outputs": [
    {
     "data": {
      "text/plain": [
       "{'a': 1, 'b': 10, 'd': 20}"
      ]
     },
     "execution_count": 117,
     "metadata": {},
     "output_type": "execute_result"
    }
   ],
   "source": [
    "d1 = dict(a=1, b=2)\n",
    "d2 = dict(b=10, d=20)\n",
    "\n",
    "{**d1, **d2}\n"
   ]
  },
  {
   "cell_type": "code",
   "execution_count": null,
   "id": "34e4b176",
   "metadata": {},
   "outputs": [],
   "source": [
    "[*list1, *list2]"
   ]
  },
  {
   "cell_type": "code",
   "execution_count": 121,
   "id": "e0d3a298",
   "metadata": {},
   "outputs": [],
   "source": [
    "from collections.abc import Iterable"
   ]
  },
  {
   "cell_type": "code",
   "execution_count": 128,
   "id": "501eda57",
   "metadata": {},
   "outputs": [
    {
     "data": {
      "text/plain": [
       "True"
      ]
     },
     "execution_count": 128,
     "metadata": {},
     "output_type": "execute_result"
    }
   ],
   "source": [
    "class Foo:\n",
    "    def __iter__(self):\n",
    "        yield from range(1, 10)\n",
    "\n",
    "isinstance(Foo(), Iterable)"
   ]
  },
  {
   "cell_type": "code",
   "execution_count": 127,
   "id": "9f9a73e4",
   "metadata": {},
   "outputs": [
    {
     "name": "stdout",
     "output_type": "stream",
     "text": [
      "1\n",
      "2\n",
      "3\n",
      "4\n",
      "5\n",
      "6\n",
      "7\n",
      "8\n",
      "9\n"
     ]
    }
   ],
   "source": [
    "for el in Foo():\n",
    "    print(el)"
   ]
  },
  {
   "cell_type": "code",
   "execution_count": 126,
   "id": "3e7618b2",
   "metadata": {},
   "outputs": [
    {
     "data": {
      "text/plain": [
       "[1, 2, 3, 4, 5, 6, 7, 8, 9]"
      ]
     },
     "execution_count": 126,
     "metadata": {},
     "output_type": "execute_result"
    }
   ],
   "source": [
    "[*Foo()]"
   ]
  },
  {
   "cell_type": "code",
   "execution_count": null,
   "id": "617bd6ea",
   "metadata": {},
   "outputs": [],
   "source": []
  }
 ],
 "metadata": {
  "kernelspec": {
   "display_name": "Python 3 (ipykernel)",
   "language": "python",
   "name": "python3"
  },
  "language_info": {
   "codemirror_mode": {
    "name": "ipython",
    "version": 3
   },
   "file_extension": ".py",
   "mimetype": "text/x-python",
   "name": "python",
   "nbconvert_exporter": "python",
   "pygments_lexer": "ipython3",
   "version": "3.9.5"
  }
 },
 "nbformat": 4,
 "nbformat_minor": 5
}
