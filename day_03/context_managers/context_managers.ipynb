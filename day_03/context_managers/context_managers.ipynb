{
 "cells": [
  {
   "cell_type": "markdown",
   "id": "4305c5a0",
   "metadata": {},
   "source": [
    "# Фабула"
   ]
  },
  {
   "cell_type": "code",
   "execution_count": 25,
   "id": "eb75d7dd",
   "metadata": {},
   "outputs": [],
   "source": [
    "class FileWrapper:\n",
    "    def __init__(self, path, mode='rt'):\n",
    "        self._file = open(path, mode)\n",
    "        self._read_cnt = 0\n",
    "    \n",
    "    def _on_read(self):\n",
    "        self._read_cnt += 1\n",
    "        if self._read_cnt >= 2:\n",
    "            raise ValueError(\"too much\")\n",
    "    \n",
    "    def read(self, size=-1, /):   \n",
    "        self._on_read()\n",
    "        return self._file.read(size)\n",
    "    \n",
    "    def readline(self):\n",
    "        self._on_read()\n",
    "        return self._file.readline()\n",
    "\n",
    "    def close(self):\n",
    "        self._file.close()\n",
    "    \n",
    "    def __iter__(self):\n",
    "        line = self.readline()\n",
    "        while line:\n",
    "            yield line\n",
    "            line = self.readline()"
   ]
  },
  {
   "cell_type": "code",
   "execution_count": 11,
   "id": "811d2b2b",
   "metadata": {},
   "outputs": [],
   "source": [
    "#here-document"
   ]
  },
  {
   "cell_type": "code",
   "execution_count": 12,
   "id": "ad5e0244",
   "metadata": {},
   "outputs": [],
   "source": [
    "%%bash\n",
    "cat <<EOF > ./file.txt\n",
    "first line\n",
    "second line\n",
    "third line\n",
    "EOF"
   ]
  },
  {
   "cell_type": "code",
   "execution_count": 13,
   "id": "50cdaae6",
   "metadata": {},
   "outputs": [],
   "source": [
    "# !echo \"first line\n",
    "# second line\n",
    "# third line\" | cat > ./file.txt"
   ]
  },
  {
   "cell_type": "code",
   "execution_count": 14,
   "id": "6512efee",
   "metadata": {},
   "outputs": [
    {
     "name": "stdout",
     "output_type": "stream",
     "text": [
      "first line\r\n",
      "second line\r\n",
      "third line\r\n"
     ]
    }
   ],
   "source": [
    "!cat ./file.txt"
   ]
  },
  {
   "cell_type": "code",
   "execution_count": 15,
   "id": "709e413b",
   "metadata": {},
   "outputs": [
    {
     "name": "stdout",
     "output_type": "stream",
     "text": [
      "first line\n",
      "\n",
      "second line\n",
      "\n",
      "third line\n",
      "\n"
     ]
    }
   ],
   "source": [
    "for line in open('./file.txt'):\n",
    "    print(line)"
   ]
  },
  {
   "cell_type": "code",
   "execution_count": 17,
   "id": "092a7012",
   "metadata": {},
   "outputs": [
    {
     "name": "stdout",
     "output_type": "stream",
     "text": [
      "hey, line is first line\n",
      "\n"
     ]
    },
    {
     "ename": "ValueError",
     "evalue": "too much",
     "output_type": "error",
     "traceback": [
      "\u001b[0;31m---------------------------------------------------------------------------\u001b[0m",
      "\u001b[0;31mValueError\u001b[0m                                Traceback (most recent call last)",
      "\u001b[0;32m/tmp/ipykernel_303/2185715445.py\u001b[0m in \u001b[0;36m<module>\u001b[0;34m\u001b[0m\n\u001b[1;32m      1\u001b[0m \u001b[0mf\u001b[0m \u001b[0;34m=\u001b[0m \u001b[0mFileWrapper\u001b[0m\u001b[0;34m(\u001b[0m\u001b[0;34m'./file.txt'\u001b[0m\u001b[0;34m)\u001b[0m\u001b[0;34m\u001b[0m\u001b[0;34m\u001b[0m\u001b[0m\n\u001b[0;32m----> 2\u001b[0;31m \u001b[0;32mfor\u001b[0m \u001b[0mline\u001b[0m \u001b[0;32min\u001b[0m \u001b[0mf\u001b[0m\u001b[0;34m:\u001b[0m\u001b[0;34m\u001b[0m\u001b[0;34m\u001b[0m\u001b[0m\n\u001b[0m\u001b[1;32m      3\u001b[0m     \u001b[0mprint\u001b[0m\u001b[0;34m(\u001b[0m\u001b[0;34m'hey, line is'\u001b[0m\u001b[0;34m,\u001b[0m \u001b[0mline\u001b[0m\u001b[0;34m)\u001b[0m\u001b[0;34m\u001b[0m\u001b[0;34m\u001b[0m\u001b[0m\n",
      "\u001b[0;32m/tmp/ipykernel_303/562137119.py\u001b[0m in \u001b[0;36m__iter__\u001b[0;34m(self)\u001b[0m\n\u001b[1;32m     21\u001b[0m         \u001b[0;32mwhile\u001b[0m \u001b[0mline\u001b[0m\u001b[0;34m:\u001b[0m\u001b[0;34m\u001b[0m\u001b[0;34m\u001b[0m\u001b[0m\n\u001b[1;32m     22\u001b[0m             \u001b[0;32myield\u001b[0m \u001b[0mline\u001b[0m\u001b[0;34m\u001b[0m\u001b[0;34m\u001b[0m\u001b[0m\n\u001b[0;32m---> 23\u001b[0;31m             \u001b[0mline\u001b[0m \u001b[0;34m=\u001b[0m \u001b[0mself\u001b[0m\u001b[0;34m.\u001b[0m\u001b[0mreadline\u001b[0m\u001b[0;34m(\u001b[0m\u001b[0;34m)\u001b[0m\u001b[0;34m\u001b[0m\u001b[0;34m\u001b[0m\u001b[0m\n\u001b[0m",
      "\u001b[0;32m/tmp/ipykernel_303/562137119.py\u001b[0m in \u001b[0;36mreadline\u001b[0;34m(self)\u001b[0m\n\u001b[1;32m     14\u001b[0m \u001b[0;34m\u001b[0m\u001b[0m\n\u001b[1;32m     15\u001b[0m     \u001b[0;32mdef\u001b[0m \u001b[0mreadline\u001b[0m\u001b[0;34m(\u001b[0m\u001b[0mself\u001b[0m\u001b[0;34m)\u001b[0m\u001b[0;34m:\u001b[0m\u001b[0;34m\u001b[0m\u001b[0;34m\u001b[0m\u001b[0m\n\u001b[0;32m---> 16\u001b[0;31m         \u001b[0mself\u001b[0m\u001b[0;34m.\u001b[0m\u001b[0m_on_read\u001b[0m\u001b[0;34m(\u001b[0m\u001b[0;34m)\u001b[0m\u001b[0;34m\u001b[0m\u001b[0;34m\u001b[0m\u001b[0m\n\u001b[0m\u001b[1;32m     17\u001b[0m         \u001b[0;32mreturn\u001b[0m \u001b[0mself\u001b[0m\u001b[0;34m.\u001b[0m\u001b[0m_file\u001b[0m\u001b[0;34m.\u001b[0m\u001b[0mreadline\u001b[0m\u001b[0;34m(\u001b[0m\u001b[0;34m)\u001b[0m\u001b[0;34m\u001b[0m\u001b[0;34m\u001b[0m\u001b[0m\n\u001b[1;32m     18\u001b[0m \u001b[0;34m\u001b[0m\u001b[0m\n",
      "\u001b[0;32m/tmp/ipykernel_303/562137119.py\u001b[0m in \u001b[0;36m_on_read\u001b[0;34m(self)\u001b[0m\n\u001b[1;32m      7\u001b[0m         \u001b[0mself\u001b[0m\u001b[0;34m.\u001b[0m\u001b[0m_read_cnt\u001b[0m \u001b[0;34m+=\u001b[0m \u001b[0;36m1\u001b[0m\u001b[0;34m\u001b[0m\u001b[0;34m\u001b[0m\u001b[0m\n\u001b[1;32m      8\u001b[0m         \u001b[0;32mif\u001b[0m \u001b[0mself\u001b[0m\u001b[0;34m.\u001b[0m\u001b[0m_read_cnt\u001b[0m \u001b[0;34m>=\u001b[0m \u001b[0;36m2\u001b[0m\u001b[0;34m:\u001b[0m\u001b[0;34m\u001b[0m\u001b[0;34m\u001b[0m\u001b[0m\n\u001b[0;32m----> 9\u001b[0;31m             \u001b[0;32mraise\u001b[0m \u001b[0mValueError\u001b[0m\u001b[0;34m(\u001b[0m\u001b[0;34m\"too much\"\u001b[0m\u001b[0;34m)\u001b[0m\u001b[0;34m\u001b[0m\u001b[0;34m\u001b[0m\u001b[0m\n\u001b[0m\u001b[1;32m     10\u001b[0m \u001b[0;34m\u001b[0m\u001b[0m\n\u001b[1;32m     11\u001b[0m     \u001b[0;32mdef\u001b[0m \u001b[0mread\u001b[0m\u001b[0;34m(\u001b[0m\u001b[0mself\u001b[0m\u001b[0;34m,\u001b[0m \u001b[0msize\u001b[0m\u001b[0;34m=\u001b[0m\u001b[0;34m-\u001b[0m\u001b[0;36m1\u001b[0m\u001b[0;34m,\u001b[0m \u001b[0;34m/\u001b[0m\u001b[0;34m)\u001b[0m\u001b[0;34m:\u001b[0m\u001b[0;34m\u001b[0m\u001b[0;34m\u001b[0m\u001b[0m\n",
      "\u001b[0;31mValueError\u001b[0m: too much"
     ]
    }
   ],
   "source": [
    "f = FileWrapper('./file.txt')\n",
    "for line in f:\n",
    "    print('hey, line is', line)"
   ]
  },
  {
   "cell_type": "code",
   "execution_count": 19,
   "id": "6d20e0ac",
   "metadata": {},
   "outputs": [
    {
     "data": {
      "text/plain": [
       "<_io.TextIOWrapper name='./file.txt' mode='rt' encoding='UTF-8'>"
      ]
     },
     "execution_count": 19,
     "metadata": {},
     "output_type": "execute_result"
    }
   ],
   "source": [
    "f._file"
   ]
  },
  {
   "cell_type": "code",
   "execution_count": null,
   "id": "358e2b52",
   "metadata": {},
   "outputs": [],
   "source": []
  },
  {
   "cell_type": "code",
   "execution_count": null,
   "id": "ccff4374",
   "metadata": {},
   "outputs": [],
   "source": [
    "f = open('./file.txt')"
   ]
  },
  {
   "cell_type": "markdown",
   "id": "7e38cd27",
   "metadata": {},
   "source": [
    "## Что делать? Обложиться try / except!"
   ]
  },
  {
   "cell_type": "code",
   "execution_count": 22,
   "id": "2cb51d54",
   "metadata": {},
   "outputs": [
    {
     "name": "stdout",
     "output_type": "stream",
     "text": [
      "value error\n",
      "finally\n"
     ]
    }
   ],
   "source": [
    "\n",
    "try:\n",
    "    raise ValueError('hello')\n",
    "except ValueError as e:\n",
    "    print('value error')\n",
    "except Exception as e:\n",
    "    print(e)\n",
    "finally:\n",
    "    print('finally')\n"
   ]
  },
  {
   "cell_type": "code",
   "execution_count": 26,
   "id": "d1ba186d",
   "metadata": {},
   "outputs": [
    {
     "ename": "ValueError",
     "evalue": "too much",
     "output_type": "error",
     "traceback": [
      "\u001b[0;31m---------------------------------------------------------------------------\u001b[0m",
      "\u001b[0;31mValueError\u001b[0m                                Traceback (most recent call last)",
      "\u001b[0;32m/tmp/ipykernel_303/3731688272.py\u001b[0m in \u001b[0;36m<module>\u001b[0;34m\u001b[0m\n\u001b[1;32m      1\u001b[0m \u001b[0mf\u001b[0m \u001b[0;34m=\u001b[0m \u001b[0mFileWrapper\u001b[0m\u001b[0;34m(\u001b[0m\u001b[0;34m'./file.txt'\u001b[0m\u001b[0;34m)\u001b[0m\u001b[0;34m\u001b[0m\u001b[0;34m\u001b[0m\u001b[0m\n\u001b[1;32m      2\u001b[0m \u001b[0;32mtry\u001b[0m\u001b[0;34m:\u001b[0m\u001b[0;34m\u001b[0m\u001b[0;34m\u001b[0m\u001b[0m\n\u001b[0;32m----> 3\u001b[0;31m     \u001b[0;32mfor\u001b[0m \u001b[0mline\u001b[0m \u001b[0;32min\u001b[0m \u001b[0mf\u001b[0m\u001b[0;34m:\u001b[0m\u001b[0;34m\u001b[0m\u001b[0;34m\u001b[0m\u001b[0m\n\u001b[0m\u001b[1;32m      4\u001b[0m         \u001b[0;32mpass\u001b[0m\u001b[0;34m\u001b[0m\u001b[0;34m\u001b[0m\u001b[0m\n\u001b[1;32m      5\u001b[0m \u001b[0;32mfinally\u001b[0m\u001b[0;34m:\u001b[0m\u001b[0;34m\u001b[0m\u001b[0;34m\u001b[0m\u001b[0m\n",
      "\u001b[0;32m/tmp/ipykernel_303/2947757151.py\u001b[0m in \u001b[0;36m__iter__\u001b[0;34m(self)\u001b[0m\n\u001b[1;32m     24\u001b[0m         \u001b[0;32mwhile\u001b[0m \u001b[0mline\u001b[0m\u001b[0;34m:\u001b[0m\u001b[0;34m\u001b[0m\u001b[0;34m\u001b[0m\u001b[0m\n\u001b[1;32m     25\u001b[0m             \u001b[0;32myield\u001b[0m \u001b[0mline\u001b[0m\u001b[0;34m\u001b[0m\u001b[0;34m\u001b[0m\u001b[0m\n\u001b[0;32m---> 26\u001b[0;31m             \u001b[0mline\u001b[0m \u001b[0;34m=\u001b[0m \u001b[0mself\u001b[0m\u001b[0;34m.\u001b[0m\u001b[0mreadline\u001b[0m\u001b[0;34m(\u001b[0m\u001b[0;34m)\u001b[0m\u001b[0;34m\u001b[0m\u001b[0;34m\u001b[0m\u001b[0m\n\u001b[0m",
      "\u001b[0;32m/tmp/ipykernel_303/2947757151.py\u001b[0m in \u001b[0;36mreadline\u001b[0;34m(self)\u001b[0m\n\u001b[1;32m     14\u001b[0m \u001b[0;34m\u001b[0m\u001b[0m\n\u001b[1;32m     15\u001b[0m     \u001b[0;32mdef\u001b[0m \u001b[0mreadline\u001b[0m\u001b[0;34m(\u001b[0m\u001b[0mself\u001b[0m\u001b[0;34m)\u001b[0m\u001b[0;34m:\u001b[0m\u001b[0;34m\u001b[0m\u001b[0;34m\u001b[0m\u001b[0m\n\u001b[0;32m---> 16\u001b[0;31m         \u001b[0mself\u001b[0m\u001b[0;34m.\u001b[0m\u001b[0m_on_read\u001b[0m\u001b[0;34m(\u001b[0m\u001b[0;34m)\u001b[0m\u001b[0;34m\u001b[0m\u001b[0;34m\u001b[0m\u001b[0m\n\u001b[0m\u001b[1;32m     17\u001b[0m         \u001b[0;32mreturn\u001b[0m \u001b[0mself\u001b[0m\u001b[0;34m.\u001b[0m\u001b[0m_file\u001b[0m\u001b[0;34m.\u001b[0m\u001b[0mreadline\u001b[0m\u001b[0;34m(\u001b[0m\u001b[0;34m)\u001b[0m\u001b[0;34m\u001b[0m\u001b[0;34m\u001b[0m\u001b[0m\n\u001b[1;32m     18\u001b[0m \u001b[0;34m\u001b[0m\u001b[0m\n",
      "\u001b[0;32m/tmp/ipykernel_303/2947757151.py\u001b[0m in \u001b[0;36m_on_read\u001b[0;34m(self)\u001b[0m\n\u001b[1;32m      7\u001b[0m         \u001b[0mself\u001b[0m\u001b[0;34m.\u001b[0m\u001b[0m_read_cnt\u001b[0m \u001b[0;34m+=\u001b[0m \u001b[0;36m1\u001b[0m\u001b[0;34m\u001b[0m\u001b[0;34m\u001b[0m\u001b[0m\n\u001b[1;32m      8\u001b[0m         \u001b[0;32mif\u001b[0m \u001b[0mself\u001b[0m\u001b[0;34m.\u001b[0m\u001b[0m_read_cnt\u001b[0m \u001b[0;34m>=\u001b[0m \u001b[0;36m2\u001b[0m\u001b[0;34m:\u001b[0m\u001b[0;34m\u001b[0m\u001b[0;34m\u001b[0m\u001b[0m\n\u001b[0;32m----> 9\u001b[0;31m             \u001b[0;32mraise\u001b[0m \u001b[0mValueError\u001b[0m\u001b[0;34m(\u001b[0m\u001b[0;34m\"too much\"\u001b[0m\u001b[0;34m)\u001b[0m\u001b[0;34m\u001b[0m\u001b[0;34m\u001b[0m\u001b[0m\n\u001b[0m\u001b[1;32m     10\u001b[0m \u001b[0;34m\u001b[0m\u001b[0m\n\u001b[1;32m     11\u001b[0m     \u001b[0;32mdef\u001b[0m \u001b[0mread\u001b[0m\u001b[0;34m(\u001b[0m\u001b[0mself\u001b[0m\u001b[0;34m,\u001b[0m \u001b[0msize\u001b[0m\u001b[0;34m=\u001b[0m\u001b[0;34m-\u001b[0m\u001b[0;36m1\u001b[0m\u001b[0;34m,\u001b[0m \u001b[0;34m/\u001b[0m\u001b[0;34m)\u001b[0m\u001b[0;34m:\u001b[0m\u001b[0;34m\u001b[0m\u001b[0;34m\u001b[0m\u001b[0m\n",
      "\u001b[0;31mValueError\u001b[0m: too much"
     ]
    }
   ],
   "source": [
    "f = FileWrapper('./file.txt')\n",
    "try:\n",
    "    for line in f:\n",
    "        pass\n",
    "finally:\n",
    "    f.close()\n",
    "    "
   ]
  },
  {
   "cell_type": "markdown",
   "id": "ae7cf3b4",
   "metadata": {},
   "source": [
    "# Хотим \"закрывать ресурсы\""
   ]
  },
  {
   "cell_type": "markdown",
   "id": "0e9669eb",
   "metadata": {},
   "source": [
    "## Как это делают в других языках?"
   ]
  },
  {
   "cell_type": "markdown",
   "id": "1e597bd9",
   "metadata": {},
   "source": [
    "### Golang: defer"
   ]
  },
  {
   "cell_type": "markdown",
   "id": "52a4066d",
   "metadata": {},
   "source": [
    "```go\n",
    "package main\n",
    "\n",
    "import \"fmt\"\n",
    "\n",
    "func main() {\n",
    "    defer fmt.Println(\"world\")\n",
    "    fmt.Println(\"hello\")\n",
    "}\n",
    "```\n"
   ]
  },
  {
   "cell_type": "markdown",
   "id": "36e3ca32",
   "metadata": {},
   "source": [
    "### C++: RAII (Resource Acquisition Is Initialization, [link](https://en.cppreference.com/w/cpp/language/raii)"
   ]
  },
  {
   "cell_type": "markdown",
   "id": "416366db",
   "metadata": {},
   "source": [
    "```c++\n",
    "class RAIIResource {\n",
    "    TResource* _p_resource;\n",
    "\n",
    "    RAIIResource(...) {\n",
    "        _p_resource = new TResource(...blablabla...);\n",
    "    }\n",
    "\n",
    "    ~RAIIResource() {\n",
    "        delete _p_resource;\n",
    "    }\n",
    "};\n",
    "\n",
    "void usage()\n",
    "{\n",
    "    RAIIResource resource(...blabla...);\n",
    "    throw std::runtime_error(\"ahhahah\");\n",
    "    // On stack unwinding, resource object is deallocated -> destructor called -> resource freed\n",
    "}\n",
    "\n",
    "//\n",
    "// another example (cppreference.com)\n",
    "//\n",
    "\n",
    "std::mutex m;\n",
    " \n",
    "void bad() \n",
    "{\n",
    "    m.lock();                    // acquire the mutex\n",
    "    f();                         // if f() throws an exception, the mutex is never released\n",
    "    if(!everything_ok()) return; // early return, the mutex is never released\n",
    "    m.unlock();                  // if bad() reaches this statement, the mutex is released\n",
    "}\n",
    " \n",
    "void good()\n",
    "{\n",
    "    std::lock_guard<std::mutex> lk(m); // RAII class: mutex acquisition is initialization\n",
    "    f();                               // if f() throws an exception, the mutex is released\n",
    "    if(!everything_ok()) return;       // early return, the mutex is released\n",
    "}                                      //                            // if good() returns normally, the mutex is released\n",
    "\n",
    "```"
   ]
  },
  {
   "cell_type": "markdown",
   "id": "5f89ad16",
   "metadata": {},
   "source": [
    "### Java: [try-with-resources](https://docs.oracle.com/javase/tutorial/essential/exceptions/tryResourceClose.html)\n",
    "\n",
    "```java\n",
    "static String readFirstLineFromFile(String path) throws IOException {\n",
    "    try (BufferedReader br =\n",
    "                   new BufferedReader(new FileReader(path))) {\n",
    "        return br.readLine();\n",
    "    }\n",
    "}\n",
    "```"
   ]
  },
  {
   "cell_type": "markdown",
   "id": "cfd84f03",
   "metadata": {},
   "source": [
    "# Чем плохо try-except?"
   ]
  },
  {
   "cell_type": "code",
   "execution_count": null,
   "id": "9f9405ad",
   "metadata": {},
   "outputs": [],
   "source": [
    "def some_generator():\n",
    "    resource = SomeResource()\n",
    "    try:\n",
    "        yield from source1\n",
    "        \n",
    "        resource2 = SomeResource2():\n",
    "        try:\n",
    "            yield from list('abcdef')\n",
    "        finally:\n",
    "            resource2.close()\n",
    "    \n",
    "    finally:\n",
    "        resource.close()"
   ]
  },
  {
   "cell_type": "markdown",
   "id": "fb20a4b8",
   "metadata": {},
   "source": [
    "- Ресурсом владеет SomeResource, но закрывает его пользователь!\n",
    "- \"Лапша из кода\", помноженное на \"часто надо\""
   ]
  },
  {
   "cell_type": "code",
   "execution_count": null,
   "id": "3b2cc9fb",
   "metadata": {},
   "outputs": [],
   "source": [
    "def some_generator():\n",
    "    with SomeResource() as resource:\n",
    "        yield from source1\n",
    "        \n",
    "        with SomeResource2() as resource2:\n",
    "            yield from list('abcdef')"
   ]
  },
  {
   "cell_type": "code",
   "execution_count": null,
   "id": "77454d4a",
   "metadata": {},
   "outputs": [],
   "source": [
    "with obj as value:\n",
    "    code body\n",
    "\n",
    "\n",
    "value = obj.__enter__()\n",
    "\n",
    "code body\n",
    "\n",
    "value.__exit__()\n"
   ]
  },
  {
   "cell_type": "markdown",
   "id": "0472f7ff",
   "metadata": {},
   "source": [
    "# Scoping Warn"
   ]
  },
  {
   "cell_type": "code",
   "execution_count": 27,
   "id": "346c7616",
   "metadata": {
    "scrolled": true
   },
   "outputs": [
    {
     "ename": "NameError",
     "evalue": "name 'a' is not defined",
     "output_type": "error",
     "traceback": [
      "\u001b[0;31m---------------------------------------------------------------------------\u001b[0m",
      "\u001b[0;31mNameError\u001b[0m                                 Traceback (most recent call last)",
      "\u001b[0;32m/tmp/ipykernel_303/1027441144.py\u001b[0m in \u001b[0;36m<module>\u001b[0;34m\u001b[0m\n\u001b[1;32m      2\u001b[0m     \u001b[0ma\u001b[0m \u001b[0;34m=\u001b[0m \u001b[0;36m5\u001b[0m\u001b[0;34m\u001b[0m\u001b[0;34m\u001b[0m\u001b[0m\n\u001b[1;32m      3\u001b[0m \u001b[0;34m\u001b[0m\u001b[0m\n\u001b[0;32m----> 4\u001b[0;31m \u001b[0mprint\u001b[0m\u001b[0;34m(\u001b[0m\u001b[0ma\u001b[0m\u001b[0;34m)\u001b[0m \u001b[0;31m# NameError: name 'a' is not defined\u001b[0m\u001b[0;34m\u001b[0m\u001b[0;34m\u001b[0m\u001b[0m\n\u001b[0m",
      "\u001b[0;31mNameError\u001b[0m: name 'a' is not defined"
     ]
    }
   ],
   "source": [
    "def foo():\n",
    "    a = 5\n",
    "\n",
    "print(a) # NameError: name 'a' is not defined"
   ]
  },
  {
   "cell_type": "code",
   "execution_count": 28,
   "id": "6c7842a3",
   "metadata": {},
   "outputs": [
    {
     "ename": "NameError",
     "evalue": "name 'some_context_manager' is not defined",
     "output_type": "error",
     "traceback": [
      "\u001b[0;31m---------------------------------------------------------------------------\u001b[0m",
      "\u001b[0;31mNameError\u001b[0m                                 Traceback (most recent call last)",
      "\u001b[0;32m/tmp/ipykernel_303/4108789999.py\u001b[0m in \u001b[0;36m<module>\u001b[0;34m\u001b[0m\n\u001b[0;32m----> 1\u001b[0;31m \u001b[0;32mwith\u001b[0m \u001b[0msome_context_manager\u001b[0m \u001b[0;32mas\u001b[0m \u001b[0mvalue\u001b[0m\u001b[0;34m:\u001b[0m\u001b[0;34m\u001b[0m\u001b[0;34m\u001b[0m\u001b[0m\n\u001b[0m\u001b[1;32m      2\u001b[0m     \u001b[0ma\u001b[0m \u001b[0;34m=\u001b[0m \u001b[0;36m5\u001b[0m\u001b[0;34m\u001b[0m\u001b[0;34m\u001b[0m\u001b[0m\n\u001b[1;32m      3\u001b[0m \u001b[0;34m\u001b[0m\u001b[0m\n\u001b[1;32m      4\u001b[0m \u001b[0mprint\u001b[0m\u001b[0;34m(\u001b[0m\u001b[0ma\u001b[0m\u001b[0;34m)\u001b[0m  \u001b[0;31m# works\u001b[0m\u001b[0;34m\u001b[0m\u001b[0;34m\u001b[0m\u001b[0m\n",
      "\u001b[0;31mNameError\u001b[0m: name 'some_context_manager' is not defined"
     ]
    }
   ],
   "source": [
    "with some_context_manager as value:\n",
    "    a = 5\n",
    "\n",
    "print(a)  # works"
   ]
  },
  {
   "cell_type": "markdown",
   "id": "8aa0043e",
   "metadata": {},
   "source": [
    "# Context Managers"
   ]
  },
  {
   "cell_type": "code",
   "execution_count": 39,
   "id": "0ff64adb",
   "metadata": {},
   "outputs": [],
   "source": [
    "class MyContextManager:\n",
    "    def __enter__(self):\n",
    "        print('__enter__')\n",
    "        return 'privet'\n",
    "    def __exit__(self, exc_type, exc_value, traceback):\n",
    "        print('__exit__')\n",
    "        print(locals())\n",
    "        return True"
   ]
  },
  {
   "cell_type": "code",
   "execution_count": 40,
   "id": "eb3d364a",
   "metadata": {},
   "outputs": [],
   "source": [
    "#bool(cm.__exit__(...))"
   ]
  },
  {
   "cell_type": "code",
   "execution_count": 41,
   "id": "07ec35ad",
   "metadata": {},
   "outputs": [
    {
     "name": "stdout",
     "output_type": "stream",
     "text": [
      "__enter__\n",
      "code body, value is  privet\n",
      "__exit__\n",
      "{'self': <__main__.MyContextManager object at 0x7fbd11803130>, 'exc_type': <class 'ValueError'>, 'exc_value': ValueError('some exception'), 'traceback': <traceback object at 0x7fbd119ea200>}\n"
     ]
    }
   ],
   "source": [
    "with MyContextManager() as value:\n",
    "    print('code body, value is ', value)\n",
    "    raise ValueError('some exception')\n",
    "    print('never should be here')"
   ]
  },
  {
   "cell_type": "markdown",
   "id": "0bd3a945",
   "metadata": {},
   "source": [
    "# Типичные сценарии использования"
   ]
  },
  {
   "cell_type": "markdown",
   "id": "20961db7",
   "metadata": {},
   "source": [
    "## файлы"
   ]
  },
  {
   "cell_type": "code",
   "execution_count": null,
   "id": "cc39ef7d",
   "metadata": {},
   "outputs": [],
   "source": [
    "data = open('./file.txt').read()   # WRONG\n",
    "\n",
    "with open('./file.txt') as f:    # APPROVED\n",
    "    data = f.read()"
   ]
  },
  {
   "cell_type": "markdown",
   "id": "c2f6cbe6",
   "metadata": {},
   "source": [
    "## инструментирование"
   ]
  },
  {
   "cell_type": "code",
   "execution_count": null,
   "id": "686f0c2c",
   "metadata": {},
   "outputs": [],
   "source": [
    "with metric.SUBROUTINE_LATENCY_HISTOGRAM.measure():\n",
    "    # do some long stuff\n",
    "\n",
    "# metric.SUBROUTINE_LATENCY updated"
   ]
  },
  {
   "cell_type": "markdown",
   "id": "785a6b6f",
   "metadata": {},
   "source": [
    "## любые операции, которые 100% должны быть \"отменены\""
   ]
  },
  {
   "cell_type": "code",
   "execution_count": null,
   "id": "fd9f2a59",
   "metadata": {},
   "outputs": [],
   "source": [
    "with redirect_stdout_to(open('./file.txt')):\n",
    "    print('ahhhaha')  # no stdout, but print into './file.txt'"
   ]
  },
  {
   "cell_type": "markdown",
   "id": "45f0d7df",
   "metadata": {},
   "source": [
    "# Множественные ресурсы"
   ]
  },
  {
   "cell_type": "code",
   "execution_count": null,
   "id": "64244cb6",
   "metadata": {},
   "outputs": [],
   "source": [
    "with cm1[ as value1], cm2[ as value2], cm3[ as value3]:\n",
    "    pass  # do stuff"
   ]
  },
  {
   "cell_type": "markdown",
   "id": "138a6f70",
   "metadata": {},
   "source": [
    "## Что делать, если ресурсов слишком много или они опциональные?"
   ]
  },
  {
   "cell_type": "markdown",
   "id": "3f482556",
   "metadata": {},
   "source": [
    "Обсудим на семинаре!"
   ]
  },
  {
   "cell_type": "markdown",
   "id": "94235562",
   "metadata": {},
   "source": [
    "# Typing"
   ]
  },
  {
   "cell_type": "code",
   "execution_count": 48,
   "id": "3ec702fa",
   "metadata": {},
   "outputs": [
    {
     "ename": "NameError",
     "evalue": "name 'cm' is not defined",
     "output_type": "error",
     "traceback": [
      "\u001b[0;31m---------------------------------------------------------------------------\u001b[0m",
      "\u001b[0;31mNameError\u001b[0m                                 Traceback (most recent call last)",
      "\u001b[0;32m/tmp/ipykernel_303/2667633327.py\u001b[0m in \u001b[0;36m<module>\u001b[0;34m\u001b[0m\n\u001b[1;32m     11\u001b[0m \u001b[0;34m\u001b[0m\u001b[0m\n\u001b[1;32m     12\u001b[0m \u001b[0mcm\u001b[0m\u001b[0;34m:\u001b[0m \u001b[0mContextManager\u001b[0m\u001b[0;34m[\u001b[0m\u001b[0mstr\u001b[0m\u001b[0;34m]\u001b[0m\u001b[0;34m\u001b[0m\u001b[0;34m\u001b[0m\u001b[0m\n\u001b[0;32m---> 13\u001b[0;31m \u001b[0;32mwith\u001b[0m \u001b[0mcm\u001b[0m \u001b[0;32mas\u001b[0m \u001b[0mvalue\u001b[0m\u001b[0;34m:\u001b[0m\u001b[0;34m\u001b[0m\u001b[0;34m\u001b[0m\u001b[0m\n\u001b[0m\u001b[1;32m     14\u001b[0m     \u001b[0;31m# value: str\u001b[0m\u001b[0;34m\u001b[0m\u001b[0;34m\u001b[0m\u001b[0;34m\u001b[0m\u001b[0m\n\u001b[1;32m     15\u001b[0m     \u001b[0;32mpass\u001b[0m\u001b[0;34m\u001b[0m\u001b[0;34m\u001b[0m\u001b[0m\n",
      "\u001b[0;31mNameError\u001b[0m: name 'cm' is not defined"
     ]
    }
   ],
   "source": [
    "from typing import ContextManager, Iterator\n",
    "from contextlib import AbstractContextManager  # посмотреть код на семинаре!\n",
    "\n",
    "class MyCM(ContextManager[str]):\n",
    "    def __enter__(self) -> str:\n",
    "        return 'ahhahah'\n",
    "\n",
    "    def __exit__(self, *exc_args) -> None:\n",
    "        pass\n",
    "        \n",
    "    \n",
    "cm: ContextManager[str]\n",
    "with cm as value:\n",
    "    # value: str\n",
    "    pass"
   ]
  },
  {
   "cell_type": "code",
   "execution_count": null,
   "id": "5dacfa14",
   "metadata": {},
   "outputs": [],
   "source": [
    "isinstance(MyCM(), ContextManager)"
   ]
  },
  {
   "cell_type": "code",
   "execution_count": 47,
   "id": "fa4724f1",
   "metadata": {},
   "outputs": [
    {
     "data": {
      "text/plain": [
       "False"
      ]
     },
     "execution_count": 47,
     "metadata": {},
     "output_type": "execute_result"
    }
   ],
   "source": [
    "isinstance(MyCM(), AbstractContextManager)"
   ]
  },
  {
   "cell_type": "code",
   "execution_count": null,
   "id": "180aac11",
   "metadata": {},
   "outputs": [],
   "source": []
  },
  {
   "cell_type": "markdown",
   "id": "0e9afb41",
   "metadata": {},
   "source": [
    "# Быстрый способ сделать контекстный менеджер"
   ]
  },
  {
   "cell_type": "code",
   "execution_count": 59,
   "id": "6a61ccc2",
   "metadata": {},
   "outputs": [
    {
     "name": "stdout",
     "output_type": "stream",
     "text": [
      "setup\n",
      "code body, value is hello\n",
      "teardown\n"
     ]
    }
   ],
   "source": [
    "from contextlib import contextmanager\n",
    "\n",
    "@contextmanager\n",
    "def generator():\n",
    "    print('setup')\n",
    "    try:\n",
    "        yield 'hello'\n",
    "    finally:\n",
    "        print('teardown')\n",
    "        \n",
    "        \n",
    "## Что делать, если я хочу умулировать __exit__ : return True ??\n",
    "\n",
    "@contextmanager\n",
    "def generator():\n",
    "    print('setup')\n",
    "    try:\n",
    "        yield 'hello'\n",
    "    except Exception as e:\n",
    "        pass\n",
    "    finally:\n",
    "        print('teardown')\n",
    "\n",
    "with generator() as value:\n",
    "    print('code body, value is', value)\n",
    "    raise ValueError('some exception')"
   ]
  },
  {
   "cell_type": "code",
   "execution_count": null,
   "id": "1c24174e",
   "metadata": {},
   "outputs": [],
   "source": [
    "# @deco\n",
    "# def foo():\n",
    "#     ...\n",
    "\n",
    "# # equal to\n",
    "\n",
    "# def foo():\n",
    "#     ...\n",
    "\n",
    "# foo = deco(foo)"
   ]
  },
  {
   "cell_type": "markdown",
   "id": "e25a3b06",
   "metadata": {},
   "source": [
    "# Задачи на семинар"
   ]
  },
  {
   "cell_type": "code",
   "execution_count": null,
   "id": "99940b96",
   "metadata": {},
   "outputs": [],
   "source": [
    "def example():\n",
    "    # обоими способами\n",
    "    timeit"
   ]
  },
  {
   "cell_type": "code",
   "execution_count": null,
   "id": "88f3bcfc",
   "metadata": {},
   "outputs": [],
   "source": [
    "# обоими способами\n",
    "\n",
    "def example():\n",
    "    some_dict = dict(a=1, b=2)\n",
    "    \n",
    "    with popped_key(some_dict, 'a'):\n",
    "        print(some_dict)  # dict(b=2)\n",
    "    \n",
    "    with popped_key(some_dict, 'b'):\n",
    "        print(some_dict)  # dict(a=1)"
   ]
  },
  {
   "cell_type": "code",
   "execution_count": 1,
   "id": "babd455b",
   "metadata": {},
   "outputs": [],
   "source": [
    "import sys"
   ]
  },
  {
   "cell_type": "code",
   "execution_count": null,
   "id": "07c820d5",
   "metadata": {},
   "outputs": [],
   "source": [
    "sys.__st"
   ]
  }
 ],
 "metadata": {
  "kernelspec": {
   "display_name": "Python 3 (ipykernel)",
   "language": "python",
   "name": "python3"
  },
  "language_info": {
   "codemirror_mode": {
    "name": "ipython",
    "version": 3
   },
   "file_extension": ".py",
   "mimetype": "text/x-python",
   "name": "python",
   "nbconvert_exporter": "python",
   "pygments_lexer": "ipython3",
   "version": "3.9.5"
  },
  "toc": {
   "base_numbering": 1,
   "nav_menu": {},
   "number_sections": true,
   "sideBar": true,
   "skip_h1_title": false,
   "title_cell": "Table of Contents",
   "title_sidebar": "Contents",
   "toc_cell": false,
   "toc_position": {
    "height": "calc(100% - 180px)",
    "left": "10px",
    "top": "150px",
    "width": "470.8px"
   },
   "toc_section_display": true,
   "toc_window_display": true
  }
 },
 "nbformat": 4,
 "nbformat_minor": 5
}
