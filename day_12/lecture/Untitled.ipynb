{
 "cells": [
  {
   "cell_type": "code",
   "execution_count": null,
   "id": "ee443c37",
   "metadata": {},
   "outputs": [],
   "source": [
    "property()"
   ]
  },
  {
   "cell_type": "code",
   "execution_count": 56,
   "id": "704a0fa3",
   "metadata": {},
   "outputs": [],
   "source": [
    "class Class:\n",
    "    @property\n",
    "    def x(self):\n",
    "        return 'getter!'\n",
    "    \n",
    "    @x.setter\n",
    "    def x(self, value):\n",
    "        print('setter!', value)\n",
    "    \n",
    "    @x.deleter\n",
    "    def x(self):\n",
    "        print('deleter')"
   ]
  },
  {
   "cell_type": "code",
   "execution_count": null,
   "id": "249f41f5",
   "metadata": {},
   "outputs": [],
   "source": [
    "property()"
   ]
  },
  {
   "cell_type": "code",
   "execution_count": 57,
   "id": "5d57653f",
   "metadata": {},
   "outputs": [
    {
     "data": {
      "text/plain": [
       "'getter!'"
      ]
     },
     "execution_count": 57,
     "metadata": {},
     "output_type": "execute_result"
    }
   ],
   "source": [
    "obj = Class()\n",
    "obj.x"
   ]
  },
  {
   "cell_type": "code",
   "execution_count": null,
   "id": "d60917a5",
   "metadata": {},
   "outputs": [],
   "source": []
  },
  {
   "cell_type": "code",
   "execution_count": 58,
   "id": "40fa60a4",
   "metadata": {},
   "outputs": [
    {
     "name": "stdout",
     "output_type": "stream",
     "text": [
      "setter! 10\n"
     ]
    }
   ],
   "source": [
    "obj.x = 10"
   ]
  },
  {
   "cell_type": "code",
   "execution_count": 59,
   "id": "facd76c7",
   "metadata": {},
   "outputs": [
    {
     "name": "stdout",
     "output_type": "stream",
     "text": [
      "deleter\n"
     ]
    }
   ],
   "source": [
    "del obj.x"
   ]
  },
  {
   "cell_type": "code",
   "execution_count": null,
   "id": "b35d323c",
   "metadata": {},
   "outputs": [],
   "source": []
  },
  {
   "cell_type": "code",
   "execution_count": null,
   "id": "0204dc13",
   "metadata": {},
   "outputs": [],
   "source": []
  },
  {
   "cell_type": "code",
   "execution_count": null,
   "id": "66457351",
   "metadata": {},
   "outputs": [],
   "source": []
  },
  {
   "cell_type": "code",
   "execution_count": null,
   "id": "b9f36853",
   "metadata": {},
   "outputs": [],
   "source": []
  },
  {
   "cell_type": "code",
   "execution_count": null,
   "id": "bb242bbc",
   "metadata": {},
   "outputs": [],
   "source": []
  },
  {
   "cell_type": "code",
   "execution_count": null,
   "id": "1333a54b",
   "metadata": {},
   "outputs": [],
   "source": []
  },
  {
   "cell_type": "code",
   "execution_count": null,
   "id": "8310e103",
   "metadata": {},
   "outputs": [],
   "source": []
  },
  {
   "cell_type": "code",
   "execution_count": null,
   "id": "dc43af41",
   "metadata": {},
   "outputs": [],
   "source": []
  },
  {
   "cell_type": "code",
   "execution_count": null,
   "id": "e0cd2be5",
   "metadata": {},
   "outputs": [],
   "source": []
  },
  {
   "cell_type": "code",
   "execution_count": null,
   "id": "49450b46",
   "metadata": {},
   "outputs": [],
   "source": []
  },
  {
   "cell_type": "code",
   "execution_count": null,
   "id": "cc066d78",
   "metadata": {},
   "outputs": [],
   "source": []
  },
  {
   "cell_type": "code",
   "execution_count": null,
   "id": "c1344cc8",
   "metadata": {},
   "outputs": [],
   "source": []
  },
  {
   "cell_type": "code",
   "execution_count": null,
   "id": "0dcf9c40",
   "metadata": {},
   "outputs": [],
   "source": []
  },
  {
   "cell_type": "code",
   "execution_count": null,
   "id": "7eefad2f",
   "metadata": {},
   "outputs": [],
   "source": []
  },
  {
   "cell_type": "code",
   "execution_count": null,
   "id": "f37bb664",
   "metadata": {},
   "outputs": [],
   "source": []
  },
  {
   "cell_type": "code",
   "execution_count": null,
   "id": "07592ea5",
   "metadata": {},
   "outputs": [],
   "source": []
  },
  {
   "cell_type": "code",
   "execution_count": null,
   "id": "74fdd83c",
   "metadata": {},
   "outputs": [],
   "source": []
  },
  {
   "cell_type": "code",
   "execution_count": null,
   "id": "a99b9713",
   "metadata": {},
   "outputs": [],
   "source": []
  },
  {
   "cell_type": "markdown",
   "id": "9776b236",
   "metadata": {},
   "source": [
    "# Descriptors\n",
    "\n",
    "https://docs.python.org/3/reference/datamodel.html#implementing-descriptors"
   ]
  },
  {
   "cell_type": "code",
   "execution_count": 5,
   "id": "a01726ea",
   "metadata": {},
   "outputs": [],
   "source": [
    "class ExplainDescriptors:\n",
    "    def __init__(self):\n",
    "        print('__init__')\n",
    "\n",
    "    def __set_name__(self, owner, name):\n",
    "        print(f'__set_name__(owner={owner}, name={name})')\n",
    "        self.name = name\n",
    "\n",
    "    def __get__(self, instance, owner=None):\n",
    "        print(f'__get__(instance={instance}, owner={owner})')\n",
    "        #return instance.__dict__.get(self.name)\n",
    "\n",
    "    def __set__(self, instance, value):\n",
    "        print(f'__set__(instance={instance}, value={value})')\n",
    "        #instance.__dict__[self.name] = value\n",
    "\n",
    "    def __delete__(self, instance):\n",
    "        print(f'__delete__(instance={instance})')\n",
    "        #del instance.__dict__[self.name]"
   ]
  },
  {
   "cell_type": "code",
   "execution_count": 21,
   "id": "4111cc6c",
   "metadata": {},
   "outputs": [
    {
     "name": "stdout",
     "output_type": "stream",
     "text": [
      "__init__\n",
      "__set_name__(owner=<class '__main__.Foo'>, name=x)\n"
     ]
    }
   ],
   "source": [
    "class Foo:\n",
    "    y = 20\n",
    "    x = ExplainDescriptors()"
   ]
  },
  {
   "cell_type": "code",
   "execution_count": 22,
   "id": "cad75aed",
   "metadata": {},
   "outputs": [],
   "source": [
    "f = Foo()"
   ]
  },
  {
   "cell_type": "code",
   "execution_count": 13,
   "id": "01c69cce",
   "metadata": {},
   "outputs": [
    {
     "data": {
      "text/plain": [
       "{}"
      ]
     },
     "execution_count": 13,
     "metadata": {},
     "output_type": "execute_result"
    }
   ],
   "source": [
    "f.__dict__"
   ]
  },
  {
   "cell_type": "code",
   "execution_count": 14,
   "id": "fa89784d",
   "metadata": {},
   "outputs": [
    {
     "data": {
      "text/plain": [
       "mappingproxy({'__module__': '__main__',\n",
       "              'x': 1,\n",
       "              '__dict__': <attribute '__dict__' of 'Foo' objects>,\n",
       "              '__weakref__': <attribute '__weakref__' of 'Foo' objects>,\n",
       "              '__doc__': None})"
      ]
     },
     "execution_count": 14,
     "metadata": {},
     "output_type": "execute_result"
    }
   ],
   "source": [
    "Foo.__dict__"
   ]
  },
  {
   "cell_type": "code",
   "execution_count": 18,
   "id": "64b7d78a",
   "metadata": {},
   "outputs": [
    {
     "name": "stdout",
     "output_type": "stream",
     "text": [
      "__get__(instance=<__main__.Foo object at 0x7f1b94141e50>, owner=<class '__main__.Foo'>)\n"
     ]
    }
   ],
   "source": [
    "f.x # <=> getattr(f, 'x')"
   ]
  },
  {
   "cell_type": "code",
   "execution_count": 24,
   "id": "e1a9fe10",
   "metadata": {},
   "outputs": [
    {
     "name": "stdout",
     "output_type": "stream",
     "text": [
      "{}\n",
      "{'__module__': '__main__', 'y': 20, 'x': <__main__.ExplainDescriptors object at 0x7f1b94ad0cd0>, '__dict__': <attribute '__dict__' of 'Foo' objects>, '__weakref__': <attribute '__weakref__' of 'Foo' objects>, '__doc__': None}\n"
     ]
    }
   ],
   "source": [
    "print(f.__dict__)\n",
    "print(f.__class__.__dict__)"
   ]
  },
  {
   "cell_type": "code",
   "execution_count": 25,
   "id": "559e2b22",
   "metadata": {},
   "outputs": [],
   "source": [
    "f.y = 10 # <=> setattr(f, 'y', 10)"
   ]
  },
  {
   "cell_type": "code",
   "execution_count": 26,
   "id": "b758c855",
   "metadata": {},
   "outputs": [
    {
     "data": {
      "text/plain": [
       "{'y': 10}"
      ]
     },
     "execution_count": 26,
     "metadata": {},
     "output_type": "execute_result"
    }
   ],
   "source": [
    "f.__dict__"
   ]
  },
  {
   "cell_type": "code",
   "execution_count": 27,
   "id": "fea12df4",
   "metadata": {},
   "outputs": [
    {
     "name": "stdout",
     "output_type": "stream",
     "text": [
      "__set__(instance=<__main__.Foo object at 0x7f1b94ad0580>, value=100)\n"
     ]
    }
   ],
   "source": [
    "f.x = 100"
   ]
  },
  {
   "cell_type": "code",
   "execution_count": 28,
   "id": "0b417dd4",
   "metadata": {},
   "outputs": [
    {
     "name": "stdout",
     "output_type": "stream",
     "text": [
      "__delete__(instance=<__main__.Foo object at 0x7f1b94ad0580>)\n"
     ]
    }
   ],
   "source": [
    "del f.x"
   ]
  },
  {
   "cell_type": "code",
   "execution_count": 10,
   "id": "48924684",
   "metadata": {},
   "outputs": [
    {
     "name": "stdout",
     "output_type": "stream",
     "text": [
      "__set__(instance=<__main__.Foo object at 0x7f26057a4490>, value=10)\n"
     ]
    }
   ],
   "source": [
    "f = Foo()\n",
    "f.x = 10"
   ]
  },
  {
   "cell_type": "code",
   "execution_count": 11,
   "id": "3093b608",
   "metadata": {},
   "outputs": [
    {
     "name": "stdout",
     "output_type": "stream",
     "text": [
      "__get__(instance=<__main__.Foo object at 0x7f26057a4490>, owner=<class '__main__.Foo'>)\n"
     ]
    },
    {
     "data": {
      "text/plain": [
       "10"
      ]
     },
     "execution_count": 11,
     "metadata": {},
     "output_type": "execute_result"
    }
   ],
   "source": [
    "f.x"
   ]
  },
  {
   "cell_type": "code",
   "execution_count": 12,
   "id": "aa70ff9f",
   "metadata": {},
   "outputs": [
    {
     "data": {
      "text/plain": [
       "{'x': 10}"
      ]
     },
     "execution_count": 12,
     "metadata": {},
     "output_type": "execute_result"
    }
   ],
   "source": [
    "f.__dict__"
   ]
  },
  {
   "cell_type": "code",
   "execution_count": null,
   "id": "25601962",
   "metadata": {},
   "outputs": [],
   "source": [
    "class Foo"
   ]
  },
  {
   "cell_type": "code",
   "execution_count": null,
   "id": "eea8dea9",
   "metadata": {},
   "outputs": [],
   "source": []
  },
  {
   "cell_type": "code",
   "execution_count": null,
   "id": "0e14bba1",
   "metadata": {},
   "outputs": [],
   "source": []
  },
  {
   "cell_type": "code",
   "execution_count": null,
   "id": "9b05ab30",
   "metadata": {},
   "outputs": [],
   "source": []
  },
  {
   "cell_type": "code",
   "execution_count": 30,
   "id": "fafb4ba1",
   "metadata": {},
   "outputs": [],
   "source": [
    "class Foo:\n",
    "    def __setattr__(self, name, value):\n",
    "        if name == 'x':\n",
    "            handle_x()\n",
    "        elif name == ''"
   ]
  },
  {
   "cell_type": "code",
   "execution_count": 31,
   "id": "20821834",
   "metadata": {},
   "outputs": [
    {
     "name": "stdout",
     "output_type": "stream",
     "text": [
      "attr 230234\n"
     ]
    }
   ],
   "source": [
    "Foo().attr = 230234"
   ]
  },
  {
   "cell_type": "code",
   "execution_count": null,
   "id": "b944efb7",
   "metadata": {},
   "outputs": [],
   "source": []
  },
  {
   "cell_type": "code",
   "execution_count": null,
   "id": "ed604dbc",
   "metadata": {},
   "outputs": [],
   "source": []
  },
  {
   "cell_type": "code",
   "execution_count": null,
   "id": "1a90dedf",
   "metadata": {},
   "outputs": [],
   "source": []
  },
  {
   "cell_type": "markdown",
   "id": "d01e6f53",
   "metadata": {},
   "source": [
    "# пишем свой property"
   ]
  },
  {
   "cell_type": "code",
   "execution_count": 70,
   "id": "cbfc0c63",
   "metadata": {},
   "outputs": [
    {
     "data": {
      "text/plain": [
       "'getter!'"
      ]
     },
     "execution_count": 70,
     "metadata": {},
     "output_type": "execute_result"
    }
   ],
   "source": [
    "# Init signature: property(fget=None, fset=None, fdel=None)\n",
    "\n",
    "\n",
    "class myproperty:\n",
    "    def __init__(self, fget=None, fset=None, fdel=None):\n",
    "        self._fget = fget\n",
    "        self._fset = fset\n",
    "        self._fdel = fdel\n",
    "      \n",
    "    def __get__(self, instance, owner):\n",
    "        return self._fget(instance)\n",
    "    \n",
    "    def __set__(self, instance, value):\n",
    "        self._fset(instance, value)\n",
    "    \n",
    "    def __delete__(self, instance):\n",
    "        self._fdel(instance)\n",
    "    \n",
    "    def setter(self, fset):\n",
    "        return myproperty(fget=self._fget, fset=fset, fdel=self._fdel)\n",
    "    \n",
    "    def deleter(self, fdel):\n",
    "        return myproperty(fget=self._fget, fset=self._fset, fdel=fdel)\n",
    "\n",
    "\n",
    "\n",
    "class Foo:\n",
    "    def __init__(self):\n",
    "        self._y = 100500\n",
    "  \n",
    "    @property\n",
    "    def x(self):\n",
    "        return 'getter!'\n",
    "\n",
    "    @myproperty\n",
    "    def y(self):\n",
    "        return 'y getter called', self._y\n",
    "    \n",
    "    @y.setter\n",
    "    def y(self, value):\n",
    "        print('y setter called, value = ', value)\n",
    "    \n",
    "    @y.deleter\n",
    "    def y(self):\n",
    "        print('y deleter called')\n",
    "\n",
    "    \n",
    "\n",
    "obj = Foo()\n",
    "obj.x\n",
    "\n"
   ]
  },
  {
   "cell_type": "code",
   "execution_count": 71,
   "id": "db7dea3e",
   "metadata": {},
   "outputs": [
    {
     "name": "stdout",
     "output_type": "stream",
     "text": [
      "y setter called, value =  100500\n"
     ]
    }
   ],
   "source": [
    "obj.y = 100500"
   ]
  },
  {
   "cell_type": "code",
   "execution_count": 72,
   "id": "4532e72c",
   "metadata": {},
   "outputs": [
    {
     "name": "stdout",
     "output_type": "stream",
     "text": [
      "y deleter called\n"
     ]
    }
   ],
   "source": [
    "del obj.y"
   ]
  },
  {
   "cell_type": "code",
   "execution_count": 26,
   "id": "999d03d9",
   "metadata": {},
   "outputs": [
    {
     "name": "stdout",
     "output_type": "stream",
     "text": [
      "getter\n"
     ]
    }
   ],
   "source": [
    "Foo().x"
   ]
  },
  {
   "cell_type": "code",
   "execution_count": 27,
   "id": "29204979",
   "metadata": {},
   "outputs": [
    {
     "name": "stdout",
     "output_type": "stream",
     "text": [
      "setter 10\n"
     ]
    }
   ],
   "source": [
    "Foo().x = 10"
   ]
  },
  {
   "cell_type": "code",
   "execution_count": null,
   "id": "e163cb73",
   "metadata": {},
   "outputs": [],
   "source": [
    "property()"
   ]
  },
  {
   "cell_type": "code",
   "execution_count": null,
   "id": "cfe20100",
   "metadata": {},
   "outputs": [],
   "source": [
    "class "
   ]
  },
  {
   "cell_type": "markdown",
   "id": "2a173dba",
   "metadata": {},
   "source": [
    "# Bound, unbound methods"
   ]
  },
  {
   "cell_type": "code",
   "execution_count": 35,
   "id": "e958ba76",
   "metadata": {},
   "outputs": [],
   "source": [
    "class Class:\n",
    "    def func(self):\n",
    "        print(self)"
   ]
  },
  {
   "cell_type": "code",
   "execution_count": 37,
   "id": "bed54bd4",
   "metadata": {},
   "outputs": [
    {
     "name": "stdout",
     "output_type": "stream",
     "text": [
      "10\n"
     ]
    }
   ],
   "source": [
    "Class.func(10)"
   ]
  },
  {
   "cell_type": "code",
   "execution_count": 39,
   "id": "87d6ff36",
   "metadata": {},
   "outputs": [
    {
     "name": "stdout",
     "output_type": "stream",
     "text": [
      "<__main__.Class object at 0x7f1b94f11fa0>\n"
     ]
    }
   ],
   "source": [
    "Class().func()"
   ]
  },
  {
   "cell_type": "code",
   "execution_count": 34,
   "id": "31fa4e57",
   "metadata": {},
   "outputs": [
    {
     "data": {
      "text/plain": [
       "<bound method Class.func of <__main__.Class object at 0x7f1b94f11ca0>>"
      ]
     },
     "execution_count": 34,
     "metadata": {},
     "output_type": "execute_result"
    }
   ],
   "source": [
    "Class().func"
   ]
  },
  {
   "cell_type": "code",
   "execution_count": null,
   "id": "04e80f3b",
   "metadata": {},
   "outputs": [],
   "source": []
  },
  {
   "cell_type": "code",
   "execution_count": null,
   "id": "cc9aa34a",
   "metadata": {},
   "outputs": [],
   "source": []
  },
  {
   "cell_type": "code",
   "execution_count": null,
   "id": "24c3d9ff",
   "metadata": {},
   "outputs": [],
   "source": []
  },
  {
   "cell_type": "code",
   "execution_count": 40,
   "id": "5a9619b0",
   "metadata": {},
   "outputs": [],
   "source": [
    "def func():\n",
    "    pass"
   ]
  },
  {
   "cell_type": "code",
   "execution_count": 42,
   "id": "7cd7f5a1",
   "metadata": {},
   "outputs": [],
   "source": [
    "class EmptyClass:\n",
    "    pass"
   ]
  },
  {
   "cell_type": "code",
   "execution_count": 41,
   "id": "39c0deef",
   "metadata": {},
   "outputs": [
    {
     "data": {
      "text/plain": [
       "<function __main__.func()>"
      ]
     },
     "execution_count": 41,
     "metadata": {},
     "output_type": "execute_result"
    }
   ],
   "source": [
    "func"
   ]
  },
  {
   "cell_type": "code",
   "execution_count": 44,
   "id": "a6abb7e0",
   "metadata": {},
   "outputs": [
    {
     "data": {
      "text/plain": [
       "<function __main__.func()>"
      ]
     },
     "execution_count": 44,
     "metadata": {},
     "output_type": "execute_result"
    }
   ],
   "source": [
    "func.__get__(None, EmptyClass)"
   ]
  },
  {
   "cell_type": "code",
   "execution_count": 45,
   "id": "27be16d7",
   "metadata": {},
   "outputs": [
    {
     "data": {
      "text/plain": [
       "<function __main__.Class.func(self)>"
      ]
     },
     "execution_count": 45,
     "metadata": {},
     "output_type": "execute_result"
    }
   ],
   "source": [
    "Class.func"
   ]
  },
  {
   "cell_type": "code",
   "execution_count": 49,
   "id": "2eb2c21f",
   "metadata": {},
   "outputs": [],
   "source": [
    "class GetDescriptor:\n",
    "    def __get__(self, *args):\n",
    "        print(*args)"
   ]
  },
  {
   "cell_type": "code",
   "execution_count": 53,
   "id": "819acc0e",
   "metadata": {},
   "outputs": [],
   "source": [
    "class Class:\n",
    "    attr = GetDescriptor()\n",
    "    \n",
    "    def foo():\n",
    "        pass"
   ]
  },
  {
   "cell_type": "code",
   "execution_count": 51,
   "id": "5b8ff473",
   "metadata": {},
   "outputs": [
    {
     "name": "stdout",
     "output_type": "stream",
     "text": [
      "None <class '__main__.Class'>\n"
     ]
    }
   ],
   "source": [
    "Class.attr"
   ]
  },
  {
   "cell_type": "code",
   "execution_count": 52,
   "id": "392dc122",
   "metadata": {
    "scrolled": true
   },
   "outputs": [
    {
     "name": "stdout",
     "output_type": "stream",
     "text": [
      "<__main__.Class object at 0x7f1b94cff550> <class '__main__.Class'>\n"
     ]
    }
   ],
   "source": [
    "Class().attr"
   ]
  },
  {
   "cell_type": "code",
   "execution_count": 54,
   "id": "8d402d3a",
   "metadata": {},
   "outputs": [
    {
     "data": {
      "text/plain": [
       "<bound method Class.foo of <__main__.Class object at 0x7f1b94cff4c0>>"
      ]
     },
     "execution_count": 54,
     "metadata": {},
     "output_type": "execute_result"
    }
   ],
   "source": [
    "Class().foo"
   ]
  },
  {
   "cell_type": "code",
   "execution_count": 55,
   "id": "48dfbf73",
   "metadata": {},
   "outputs": [
    {
     "data": {
      "text/plain": [
       "<bound method Class.foo of <__main__.Class object at 0x7f1b94ce4d90>>"
      ]
     },
     "execution_count": 55,
     "metadata": {},
     "output_type": "execute_result"
    }
   ],
   "source": [
    "Class().foo"
   ]
  },
  {
   "cell_type": "code",
   "execution_count": null,
   "id": "b9cbb7ff",
   "metadata": {},
   "outputs": [],
   "source": [
    "C"
   ]
  },
  {
   "cell_type": "code",
   "execution_count": null,
   "id": "b16d6b50",
   "metadata": {},
   "outputs": [],
   "source": []
  },
  {
   "cell_type": "code",
   "execution_count": null,
   "id": "6b3fb41a",
   "metadata": {},
   "outputs": [],
   "source": [
    "class Person:\n",
    "    @property\n",
    "    def age(self):\n",
    "        return self._age\n",
    "    \n",
    "    @age.setter\n",
    "    def age(self, value):\n",
    "        if value < 0:\n",
    "            raise\n",
    "    \n",
    "    @property\n",
    "    def weight(self):\n",
    "        return self_weight\n",
    "    \n",
    "    @property\n",
    "    def weight"
   ]
  },
  {
   "cell_type": "code",
   "execution_count": null,
   "id": "851e764d",
   "metadata": {},
   "outputs": [],
   "source": [
    "class PositiveInteger:\n",
    "    def __set__(self, instance, value):\n",
    "        if value < 0:\n",
    "            raise ValueError('sdfsdf')\n",
    "\n",
    "class Person:\n",
    "    age = PositiveInteger()\n",
    "    weight = PositiveInteger()\n",
    "\n",
    "Person().age = -10"
   ]
  },
  {
   "cell_type": "code",
   "execution_count": null,
   "id": "a76a6b41",
   "metadata": {},
   "outputs": [],
   "source": []
  },
  {
   "cell_type": "code",
   "execution_count": null,
   "id": "77d81aeb",
   "metadata": {},
   "outputs": [],
   "source": []
  },
  {
   "cell_type": "code",
   "execution_count": 64,
   "id": "0d3b4371",
   "metadata": {},
   "outputs": [],
   "source": [
    "class myclassmethod:\n",
    "    def __init__(self, func):\n",
    "        self.func = func\n",
    "    def __get__(self, instance, clazz=None):\n",
    "        print('get', instance, clazz)\n",
    "        def wrapper(*args, **kwargs):\n",
    "            return self.func(clazz, *args, **kwargs)\n",
    "        return wrapper"
   ]
  },
  {
   "cell_type": "code",
   "execution_count": null,
   "id": "9aceec30",
   "metadata": {},
   "outputs": [],
   "source": [
    "class mystaticmethod:\n",
    "    def __init__(self, func):\n",
    "        self.func = func\n",
    "    \n",
    "    def __get__(self, instance, clazz=None):\n",
    "        return self."
   ]
  },
  {
   "cell_type": "code",
   "execution_count": 65,
   "id": "5db54246",
   "metadata": {},
   "outputs": [],
   "source": [
    "class Foo:\n",
    "    @myclassmethod\n",
    "    def bla(*args):\n",
    "        print(args)"
   ]
  },
  {
   "cell_type": "code",
   "execution_count": 66,
   "id": "302e8acd",
   "metadata": {},
   "outputs": [
    {
     "name": "stdout",
     "output_type": "stream",
     "text": [
      "get <__main__.Foo object at 0x7f2604a993d0> <class '__main__.Foo'>\n",
      "(<class '__main__.Foo'>, 1, 2, 3)\n"
     ]
    }
   ],
   "source": [
    "Foo().bla(1,2,3)"
   ]
  },
  {
   "cell_type": "code",
   "execution_count": 50,
   "id": "a4dc16cc",
   "metadata": {},
   "outputs": [
    {
     "name": "stdout",
     "output_type": "stream",
     "text": [
      "get\n",
      "(1, 2, 3)\n"
     ]
    }
   ],
   "source": [
    "Foo().bla(1,2,3)"
   ]
  },
  {
   "cell_type": "code",
   "execution_count": 52,
   "id": "96111d45",
   "metadata": {},
   "outputs": [
    {
     "name": "stdout",
     "output_type": "stream",
     "text": [
      "get\n",
      "get\n"
     ]
    },
    {
     "data": {
      "text/plain": [
       "True"
      ]
     },
     "execution_count": 52,
     "metadata": {},
     "output_type": "execute_result"
    }
   ],
   "source": [
    "Foo().bla is Foo.bla"
   ]
  },
  {
   "cell_type": "markdown",
   "id": "64fa2d4a",
   "metadata": {},
   "source": [
    "# Data descriptors / non-data descriptors"
   ]
  },
  {
   "cell_type": "code",
   "execution_count": 89,
   "id": "b9e7b3ae",
   "metadata": {},
   "outputs": [],
   "source": [
    "class Foo:\n",
    "    def func(self):\n",
    "        pass"
   ]
  },
  {
   "cell_type": "code",
   "execution_count": 90,
   "id": "65a8481d",
   "metadata": {},
   "outputs": [],
   "source": [
    "f = Foo()"
   ]
  },
  {
   "cell_type": "code",
   "execution_count": 91,
   "id": "77f698de",
   "metadata": {},
   "outputs": [
    {
     "data": {
      "text/plain": [
       "<bound method Foo.func of <__main__.Foo object at 0x7f2604a94430>>"
      ]
     },
     "execution_count": 91,
     "metadata": {},
     "output_type": "execute_result"
    }
   ],
   "source": [
    "f.func"
   ]
  },
  {
   "cell_type": "code",
   "execution_count": 87,
   "id": "14fa8630",
   "metadata": {},
   "outputs": [],
   "source": [
    "f.func = 10"
   ]
  },
  {
   "cell_type": "code",
   "execution_count": 88,
   "id": "46595342",
   "metadata": {},
   "outputs": [
    {
     "data": {
      "text/plain": [
       "10"
      ]
     },
     "execution_count": 88,
     "metadata": {},
     "output_type": "execute_result"
    }
   ],
   "source": [
    "f.func"
   ]
  },
  {
   "cell_type": "markdown",
   "id": "63a56919",
   "metadata": {},
   "source": [
    "## Что происходит, если переопределить функцию?"
   ]
  },
  {
   "cell_type": "code",
   "execution_count": null,
   "id": "8884a492",
   "metadata": {},
   "outputs": [],
   "source": []
  },
  {
   "cell_type": "code",
   "execution_count": 74,
   "id": "0bc62fd1",
   "metadata": {},
   "outputs": [],
   "source": [
    "class Foo:\n",
    "    def func(self):\n",
    "        print('default')"
   ]
  },
  {
   "cell_type": "code",
   "execution_count": 75,
   "id": "3cca0a36",
   "metadata": {},
   "outputs": [],
   "source": [
    "def func_override(self):\n",
    "    print('overriden')"
   ]
  },
  {
   "cell_type": "code",
   "execution_count": 76,
   "id": "4844d7eb",
   "metadata": {},
   "outputs": [],
   "source": [
    "f = Foo()"
   ]
  },
  {
   "cell_type": "code",
   "execution_count": 78,
   "id": "6617dd07",
   "metadata": {},
   "outputs": [
    {
     "name": "stdout",
     "output_type": "stream",
     "text": [
      "default\n"
     ]
    }
   ],
   "source": [
    "f.func()"
   ]
  },
  {
   "cell_type": "code",
   "execution_count": 80,
   "id": "e4de7972",
   "metadata": {},
   "outputs": [],
   "source": [
    "f.func = func_override"
   ]
  },
  {
   "cell_type": "code",
   "execution_count": 81,
   "id": "fd85d84e",
   "metadata": {},
   "outputs": [
    {
     "data": {
      "text/plain": [
       "{'func': <function __main__.func_override(self)>}"
      ]
     },
     "execution_count": 81,
     "metadata": {},
     "output_type": "execute_result"
    }
   ],
   "source": [
    "f.__dict__"
   ]
  },
  {
   "cell_type": "code",
   "execution_count": 82,
   "id": "f19ff5c1",
   "metadata": {},
   "outputs": [
    {
     "data": {
      "text/plain": [
       "<function __main__.func_override(self)>"
      ]
     },
     "execution_count": 82,
     "metadata": {},
     "output_type": "execute_result"
    }
   ],
   "source": [
    "f.func"
   ]
  },
  {
   "cell_type": "code",
   "execution_count": 83,
   "id": "1bdaa219",
   "metadata": {},
   "outputs": [
    {
     "ename": "TypeError",
     "evalue": "func_override() missing 1 required positional argument: 'self'",
     "output_type": "error",
     "traceback": [
      "\u001b[0;31m---------------------------------------------------------------------------\u001b[0m",
      "\u001b[0;31mTypeError\u001b[0m                                 Traceback (most recent call last)",
      "\u001b[0;32m/tmp/ipykernel_12473/4264552588.py\u001b[0m in \u001b[0;36m<module>\u001b[0;34m\u001b[0m\n\u001b[0;32m----> 1\u001b[0;31m \u001b[0mf\u001b[0m\u001b[0;34m.\u001b[0m\u001b[0mfunc\u001b[0m\u001b[0;34m(\u001b[0m\u001b[0;34m)\u001b[0m\u001b[0;34m\u001b[0m\u001b[0;34m\u001b[0m\u001b[0m\n\u001b[0m",
      "\u001b[0;31mTypeError\u001b[0m: func_override() missing 1 required positional argument: 'self'"
     ]
    }
   ],
   "source": [
    "f.func()"
   ]
  },
  {
   "cell_type": "code",
   "execution_count": 85,
   "id": "c16b2e8b",
   "metadata": {},
   "outputs": [],
   "source": [
    "def bind(func, instance):\n",
    "    def wrapper(*args, **kwargs):\n",
    "        return func(instance, *args, **kwargs)\n",
    "    return wrapper"
   ]
  },
  {
   "cell_type": "code",
   "execution_count": 87,
   "id": "5c93ff29",
   "metadata": {},
   "outputs": [],
   "source": [
    "f.func = bind(func_override, f)"
   ]
  },
  {
   "cell_type": "code",
   "execution_count": 88,
   "id": "9d594cf3",
   "metadata": {},
   "outputs": [
    {
     "name": "stdout",
     "output_type": "stream",
     "text": [
      "overriden\n"
     ]
    }
   ],
   "source": [
    "f.func()"
   ]
  },
  {
   "cell_type": "code",
   "execution_count": null,
   "id": "6ed615b2",
   "metadata": {},
   "outputs": [],
   "source": []
  },
  {
   "cell_type": "markdown",
   "id": "0379cb0b",
   "metadata": {},
   "source": [
    "https://docs.python.org/3/library/types.html"
   ]
  },
  {
   "cell_type": "code",
   "execution_count": 75,
   "id": "663b6085",
   "metadata": {},
   "outputs": [],
   "source": [
    "import types"
   ]
  },
  {
   "cell_type": "code",
   "execution_count": 82,
   "id": "6b5c0bf1",
   "metadata": {},
   "outputs": [],
   "source": [
    "f.foo = types.MethodType(foo, f)"
   ]
  },
  {
   "cell_type": "code",
   "execution_count": 83,
   "id": "db9b7d9c",
   "metadata": {},
   "outputs": [
    {
     "name": "stdout",
     "output_type": "stream",
     "text": [
      "overriden\n"
     ]
    }
   ],
   "source": [
    "f.foo()"
   ]
  },
  {
   "cell_type": "markdown",
   "id": "b2258114",
   "metadata": {},
   "source": [
    "## Так какой же порядок резолвинга?"
   ]
  },
  {
   "cell_type": "code",
   "execution_count": null,
   "id": "25a533c7",
   "metadata": {},
   "outputs": [],
   "source": [
    "функцию удалось переопределитьф\n"
   ]
  },
  {
   "cell_type": "code",
   "execution_count": 99,
   "id": "c73b71c5",
   "metadata": {},
   "outputs": [],
   "source": [
    "class ExplainDescriptors:\n",
    "    def __init__(self):\n",
    "        print('__init__')\n",
    "\n",
    "    def __set_name__(self, owner, name):\n",
    "        print(f'__set_name__(owner={owner}, name={name})')\n",
    "        self.name = name\n",
    "\n",
    "    def __get__(self, instance, owner=None):\n",
    "        print(f'__get__(instance={instance}, owner={owner})')\n",
    "        return instance.__dict__.get(self.name)\n",
    "\n",
    "    def __set__(self, instance, value):\n",
    "        print(f'__set__(instance={instance}, value={value})')\n",
    "        instance.__dict__[self.name] = value\n",
    "\n",
    "    def __delete__(self, instance):\n",
    "        print(f'__delete__(instance={instance})')\n",
    "        del instance.__dict__[self.name]"
   ]
  },
  {
   "cell_type": "code",
   "execution_count": null,
   "id": "ad2deed5",
   "metadata": {},
   "outputs": [],
   "source": []
  },
  {
   "cell_type": "code",
   "execution_count": null,
   "id": "6d4f6169",
   "metadata": {},
   "outputs": [],
   "source": []
  },
  {
   "cell_type": "code",
   "execution_count": null,
   "id": "de0ac1a9",
   "metadata": {},
   "outputs": [],
   "source": []
  },
  {
   "cell_type": "code",
   "execution_count": null,
   "id": "41c0e387",
   "metadata": {},
   "outputs": [],
   "source": []
  },
  {
   "cell_type": "markdown",
   "id": "a469d253",
   "metadata": {},
   "source": [
    "# Metaclass"
   ]
  },
  {
   "cell_type": "code",
   "execution_count": null,
   "id": "a0796f2e",
   "metadata": {},
   "outputs": [],
   "source": [
    "class Foo:"
   ]
  },
  {
   "cell_type": "code",
   "execution_count": null,
   "id": "9ca9cc50",
   "metadata": {},
   "outputs": [],
   "source": []
  },
  {
   "cell_type": "code",
   "execution_count": 96,
   "id": "8a0ca790",
   "metadata": {},
   "outputs": [],
   "source": [
    "class MyMeta(type):\n",
    "    def __init__(meta, clsname, base, attrs):\n",
    "        print(locals())"
   ]
  },
  {
   "cell_type": "code",
   "execution_count": 98,
   "id": "a0547552",
   "metadata": {},
   "outputs": [
    {
     "name": "stdout",
     "output_type": "stream",
     "text": [
      "Foo () {'__module__': '__main__', '__qualname__': 'Foo', 'a': 2, 'func': <function Foo.func at 0x7f2604b50160>}\n"
     ]
    }
   ],
   "source": [
    "class Foo(metaclass=MyMeta):\n",
    "    a = 2\n",
    "    def func(self):\n",
    "        pass"
   ]
  },
  {
   "cell_type": "code",
   "execution_count": null,
   "id": "d5f6a3dd",
   "metadata": {},
   "outputs": [],
   "source": []
  }
 ],
 "metadata": {
  "kernelspec": {
   "display_name": "Python 3 (ipykernel)",
   "language": "python",
   "name": "python3"
  },
  "language_info": {
   "codemirror_mode": {
    "name": "ipython",
    "version": 3
   },
   "file_extension": ".py",
   "mimetype": "text/x-python",
   "name": "python",
   "nbconvert_exporter": "python",
   "pygments_lexer": "ipython3",
   "version": "3.9.5"
  },
  "toc": {
   "base_numbering": 1,
   "nav_menu": {},
   "number_sections": true,
   "sideBar": true,
   "skip_h1_title": false,
   "title_cell": "Table of Contents",
   "title_sidebar": "Contents",
   "toc_cell": false,
   "toc_position": {
    "height": "calc(100% - 180px)",
    "left": "10px",
    "top": "150px",
    "width": "251.633px"
   },
   "toc_section_display": true,
   "toc_window_display": true
  }
 },
 "nbformat": 4,
 "nbformat_minor": 5
}
